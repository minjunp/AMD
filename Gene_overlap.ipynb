{
 "cells": [
  {
   "cell_type": "code",
   "execution_count": 118,
   "metadata": {},
   "outputs": [],
   "source": [
    "import pandas as pd"
   ]
  },
  {
   "cell_type": "code",
   "execution_count": 123,
   "metadata": {},
   "outputs": [],
   "source": [
    "stage1lasso = pd.read_csv('stage1_genes.csv')\n",
    "stage2lasso = pd.read_csv('stage2_genes.csv')\n",
    "stage3lasso = pd.read_csv('stage3_genes.csv')\n",
    "stage4lasso = pd.read_csv('stage4_genes.csv')\n",
    "\n",
    "xgbsmote = pd.read_csv('xgbsmote_genelist.csv')\n",
    "xgb = pd.read_csv('xgb_genelist.csv')\n",
    "\n",
    "rf = pd.read_csv('ranking.csv', index_col = [0])\n",
    "rf.rename(columns={'rf.smote': 'ensembl_gene_id'}, inplace=True)\n",
    "\n",
    "annotated_list = pd.read_csv('AnnotationFile.tsv', sep='\\t')\n",
    "annotated_list = annotated_list[['ensembl_gene_id','external_gene_name']]"
   ]
  },
  {
   "cell_type": "code",
   "execution_count": 124,
   "metadata": {},
   "outputs": [
    {
     "data": {
      "text/html": [
       "<div>\n",
       "<style scoped>\n",
       "    .dataframe tbody tr th:only-of-type {\n",
       "        vertical-align: middle;\n",
       "    }\n",
       "\n",
       "    .dataframe tbody tr th {\n",
       "        vertical-align: top;\n",
       "    }\n",
       "\n",
       "    .dataframe thead th {\n",
       "        text-align: right;\n",
       "    }\n",
       "</style>\n",
       "<table border=\"1\" class=\"dataframe\">\n",
       "  <thead>\n",
       "    <tr style=\"text-align: right;\">\n",
       "      <th></th>\n",
       "      <th>rf</th>\n",
       "      <th>brf</th>\n",
       "      <th>ensembl_gene_id</th>\n",
       "      <th>brf.smote</th>\n",
       "    </tr>\n",
       "  </thead>\n",
       "  <tbody>\n",
       "    <tr>\n",
       "      <th>1</th>\n",
       "      <td>ENSG00000121236</td>\n",
       "      <td>ENSG00000079931</td>\n",
       "      <td>ENSG00000079931</td>\n",
       "      <td>ENSG00000079931</td>\n",
       "    </tr>\n",
       "    <tr>\n",
       "      <th>2</th>\n",
       "      <td>ENSG00000206337</td>\n",
       "      <td>ENSG00000242575</td>\n",
       "      <td>ENSG00000272239</td>\n",
       "      <td>ENSG00000205976</td>\n",
       "    </tr>\n",
       "    <tr>\n",
       "      <th>3</th>\n",
       "      <td>ENSG00000119616</td>\n",
       "      <td>ENSG00000225362</td>\n",
       "      <td>ENSG00000205976</td>\n",
       "      <td>ENSG00000272239</td>\n",
       "    </tr>\n",
       "    <tr>\n",
       "      <th>4</th>\n",
       "      <td>ENSG00000241233</td>\n",
       "      <td>ENSG00000236824</td>\n",
       "      <td>ENSG00000260788</td>\n",
       "      <td>ENSG00000206337</td>\n",
       "    </tr>\n",
       "    <tr>\n",
       "      <th>5</th>\n",
       "      <td>ENSG00000149646</td>\n",
       "      <td>ENSG00000279030</td>\n",
       "      <td>ENSG00000225362</td>\n",
       "      <td>ENSG00000260788</td>\n",
       "    </tr>\n",
       "  </tbody>\n",
       "</table>\n",
       "</div>"
      ],
      "text/plain": [
       "                rf              brf  ensembl_gene_id        brf.smote\n",
       "1  ENSG00000121236  ENSG00000079931  ENSG00000079931  ENSG00000079931\n",
       "2  ENSG00000206337  ENSG00000242575  ENSG00000272239  ENSG00000205976\n",
       "3  ENSG00000119616  ENSG00000225362  ENSG00000205976  ENSG00000272239\n",
       "4  ENSG00000241233  ENSG00000236824  ENSG00000260788  ENSG00000206337\n",
       "5  ENSG00000149646  ENSG00000279030  ENSG00000225362  ENSG00000260788"
      ]
     },
     "execution_count": 124,
     "metadata": {},
     "output_type": "execute_result"
    }
   ],
   "source": [
    "rf.head()"
   ]
  },
  {
   "cell_type": "code",
   "execution_count": 127,
   "metadata": {},
   "outputs": [],
   "source": [
    "# annotated_list = annotated_list.join(rf, rsuffix='_other')\n",
    "rf_list = pd.merge(annotated_list, rf, on='ensembl_gene_id', how='inner')[['ensembl_gene_id', 'external_gene_name']]"
   ]
  },
  {
   "cell_type": "code",
   "execution_count": 128,
   "metadata": {},
   "outputs": [
    {
     "data": {
      "text/html": [
       "<div>\n",
       "<style scoped>\n",
       "    .dataframe tbody tr th:only-of-type {\n",
       "        vertical-align: middle;\n",
       "    }\n",
       "\n",
       "    .dataframe tbody tr th {\n",
       "        vertical-align: top;\n",
       "    }\n",
       "\n",
       "    .dataframe thead th {\n",
       "        text-align: right;\n",
       "    }\n",
       "</style>\n",
       "<table border=\"1\" class=\"dataframe\">\n",
       "  <thead>\n",
       "    <tr style=\"text-align: right;\">\n",
       "      <th></th>\n",
       "      <th>ensembl_gene_id</th>\n",
       "      <th>external_gene_name</th>\n",
       "    </tr>\n",
       "  </thead>\n",
       "  <tbody>\n",
       "    <tr>\n",
       "      <th>0</th>\n",
       "      <td>ENSG00000004948</td>\n",
       "      <td>CALCR</td>\n",
       "    </tr>\n",
       "    <tr>\n",
       "      <th>1</th>\n",
       "      <td>ENSG00000009790</td>\n",
       "      <td>TRAF3IP3</td>\n",
       "    </tr>\n",
       "    <tr>\n",
       "      <th>2</th>\n",
       "      <td>ENSG00000064655</td>\n",
       "      <td>EYA2</td>\n",
       "    </tr>\n",
       "    <tr>\n",
       "      <th>3</th>\n",
       "      <td>ENSG00000064787</td>\n",
       "      <td>BCAS1</td>\n",
       "    </tr>\n",
       "    <tr>\n",
       "      <th>4</th>\n",
       "      <td>ENSG00000073598</td>\n",
       "      <td>FNDC8</td>\n",
       "    </tr>\n",
       "  </tbody>\n",
       "</table>\n",
       "</div>"
      ],
      "text/plain": [
       "   ensembl_gene_id external_gene_name\n",
       "0  ENSG00000004948              CALCR\n",
       "1  ENSG00000009790           TRAF3IP3\n",
       "2  ENSG00000064655               EYA2\n",
       "3  ENSG00000064787              BCAS1\n",
       "4  ENSG00000073598              FNDC8"
      ]
     },
     "execution_count": 128,
     "metadata": {},
     "output_type": "execute_result"
    }
   ],
   "source": [
    "rf_list.head()"
   ]
  },
  {
   "cell_type": "code",
   "execution_count": 137,
   "metadata": {},
   "outputs": [
    {
     "name": "stdout",
     "output_type": "stream",
     "text": [
      "['CALCR', 'TRAF3IP3', 'EYA2', 'BCAS1', 'FNDC8', 'FGF20', 'FDFT1', 'MOXD1', 'PTGS1', 'ACR', 'PVALB', 'TCFL5', 'NUP93', 'TSNAXIP1', 'TGM5', 'DLX5', 'CXCL12', 'CUBN', 'SLC35F2', 'FBXO5', 'WISP3', 'SPARC', 'PCDHB5', 'GNPDA1', 'TXNDC15', 'TFCP2L1', 'PECR', 'OLFML3', 'KMO', 'HSD11B1', 'CENPF', 'FCF1', 'MLANA', 'TRIM6', 'F13A1', 'COL21A1', 'IL1B', 'PLGLB2', 'MED1', 'AIF1L', 'RBM48', 'RIPK3', 'GDPD2', 'MRPL34', 'EDA2R', 'SLC39A11', 'MYH11', 'VTCN1', 'ANO3', 'APLNR', 'HRK', 'RNFT2', 'LCP1', 'SULF1', 'DUOX2', 'ADAMTS17', 'ABCA8', 'PMAIP1', 'GRB7', 'MYOM3', 'RORC', 'HHIPL2', 'ATP6V1C2', 'AMT', 'KLHL3', 'AC006014.8', 'NLGN4X', 'IGSF1', 'DPH7', 'PLEKHS1', 'CNBD2', 'MAT1A', 'TMEM18', 'CCDC3', 'SPC25', 'RASSF3', 'FAM81B', 'RSPH10B', 'CCDC28B', 'RNASEK-C17orf49', 'SYNC', 'C4orf36', 'RBM47', 'KIAA1143', 'ZNF589', 'KLKB1', 'FAM183BP', 'STEAP1', 'SYTL3', 'C8orf48', 'ALDH1A1', 'VSTM4', 'TMEM52B', 'CYP2C19', 'CCDC38', 'MYRFL', 'MC4R', 'NNMT', 'JSRP1', 'TMEM68', 'SLC22A11', 'DPCR1', 'C8orf46', 'ZNF354A', 'CKAP2L', 'C7orf33', 'P2RY6', 'MBOAT1', 'CCL19', 'CYSLTR1', 'CCDC13-AS1', 'MARCH10', 'FBXO45', 'SNAPC5', 'LINGO2', 'KCNE5', 'ZNF354B', 'LINC00843', 'PIPOX', 'SRP9P1', 'HECW1-IT1', 'C1S', 'OR2B8P', 'ZNF623', 'CCR3', 'C12orf56', 'CYP4F12', 'DEFB132', 'RUFY4', 'PAQR9', 'SKOR1', 'ANKRD34B', 'HN1', 'OR14I1', 'FHIT', 'CPNE4', 'YRDC', 'CTB-134H23.2', 'CCER1', 'SOWAHC', 'ANKRD35', 'RN7SKP118', 'C10orf62', 'RP11-247A12.2', 'PSMB8-AS1', 'RP11-204M4.2', 'MUC12', 'CLEC6A', 'RP11-404K5.2', 'HCP5', 'TRDC', 'DUSP8P3', 'ZNF663P', 'RPL17-C18orf32', 'MIF-AS1', 'AL356806.3', 'CCDC18-AS1', 'LINC01266', 'LINC00457', 'CT62', 'RP11-70C1.1', 'NTF4', 'RP11-274B18.4', 'OSTCP8', 'HORMAD2-AS1', 'ADGRF5P1', 'RP3-395M20.9', 'RP1-111D6.3', 'AP000282.3', 'FLT1P1', 'ZRANB2-AS2', 'RPL5P4', 'AC092667.2', 'SPTLC1P1', 'PPP5D1', 'RP11-111F5.3', 'XX-FW83128A1.2', 'MTND5P15', 'SEMA3B-AS1', 'AC009495.3', 'RP11-126K1.2', 'RP11-334A14.5', 'RP11-570P14.1', 'AC004947.2', 'LINC01237', 'RPS3AP44', 'LL0XNC01-116E7.1', 'VDAC1P3', 'AC009495.2', 'AC000089.3', 'NEXN-AS1', 'RP11-400N13.1', 'AC097662.2', 'RP5-857K21.15', 'BCYRN1', 'RP11-112L6.3', 'EEF1A1P31', 'MTCO1P12', 'RP11-126K1.6', 'TXNDC5', 'RP11-561O4.1', 'RN7SL213P', 'PSMB9', 'RP11-88H10.3', 'RPL12P37', 'RP11-1348G14.1', 'RP11-446H18.1', 'KRTAP5-8', 'RN7SL505P', 'RPS20P33', 'RP11-134G8.6', 'HLA-DMB', 'AC012501.3', 'HNRNPKP4', 'CFB', 'RPSAP39', 'RPS2P45', 'RP13-578N3.3', 'LINC01252', 'HMGN2P4', 'LINC01411', 'ENPP7P11', 'GAPDHP62', 'SEPT14P4', 'LINC00923', 'ZNF550', 'RNU6-548P', 'NACA2', 'CTB-78F1.1', 'EIF4A2P3', 'RP11-660L16.2', 'NAP1L1P1', 'RP11-94P11.4', 'RP11-750H9.5', 'RP11-770G2.5', 'RP11-114F3.2', 'RBBP4P5', 'CAPNS2', 'RP11-454K7.1', 'RP11-280K24.4', 'HSPE1P2', 'RP11-517O13.3', 'RAB43P1', 'CTD-2313J23.1', 'RP11-361M10.3', 'RP11-521O16.2', 'EIF4EBP2P2', 'RP11-800A3.4', 'RP11-1006G14.1', 'RP11-114H24.2', 'RP11-298D21.1', 'RP11-989E6.10', 'ATP5F1P7', 'TP53TG3B', 'RP11-196G11.4', 'RP11-420A6.2', 'CTD-2532D12.4', 'RP11-737O24.3', 'RP11-799B12.2', 'SNORA59B', 'SETP3', 'MRPL37P1', 'CTB-55O6.12', 'RP11-87G24.6', 'RP4-806M20.3', 'LINC01235', 'RP11-642C5.1', 'RP11-181E10.3', 'RP11-35J10.5', 'RP11-52L5.6', 'KB-1410C5.5', 'FAM231D', 'CTD-2376I4.2', 'CTB-108O6.2', 'RP11-305P22.9', 'RP11-801F7.1', 'RP11-18I14.11', 'CTD-2024I7.18', 'RP4-547N15.3', 'AC136612.1', 'RP11-128N14.4', 'RP11-157L3.3', 'RDM1', 'RP4-585I14.3', 'RP11-923I11.8', 'RP11-81A1.6', 'MIR6723', 'RP11-165M1.1', 'RP11-322E11.3', 'RP1-167O22.1', 'CH17-264L24.1', 'BCLAF1P2', 'RN7SKP23', 'AF111168.1', 'TRG-AS1', 'RP13-465B17.4', 'FRG1EP', 'GUSBP1', 'RP11-392E22.9', 'RP11-84A14.6']\n"
     ]
    }
   ],
   "source": [
    "s1lasso = stage1lasso['s1_var_names']\n",
    "s2lasso = stage2lasso['s2_var_names']\n",
    "s3lasso = stage3lasso['s3_var_names']\n",
    "s4lasso = stage4lasso['s4_var_names']\n",
    "\n",
    "sfew = set(s1lasso).intersection(set(s2lasso)).intersection(set(s3lasso)).intersection(set(s4lasso))\n",
    "sall = set(s1lasso).union(set(s2lasso)).union(set(s3lasso)).union(set(s4lasso))\n",
    "\n",
    "xgbs = xgbsmote['gene_name'].values\n",
    "xgbn = xgb['gene_name'].values\n",
    "rf_gene_list = rf_list['external_gene_name'].values.tolist()\n",
    "\n",
    "print(rf_gene_list)"
   ]
  },
  {
   "cell_type": "code",
   "execution_count": 135,
   "metadata": {},
   "outputs": [
    {
     "name": "stdout",
     "output_type": "stream",
     "text": [
      "{'DIO1', 'AC068831.6', 'C8orf46', 'UGT1A6', 'CPNE4', 'HRK', 'C4orf22', 'SUGCT', 'LINC01411', 'TEFM', 'AC013463.2', 'MTCO1P12', 'KMO', 'GDPD2', 'HSD11B1', 'NTF4', 'ARL11', 'PMAIP1', 'FLT1P1', 'FCF1', 'IL3RA', 'SCGB1C2', 'FAM182B', 'SEPT14P4', 'AC241585.1', 'LINC00387', 'SLC12A8', 'AC012358.8', 'RN7SL569P', 'RPS3AP44', 'APLNR', 'CKAP2L', 'TMEM207', 'GAPDHP62', 'SLC25A43', 'ACTG2', 'SRPX2', 'AC063980.3', 'INPP5A', 'RPL23AP2', 'TDRD10', 'MAT1A', 'ANO3', 'CXorf21', 'CFAP100', 'AC009487.5', 'AP000769.1', 'TBC1D3', 'SCAND3P1', 'AC053503.11', 'MLLT10P1', 'AC093627.10', 'MYHAS', 'AP003068.9', 'FAM25E', 'HIST1H3G', 'PTCHD4', 'MYH2', 'EIF4A2P3', 'AC092667.2', 'AC005752.10', 'STEAP1', 'AP000282.3', 'MBOAT1', 'RPL5P4', 'CCDC30', 'LINC00839', 'TMEM30B', 'MARCH10', 'RPL13AP7', 'C12orf56', 'AC090587.5', 'CCDC3', 'RAC1P2', 'EIF4EBP2P2', 'CT62', 'FAM81B', 'CAPNS2', 'ARHGAP36', 'ODAM', 'AC012501.2', 'RN7SL751P', 'SNORA59B', 'AC008132.13', 'MSX1', 'FNDC7', 'RPL7P6', 'RASSF3', 'CENPP', 'AL590762.11', 'RBPJP2', 'AC003006.7', 'AC104134.2', 'EMILIN2', 'MIR641', 'THAP12P7', 'PUS3', 'CATSPER4', 'ENPP7P11', 'AC073415.2', 'LINC00652', 'MYH11', 'FOXF1', 'LINC00843', 'CD69', 'FGF7P2', 'EIF5AP4', 'ENTPD1', 'FAM167A', 'CYMP', 'HHIPL2', 'LINC01006', 'RN7SKP24', 'C3orf80', 'AC116614.1', 'TMEM52B', 'AC117947.1', 'ANKRD20A2', 'IL1B', 'AC004947.2', 'GJC1', 'HSPB1P2', 'HNRNPA1L2', 'PECR', 'KRT18P58', 'VTCN1', 'HNRNPKP4', 'ZNF663P', 'SGK1', 'LINC00920', 'C10orf62', 'SMOC2', 'C7orf33', 'PTGIS', 'SEPHS1P4', 'EEF1A1P31', 'FGF20', 'RN7SL629P', 'AP002856.4', 'CHRNA3', 'CYP1B1', 'RN7SL40P', 'SNORA24', 'C1orf158', 'LINC00457', 'SNAPC5', 'FNTAL1', 'LIPH', 'PPIAP6', 'SRIP3', 'ADGRF5P1', 'AC009495.3', 'TMIGD3', 'RN7SL344P', 'FAM87A', 'PRR23D1', 'FAM231D', 'NANOGP4', 'MPEG1', 'COL21A1', 'LINC00562', 'ADGRF5P2', 'CCDC38', 'GALNT3', 'SMURF2P1', 'OR2B8P', 'SIGLEC16', 'RPSAP15', 'LRRD1', 'IGSF1', 'CLEC4D', 'RPS20P33', 'RN7SL213P', 'YWHAEP1', 'OGFOD1P1', 'MTND1P19', 'IGFN1', 'SPTLC1P1', 'C3orf20', 'LINGO2', 'COX7CP1', 'RP9P', 'JSRP1', 'ERP29P1', 'PNPLA7', 'LCP1', 'SETSIP', 'HOXC13', 'BSND', 'CAPN3', 'CT45A7', 'AC006014.8', 'MTND5P15', 'AC142293.3', 'VWA3A', 'RPS4XP1', 'OSTCP8', 'CYP4F12', 'KLF17', 'TOMM20P3', 'DLX5', 'HINT2P1', 'TDRD5', 'RAPSN', 'AP000711.1', 'LINC00967', 'SLC22A11', 'GPR39', 'SPPL2C', 'RSPH10B', 'DPCR1', 'EIF4A1P5', 'AL356806.3', 'AC084117.3', 'KLHL2P1', 'NAP1L4P1', 'PLD1', 'BRD3', 'RPS3AP47', 'MT1M', 'BCLAF1P2', 'TLR7', 'LILRB1', 'AC016700.2', 'CXCL12', 'SCGB1C1', 'AC084121.17', 'CCR3', 'RPSAP3', 'MYLPF', 'TGM5', 'RN7SL856P', 'RHBDL2', 'MEIOC', 'BCYRN1', 'KRT18P5', 'SNTG2', 'MOXD1'}  /  1021\n"
     ]
    }
   ],
   "source": [
    "## smote xbg difference with lasso \n",
    "xgbs1 = set(xgbs[:len(sall)])\n",
    "print(xgbs1.intersection(set(sall)), ' / ', len(sall))"
   ]
  },
  {
   "cell_type": "code",
   "execution_count": 145,
   "metadata": {},
   "outputs": [
    {
     "name": "stdout",
     "output_type": "stream",
     "text": [
      "{'GAPDHP69', 'AC068831.6', 'FDFT1', 'C8orf46', 'UGT1A6', 'FAM122A', 'ACSM6', 'CPNE4', 'HRK', 'C4orf22', 'LINC00694', 'FBXO5', 'KIAA0922', 'OR7E115P', 'U1', 'LINC01411', 'WFIKKN1', 'RAB43P1', 'METTL2B', 'MTCO1P12', 'HSD11B1', 'ARL11', 'SYNC', 'CCR10', 'PMAIP1', 'FLT1P1', 'LINC01397', 'FCF1', 'IL3RA', 'SCGB1C2', 'PLGLB2', 'LINC01268', 'FAM182B', 'SEPT14P4', 'RPS3AP44', 'SLC12A8', 'AC012358.8', 'RN7SL569P', 'AC104304.4', 'LINC00845', 'APLNR', 'DCAF13P3', 'STAC3', 'CKAP2L', 'GAPDHP62', 'OR14I1', 'SLC25A43', 'AC063980.3', 'INPP5A', 'RPL23AP2', 'ANO3', 'CXorf21', 'CALCA', 'RPL12P25', 'CFAP100', 'AP000769.1', 'TP53TG3B', 'NUDT17', 'TBC1D3', 'TATDN1P1', 'SCAND3P1', 'LCTL', 'AMN', 'SLC35F2', 'LINC01102', 'PTCHD4', 'ARMC4P1', 'AC005752.10', 'TLL2', 'AC092667.2', 'GSG1L2', 'ERICH1', 'OLFML3', 'STEAP1', 'AP000282.3', 'MBOAT1', 'RPL5P4', 'LINC00839', 'SPIC', 'ACSL5', 'LINC01396', 'MARCH10', 'RPL13AP7', 'SMIM2', 'C12orf56', 'AC005220.3', 'AC090587.5', 'CCDC3', 'PLA2G3', 'TCFL5', 'EIF4EBP2P2', 'NXF3', 'CT62', 'CAPNS2', 'FAM81B', 'ARHGAP36', 'AGBL3', 'NANOS1', 'SNORA59B', 'AC008132.13', 'MSX1', 'FNDC7', 'ACR', 'S100B', 'AC003006.7', 'AC104134.2', 'EMILIN2', 'MIR641', 'POTEKP', 'SRP9P1', 'CATSPER4', 'ENPP7P11', 'EIF5P1', 'HSP90B3P', 'HAO2', 'TRAF3IP3', 'MYH11', 'AC000089.3', 'LINC00843', 'NAP1L1P1', 'FOXF1', 'CD69', 'RPS2P45', 'CENPH', 'EIF5AP4', 'CYMP', 'FAM167A', 'C3orf80', 'LINC01006', 'IL1B', 'MOXD1', 'F13A1', 'AC116614.1', 'TMEM52B', 'AC117947.1', 'ANKRD20A2', 'AC004947.2', 'HNRNPA1L2', 'PECR', 'VTCN1', 'RN7SL650P', 'RAB17', 'AC002984.2', 'SGK1', 'LINC00920', 'C10orf62', 'SMOC2', 'VDAC1P3', 'PTGIS', 'LINC00836', 'SERPINI2', 'SEPHS1P4', 'SLAMF1', 'AC010967.2', 'FMO3', 'CHRNA3', 'LINC00987', 'CYP1B1', 'NPIPB7', 'RPL7P51', 'SNORA24', 'AC136612.1', 'LINC00457', 'SNAPC5', 'LIPH', 'CD48', 'AC009495.3', 'TMIGD3', 'AF111168.1', 'FAM87A', 'PRR23D1', 'AP001055.6', 'TFCP2L1', 'LHFPL1', 'FAM231D', 'MPEG1', 'RN7SL81P', 'COL21A1', 'LINC00562', 'CCDC38', 'SH2D3A', 'SERBP1P1', 'OR2B8P', 'AC092669.3', 'PI16', 'SIGLEC16', 'RPSAP15', 'HSPE1P2', 'WISP3', 'VCAN', 'LRRD1', 'IGSF1', 'LINC00618', 'RPS20P33', 'YWHAEP1', 'OGFOD1P1', 'RNPS1P1', 'IGFN1', 'ADAMTS16', 'SPTLC1P1', 'S100A10', 'LDHAL6A', 'C3orf20', 'LINGO2', 'COX7CP1', 'RP9P', 'FITM1', 'JSRP1', 'LAPTM4BP2', 'ERP29P1', 'LCP1', 'AC007041.2', 'LINC00923', 'AC006014.8', 'MTND5P15', 'OSTCP8', 'CYP4F12', 'C5orf46', 'PLN', 'TDRD5', 'RAPSN', 'CHP2', 'AP000711.1', 'SLC22A11', 'LINC00967', 'SPPL2C', 'AC002310.11', 'RSPH10B', 'MSX2', 'GPR39', 'DPCR1', 'EIF4A1P5', 'NEXN', 'HOXC4', 'LRP11', 'GGTA1P', 'RPS3AP47', 'CCR3', 'TAF8', 'SCGB1C1', 'MTND5P30', 'LINC00982', 'SNHG22', 'RN7SL856P', 'AC092159.3', 'MEIOC', 'BCYRN1', 'PMP2', 'TXNDC5', 'AC002066.1', 'MUC12', 'DSCR4', 'KRT18P5', 'DUOX2'}  /  1021\n"
     ]
    }
   ],
   "source": [
    "## stage 1 non smote xgb overlap with lasso\n",
    "xgbn1 = set(xgbn[:len(sall)])\n",
    "print(xgbn1.intersection(set(sall)), ' / ', len(sall))"
   ]
  },
  {
   "cell_type": "code",
   "execution_count": 152,
   "metadata": {},
   "outputs": [
    {
     "name": "stdout",
     "output_type": "stream",
     "text": [
      "{'TMEM68', 'C8orf46', 'CCDC13-AS1', 'PPP5D1', 'C12orf56', 'RP11-521O16.2', 'PSMB9', 'LINC01411', 'AC006014.8', 'CYP4F12', 'ZNF550', 'KRTAP5-8', 'CT62', 'FAM81B', 'SYNC', 'VSTM4', 'RP11-112L6.3', 'AC012501.3', 'RUFY4', 'RP11-126K1.6', 'RP11-274B18.4', 'ANKRD34B', 'DPCR1', 'RPS3AP44', 'RP11-989E6.10', 'ACR', 'GUSBP1', 'OR14I1', 'AIF1L', 'AC000089.3', 'RP11-517O13.3', 'CCDC28B', 'TRIM6', 'RP11-404K5.2', 'RP11-737O24.3', 'RPS20P33', 'SOWAHC', 'ABCA8', 'CTB-134H23.2', 'KIAA1143', 'RP3-395M20.9', 'RP1-167O22.1', 'RN7SKP23', 'RP11-126K1.2', 'KB-1410C5.5', 'RP11-322E11.3', 'VTCN1', 'BCYRN1', 'LINGO2', 'SYTL3', 'MUC12', 'NLGN4X', 'VDAC1P3'}  /  300\n"
     ]
    }
   ],
   "source": [
    "## Compare random forest and XGBoost gene list\n",
    "## 53 common genes between XGBoost non smote and Random Forest top 300\n",
    "xgbn2 = set(xgbn[:len(rf_gene_list)])\n",
    "set1 = xgbn2.intersection(set(rf_gene_list))\n",
    "print(set1, ' / ', len(set(rf_gene_list)))"
   ]
  },
  {
   "cell_type": "code",
   "execution_count": 159,
   "metadata": {},
   "outputs": [
    {
     "name": "stdout",
     "output_type": "stream",
     "text": [
      "{'MRPL34', 'LCP1', 'P2RY6', 'CTD-2532D12.4', 'C8orf46', 'RP11-298D21.1', 'HRK', 'C12orf56', 'SLC39A11', 'RP11-165M1.1', 'PSMB9', 'C8orf48', 'SNAPC5', 'CYP4F12', 'OSTCP8', 'ZNF550', 'KMO', 'ADGRF5P1', 'RP13-578N3.3', 'FAM81B', 'FCF1', 'HCP5', 'RP11-88H10.3', 'DPCR1', 'RP11-94P11.4', 'ZNF354A', 'AL356806.3', 'RASSF3', 'APLNR', 'MED1', 'RP11-114H24.2', 'OR2B8P', 'ENPP7P11', 'RNFT2', 'CTB-108O6.2', 'ZNF623', 'C1S', 'BCLAF1P2', 'CCDC18-AS1', 'RP11-404K5.2', 'ANO3', 'CCR3', 'AC009495.2', 'PIPOX', 'RPS20P33', 'NEXN-AS1', 'TGM5', 'KCNE5', 'CTB-134H23.2', 'CFB', 'HN1', 'RP11-114F3.2', 'RP11-111F5.3', 'CCER1', 'FHIT', 'BCYRN1', 'CLEC6A', 'RP11-446H18.1', 'C10orf62', 'MBOAT1'}  /  300\n"
     ]
    }
   ],
   "source": [
    "## Compare random forest and XGBoost gene list\n",
    "## 60 common genes between XGBoost smote and Random Forest top 300\n",
    "xgbs2 = set(xgbs[:len(rf_gene_list)])\n",
    "set2 = xgbs2.intersection(set(rf_gene_list))\n",
    "print(set2, ' / ', len(set(rf_gene_list)))"
   ]
  },
  {
   "cell_type": "code",
   "execution_count": 169,
   "metadata": {},
   "outputs": [
    {
     "name": "stdout",
     "output_type": "stream",
     "text": [
      "{'FDFT1', 'C8orf46', 'HRK', 'CPNE4', 'MIR6723', 'FBXO5', 'RBBP4P5', 'LINC01411', 'RAB43P1', 'MTCO1P12', 'HSD11B1', 'GDPD2', 'KMO', 'NTF4', 'SYNC', 'PMAIP1', 'FCF1', 'FLT1P1', 'RPSAP39', 'PLGLB2', 'YRDC', 'RPS3AP44', 'SEPT14P4', 'APLNR', 'CKAP2L', 'GAPDHP62', 'OR14I1', 'MAT1A', 'ANO3', 'FAM183BP', 'TP53TG3B', 'ALDH1A1', 'SLC35F2', 'EIF4A2P3', 'OLFML3', 'STEAP1', 'AC092667.2', 'AP000282.3', 'RPL5P4', 'MBOAT1', 'MARCH10', 'C12orf56', 'CCDC3', 'TCFL5', 'EIF4EBP2P2', 'CT62', 'FAM81B', 'CAPNS2', 'SNORA59B', 'RASSF3', 'ACR', 'SRP9P1', 'ENPP7P11', 'TRAF3IP3', 'MYH11', 'AC000089.3', 'LINC00843', 'NAP1L1P1', 'RPS2P45', 'IL1B', 'MOXD1', 'HHIPL2', 'F13A1', 'TMEM52B', 'AC004947.2', 'PECR', 'VTCN1', 'HNRNPKP4', 'ZNF663P', 'C10orf62', 'DEFB132', 'VDAC1P3', 'C7orf33', 'FGF20', 'EEF1A1P31', 'RN7SL505P', 'MRPL37P1', 'LINC00457', 'AC136612.1', 'SNAPC5', 'ADGRF5P1', 'AC009495.3', 'AF111168.1', 'TFCP2L1', 'FAM231D', 'HMGN2P4', 'COL21A1', 'CCDC38', 'OR2B8P', 'HSPE1P2', 'WISP3', 'IGSF1', 'LINC01235', 'RPS20P33', 'FNDC8', 'RN7SL213P', 'SPTLC1P1', 'LINGO2', 'JSRP1', 'NACA2', 'TRDC', 'LCP1', 'AC006014.8', 'MTND5P15', 'LINC00923', 'CYP4F12', 'OSTCP8', 'DLX5', 'CCL19', 'SLC22A11', 'RSPH10B', 'DPCR1', 'AL356806.3', 'BCLAF1P2', 'CXCL12', 'CCR3', 'TGM5', 'RN7SKP118', 'FRG1EP', 'BCYRN1', 'TMEM18', 'TXNDC5', 'MUC12', 'RPL12P37', 'DUOX2'}  /  300\n"
     ]
    }
   ],
   "source": [
    "## Compare genes between Random Forest and Lasso\n",
    "## 125 genes common between lasso and Random Forest\n",
    "set3 = sall.intersection(set(rf_gene_list))\n",
    "print(set3, ' / ', len(set(rf_gene_list)))"
   ]
  },
  {
   "cell_type": "code",
   "execution_count": 170,
   "metadata": {},
   "outputs": [
    {
     "name": "stdout",
     "output_type": "stream",
     "text": [
      "{'C8orf46', 'C12orf56', 'LINC01411', 'AC006014.8', 'CYP4F12', 'CT62', 'FAM81B', 'SYNC', 'DPCR1', 'RPS3AP44', 'ACR', 'OR14I1', 'AC000089.3', 'RPS20P33', 'VTCN1', 'BCYRN1', 'LINGO2', 'MUC12', 'VDAC1P3'}\n"
     ]
    }
   ],
   "source": [
    "## Total common genes between Rf smote, xgb non smote, Lasso\n",
    "# 19 common genes\n",
    "print(set1.intersection(set3))"
   ]
  },
  {
   "cell_type": "code",
   "execution_count": 173,
   "metadata": {},
   "outputs": [
    {
     "name": "stdout",
     "output_type": "stream",
     "text": [
      "{'LCP1', 'C8orf46', 'HRK', 'C12orf56', 'SNAPC5', 'OSTCP8', 'CYP4F12', 'KMO', 'ADGRF5P1', 'FAM81B', 'FCF1', 'DPCR1', 'AL356806.3', 'RASSF3', 'APLNR', 'OR2B8P', 'ENPP7P11', 'BCLAF1P2', 'ANO3', 'CCR3', 'RPS20P33', 'TGM5', 'BCYRN1', 'C10orf62', 'MBOAT1'}\n"
     ]
    }
   ],
   "source": [
    "## Total common genes between Rf smote, xgb non smote, Lasso\n",
    "# 25 common genes\n",
    "print(set2.intersection(set3))"
   ]
  },
  {
   "cell_type": "code",
   "execution_count": null,
   "metadata": {},
   "outputs": [],
   "source": []
  }
 ],
 "metadata": {
  "kernelspec": {
   "display_name": "Python 3",
   "language": "python",
   "name": "python3"
  },
  "language_info": {
   "codemirror_mode": {
    "name": "ipython",
    "version": 3
   },
   "file_extension": ".py",
   "mimetype": "text/x-python",
   "name": "python",
   "nbconvert_exporter": "python",
   "pygments_lexer": "ipython3",
   "version": "3.7.3"
  }
 },
 "nbformat": 4,
 "nbformat_minor": 4
}
