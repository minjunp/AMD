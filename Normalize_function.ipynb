{
 "cells": [
  {
   "cell_type": "code",
   "execution_count": 1,
   "metadata": {},
   "outputs": [],
   "source": [
    "import pandas as pd\n",
    "import numpy as np\n",
    "import matplotlib.pyplot as plt\n",
    "import seaborn as sns\n",
    "from sklearn import manifold\n",
    "from sklearn.manifold import TSNE\n",
    "from mpl_toolkits.mplot3d import Axes3D\n",
    "from matplotlib.ticker import NullFormatter\n",
    "from sklearn.decomposition import PCA\n",
    "import seaborn as sns\n",
    "import matplotlib.pyplot as plt\n",
    "\n",
    "from time import time"
   ]
  },
  {
   "cell_type": "code",
   "execution_count": null,
   "metadata": {},
   "outputs": [],
   "source": [
    "def normalize_function(string_name):\n",
    "    ## Load the file\n",
    "    df_train = pd.read_csv(string_name, sep='\\t',index_col=0)\n",
    "    \n",
    "    ## Normalizing for library depth\n",
    "    sum_col = df_train.sum(axis=0)\n",
    "    new_df = df_train.div(df_train.sum(axis=0), axis=1)\n",
    "    max_ld = df_train.sum(axis=0).max()\n",
    "    new_df2 = new_df.multiply(max_ld)\n",
    "    \n",
    "    ## Standardize across row\n",
    "    ave = new_df2.mean(axis=1)\n",
    "    sig = new_df2.std(axis=1)\n",
    "    df_sub = new_df2.sub(new_df2.mean(axis=1), axis=0)\n",
    "    df_standardize = df_sub.div(df_sub.std(axis=1), axis=0)\n",
    "    return df_standardize\n",
    "    "
   ]
  }
 ],
 "metadata": {
  "kernelspec": {
   "display_name": "Python 3",
   "language": "python",
   "name": "python3"
  },
  "language_info": {
   "codemirror_mode": {
    "name": "ipython",
    "version": 3
   },
   "file_extension": ".py",
   "mimetype": "text/x-python",
   "name": "python",
   "nbconvert_exporter": "python",
   "pygments_lexer": "ipython3",
   "version": "3.7.3"
  }
 },
 "nbformat": 4,
 "nbformat_minor": 4
}
