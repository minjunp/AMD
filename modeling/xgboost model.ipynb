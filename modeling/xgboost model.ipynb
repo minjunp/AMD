{
 "cells": [
  {
   "cell_type": "code",
   "execution_count": 1,
   "metadata": {},
   "outputs": [],
   "source": [
    "import pandas as pd\n",
    "import numpy as np\n",
    "import matplotlib.pyplot as plt\n",
    "import seaborn as sns\n",
    "from sklearn import manifold\n",
    "from sklearn.manifold import TSNE\n",
    "from mpl_toolkits.mplot3d import Axes3D\n",
    "from matplotlib.ticker import NullFormatter\n",
    "from sklearn.decomposition import PCA\n",
    "import seaborn as sns\n",
    "import matplotlib.pyplot as plt\n",
    "\n",
    "from time import time\n",
    "import seaborn as sns\n",
    "from sklearn.linear_model import Lasso, LogisticRegression\n",
    "from sklearn.feature_selection import SelectFromModel\n",
    "from sklearn.preprocessing import StandardScaler\n",
    "from sklearn.model_selection import cross_validate\n",
    "from sklearn.model_selection import GridSearchCV\n",
    "from sklearn.model_selection import StratifiedKFold\n",
    "from sklearn import datasets, linear_model\n",
    "import sys\n",
    "\n",
    "import xgboost as xgb\n",
    "import shap\n",
    "from imblearn.pipeline import Pipeline\n",
    "from sklearn.utils import class_weight\n",
    "from imblearn.over_sampling import SMOTE"
   ]
  },
  {
   "cell_type": "markdown",
   "metadata": {},
   "source": [
    "## 1 Read in Train/Test Sets"
   ]
  },
  {
   "cell_type": "code",
   "execution_count": 19,
   "metadata": {},
   "outputs": [],
   "source": [
    "train = pd.read_csv('4klog2Norm.tsv', sep='\\t',index_col=[0]).transpose()\n",
    "# train = pd.read_csv('18kCPMNorm.tsv', sep='\\t',index_col=[0]).transpose()\n",
    "# intersect = [row for row in train.index if row not in t.index]\n",
    "# train.drop(intersect, axis=0, inplace=True)\n",
    "# train.index = np.array([int(x[-1]) for x in train.index])\n",
    "# train.index\n",
    "# plt.figure(figsize = (10, 7))\n",
    "# sns.heatmap(train, annot=True)"
   ]
  },
  {
   "cell_type": "code",
   "execution_count": 20,
   "metadata": {},
   "outputs": [],
   "source": [
    "# test = pd.read_csv('NormTest_name.tsv', sep='\\t',index_col=[0])\n",
    "# test.head()"
   ]
  },
  {
   "cell_type": "code",
   "execution_count": 5,
   "metadata": {},
   "outputs": [],
   "source": [
    "# # check to make sure train and test sets are correct\n",
    "# print('Number of matching rows:', len(np.intersect1d(train.index, test.index)))\n",
    "# print('Number of matching cols:', len(np.intersect1d(train.columns, test.columns)))"
   ]
  },
  {
   "cell_type": "code",
   "execution_count": 6,
   "metadata": {},
   "outputs": [],
   "source": [
    "# ## new dataframes for binary classification\n",
    "idxs13 = (train.index == 1) + (train.index == 3)\n",
    "train13 = train[idxs13]\n",
    "idxs14 = (train.index == 1) + (train.index == 4)\n",
    "train14 = train[idxs14]"
   ]
  },
  {
   "cell_type": "markdown",
   "metadata": {},
   "source": [
    "# 2 Training XGBoost with Grid Search"
   ]
  },
  {
   "cell_type": "code",
   "execution_count": 22,
   "metadata": {},
   "outputs": [
    {
     "data": {
      "text/plain": [
       "array([2, 1, 3, 4, 1, 4, 1, 4, 2, 3, 2, 1, 2, 3, 4, 3, 2, 4, 1, 2, 2, 3,\n",
       "       1, 1, 2, 3, 4, 3, 1, 4, 2, 2, 2, 3, 2, 1, 2, 3, 4, 1, 2, 1, 2, 3,\n",
       "       1, 2, 2, 2, 1, 2, 2, 2, 2, 1, 2, 2, 1, 3, 2, 3, 1, 3, 4, 3, 3, 3,\n",
       "       2, 4, 3, 2, 3, 3, 4, 3, 1, 3, 4, 2, 1, 3, 2, 2, 2, 1, 1, 3, 2, 3,\n",
       "       1, 2, 1, 2, 2, 4, 3, 4, 3, 3, 2, 3, 4, 2, 1, 3, 1, 1, 2, 1, 3, 2,\n",
       "       1, 1, 1, 3, 2, 2, 2, 1, 2, 2, 3, 3, 3, 2, 3, 1, 3, 1, 1, 3, 3, 3,\n",
       "       3, 3, 3, 1, 1, 4, 3, 4, 4, 1, 2, 3, 1, 1, 2, 2, 1, 3, 2, 3, 2, 1,\n",
       "       2, 2, 2, 2, 4, 3, 2, 2, 4, 1, 3, 3, 3, 2, 2, 3, 2, 3, 2, 2, 2, 3,\n",
       "       1, 1, 3, 2, 1, 2, 3, 3, 3, 3, 3, 1, 2, 3, 2, 3, 2, 1, 3, 2, 2, 2,\n",
       "       1, 3, 3, 2, 4, 4, 1, 2, 4, 2, 1, 1, 3, 1, 1, 2, 1, 4, 1, 2, 2, 2,\n",
       "       3, 2, 2, 3, 3, 2, 1, 3, 2, 2, 4, 1, 3, 1, 2, 4, 1, 1, 3, 4, 2, 1,\n",
       "       2, 4, 2, 2, 1, 2, 2, 2, 1, 4, 2, 1, 4, 3, 2, 4, 2, 2, 2, 2, 3, 3,\n",
       "       4, 1, 1, 2, 2, 2, 2, 1, 2, 4, 3, 2, 2, 2, 1, 1, 2, 2, 2, 3, 3, 1,\n",
       "       4, 2, 2, 3, 2, 2, 4, 2, 2, 1, 2, 4, 2, 2, 1, 1, 2, 3, 2, 4, 1, 2,\n",
       "       1, 2, 3, 2, 2, 1, 1, 2, 3, 3, 3, 3, 2, 3, 4, 2, 1, 2, 1, 4, 2, 4,\n",
       "       2, 4, 2, 2, 3, 2, 2, 2, 1, 3, 2, 2, 2, 2, 1, 2, 2, 2, 4, 2, 1, 4,\n",
       "       2, 4, 1, 2, 2, 4, 1, 3, 4, 3, 4, 3, 1, 3, 2, 3, 1, 3, 4, 3, 4, 3,\n",
       "       1, 2, 4, 1, 1, 2, 2, 1, 2, 3, 2, 1, 2, 1, 2, 2, 1, 2, 1, 2, 1, 2,\n",
       "       3, 2, 4, 1, 1, 3, 2, 1, 2, 4, 2])"
      ]
     },
     "execution_count": 22,
     "metadata": {},
     "output_type": "execute_result"
    }
   ],
   "source": [
    "# create the training matrix and label vector\n",
    "X_train = train.values\n",
    "y_train = np.array([int(x[-1]) for x in train.index])\n",
    "y_train"
   ]
  },
  {
   "cell_type": "code",
   "execution_count": 7,
   "metadata": {},
   "outputs": [],
   "source": [
    "# Binary classification groups\n",
    "X_train13 = train13.values\n",
    "y_train13 = train13.index\n",
    "X_train14 = train14.values\n",
    "y_train14 = train14.index"
   ]
  },
  {
   "cell_type": "code",
   "execution_count": 23,
   "metadata": {},
   "outputs": [
    {
     "name": "stdout",
     "output_type": "stream",
     "text": [
      "Before oversampling, counts of label '1': 97\n",
      "Before oversampling, counts of label '2': 160\n",
      "Before oversampling, counts of label '3': 98\n",
      "Before oversampling, counts of label '4': 52\n"
     ]
    }
   ],
   "source": [
    "print(\"Before oversampling, counts of label '1': {}\".format(sum(y_train==1)))\n",
    "print(\"Before oversampling, counts of label '2': {}\".format(sum(y_train==2)))\n",
    "print(\"Before oversampling, counts of label '3': {}\".format(sum(y_train==3)))\n",
    "print(\"Before oversampling, counts of label '4': {}\".format(sum(y_train==4)))"
   ]
  },
  {
   "cell_type": "code",
   "execution_count": 8,
   "metadata": {},
   "outputs": [],
   "source": [
    "# define initial grid search space\n",
    "grid1 = {\n",
    "    'max_depth' : range(1,6,2),\n",
    "    'min_child_weight' : range(1,6,2),\n",
    "    'reg_alpha' : [1e-5, 0.1, 1],\n",
    "    'learning_rate' : [0.01, 0.1]\n",
    "}\n",
    "\n",
    "search1 = GridSearchCV(estimator=xgb.XGBClassifier(learning_rate=0.1, n_estimators=100, max_depth=5, min_child_weight=1,\n",
    "                                                  gamma=0, subsample=0.8,colsample_bytree=0.8, objective='multi:softmax',\n",
    "                                                  n_jobs=4, scale_pos_weight=1, seed=27, num_classes=4, verbose=3),\n",
    "                      param_grid = grid1, scoring='f1_micro', n_jobs=4, cv=10, iid=False)"
   ]
  },
  {
   "cell_type": "code",
   "execution_count": 9,
   "metadata": {},
   "outputs": [
    {
     "name": "stderr",
     "output_type": "stream",
     "text": [
      "C:\\Users\\Zach Moxley\\Anaconda3\\envs\\dsci435\\lib\\site-packages\\sklearn\\model_selection\\_search.py:823: FutureWarning: The parameter 'iid' is deprecated in 0.22 and will be removed in 0.24.\n",
      "  \"removed in 0.24.\", FutureWarning\n"
     ]
    },
    {
     "name": "stdout",
     "output_type": "stream",
     "text": [
      "Runtime: 231.81082890431085 minutes\n"
     ]
    },
    {
     "ename": "AttributeError",
     "evalue": "'GridSearchCV' object has no attribute 'best_score'",
     "output_type": "error",
     "traceback": [
      "\u001b[1;31m---------------------------------------------------------------------------\u001b[0m",
      "\u001b[1;31mAttributeError\u001b[0m                            Traceback (most recent call last)",
      "\u001b[1;32m<ipython-input-9-db9561a8a5a0>\u001b[0m in \u001b[0;36m<module>\u001b[1;34m\u001b[0m\n\u001b[0;32m      3\u001b[0m \u001b[0mendtime\u001b[0m \u001b[1;33m=\u001b[0m \u001b[0mtime\u001b[0m\u001b[1;33m(\u001b[0m\u001b[1;33m)\u001b[0m\u001b[1;33m\u001b[0m\u001b[1;33m\u001b[0m\u001b[0m\n\u001b[0;32m      4\u001b[0m \u001b[0mprint\u001b[0m\u001b[1;33m(\u001b[0m\u001b[1;34m'Runtime:'\u001b[0m\u001b[1;33m,\u001b[0m\u001b[1;33m(\u001b[0m\u001b[0mendtime\u001b[0m\u001b[1;33m-\u001b[0m\u001b[0mstarttime\u001b[0m\u001b[1;33m)\u001b[0m\u001b[1;33m/\u001b[0m\u001b[1;36m60\u001b[0m\u001b[1;33m,\u001b[0m \u001b[1;34m'minutes'\u001b[0m\u001b[1;33m)\u001b[0m\u001b[1;33m\u001b[0m\u001b[1;33m\u001b[0m\u001b[0m\n\u001b[1;32m----> 5\u001b[1;33m \u001b[0msearch1\u001b[0m\u001b[1;33m.\u001b[0m\u001b[0mscorer_\u001b[0m\u001b[1;33m,\u001b[0m \u001b[0msearch1\u001b[0m\u001b[1;33m.\u001b[0m\u001b[0mbest_params_\u001b[0m\u001b[1;33m,\u001b[0m \u001b[0msearch1\u001b[0m\u001b[1;33m.\u001b[0m\u001b[0mbest_score\u001b[0m\u001b[1;33m\u001b[0m\u001b[1;33m\u001b[0m\u001b[0m\n\u001b[0m",
      "\u001b[1;31mAttributeError\u001b[0m: 'GridSearchCV' object has no attribute 'best_score'"
     ]
    }
   ],
   "source": [
    "starttime = time()\n",
    "search1.fit(X_train, y_train)\n",
    "endtime = time()\n",
    "print('Runtime:',(endtime-starttime)/60, 'minutes')"
   ]
  },
  {
   "cell_type": "code",
   "execution_count": 10,
   "metadata": {},
   "outputs": [
    {
     "data": {
      "text/plain": [
       "(make_scorer(f1_score, pos_label=None, average=micro),\n",
       " {'learning_rate': 0.1,\n",
       "  'max_depth': 5,\n",
       "  'min_child_weight': 3,\n",
       "  'reg_alpha': 0.1},\n",
       " 0.49835365853658536)"
      ]
     },
     "execution_count": 10,
     "metadata": {},
     "output_type": "execute_result"
    }
   ],
   "source": [
    "search1.scorer_, search1.best_params_, search1.best_score_"
   ]
  },
  {
   "cell_type": "code",
   "execution_count": 7,
   "metadata": {},
   "outputs": [],
   "source": [
    "best1 = xgb.XGBClassifier(learning_rate=0.1, n_estimators=100, max_depth=5, min_child_weight=3, gamma=0, subsample=0.8,\n",
    "                          colsample_bytree=0.8, objective='multi:softmax', n_jobs=4, scale_pos_weight=1, seed=27,\n",
    "                          num_classes=4, verbose=3)\n",
    "\n",
    "grid2 = {\n",
    "    'subsample' : [0.6, 0.7, 0.8],\n",
    "    'colsample_bytree' : [0.6, 0.7, 0.8]\n",
    "}\n",
    "\n",
    "search2 = GridSearchCV(estimator=best1, param_grid=grid2, scoring='f1_micro', n_jobs=4, cv=10, iid=False)"
   ]
  },
  {
   "cell_type": "code",
   "execution_count": 8,
   "metadata": {},
   "outputs": [
    {
     "name": "stderr",
     "output_type": "stream",
     "text": [
      "C:\\Users\\Zach Moxley\\Anaconda3\\envs\\dsci435\\lib\\site-packages\\sklearn\\model_selection\\_search.py:823: FutureWarning: The parameter 'iid' is deprecated in 0.22 and will be removed in 0.24.\n",
      "  \"removed in 0.24.\", FutureWarning\n"
     ]
    },
    {
     "name": "stdout",
     "output_type": "stream",
     "text": [
      "Runtime: 52.69484703540802 minutes\n"
     ]
    },
    {
     "data": {
      "text/plain": [
       "(make_scorer(f1_score, pos_label=None, average=micro),\n",
       " {'colsample_bytree': 0.8, 'subsample': 0.7},\n",
       " 0.5184146341463415)"
      ]
     },
     "execution_count": 8,
     "metadata": {},
     "output_type": "execute_result"
    }
   ],
   "source": [
    "starttime = time()\n",
    "search2.fit(X_train, y_train)\n",
    "endtime = time()\n",
    "print('Runtime:',(endtime-starttime)/60, 'minutes')\n",
    "search2.scorer_, search2.best_params_, search2.best_score_"
   ]
  },
  {
   "cell_type": "code",
   "execution_count": 40,
   "metadata": {},
   "outputs": [],
   "source": [
    "best2 = xgb.XGBClassifier(learning_rate=0.1, n_estimators=100, max_depth=5, min_child_weight=3, gamma=0, subsample=0.7,\n",
    "                          colsample_bytree=0.8, objective='multi:softmax', n_jobs=4, scale_pos_weight=1, seed=27,\n",
    "                          num_classes=4, verbose=3)"
   ]
  },
  {
   "cell_type": "code",
   "execution_count": null,
   "metadata": {},
   "outputs": [],
   "source": [
    "from sklearn.model_selection import cross_val_predict\n",
    "y_pred = cross_val_predict(best2, X_train, y_train, cv=StratifiedKFold(n_splits=10), verbose=10)\n",
    "y_pred, y_train"
   ]
  },
  {
   "cell_type": "code",
   "execution_count": 26,
   "metadata": {},
   "outputs": [
    {
     "data": {
      "text/plain": [
       "<matplotlib.axes._subplots.AxesSubplot at 0x15422dc21c8>"
      ]
     },
     "execution_count": 26,
     "metadata": {},
     "output_type": "execute_result"
    },
    {
     "data": {
      "image/png": "[encoded data removed]",
      "text/plain": [
       "<Figure size 720x504 with 2 Axes>"
      ]
     },
     "metadata": {
      "needs_background": "light"
     },
     "output_type": "display_data"
    }
   ],
   "source": [
    "# confusion matrix\n",
    "from sklearn.metrics import confusion_matrix\n",
    "matrix = confusion_matrix(y_train, y_pred)\n",
    "df_cm = pd.DataFrame(matrix, index = [i for i in \"1234\"],\n",
    "                  columns = [i for i in \"1234\"])\n",
    "plt.figure(figsize = (10, 7))\n",
    "sns.heatmap(df_cm, annot=True)"
   ]
  },
  {
   "cell_type": "code",
   "execution_count": 27,
   "metadata": {},
   "outputs": [
    {
     "name": "stdout",
     "output_type": "stream",
     "text": [
      "Runtime: 4.337066173553467 minutes\n"
     ]
    },
    {
     "data": {
      "text/plain": [
       "(make_scorer(f1_score, pos_label=None, average=micro),\n",
       " {'classification__colsample_bytree': 0.6,\n",
       "  'classification__learning_rate': 0.1,\n",
       "  'classification__max_depth': 5,\n",
       "  'classification__min_child_weight': 3,\n",
       "  'classification__n_estimators': 100,\n",
       "  'classification__n_jobs': 4,\n",
       "  'classification__num_classes': 4,\n",
       "  'classification__objective': 'multi:softmax',\n",
       "  'classification__seed': 27,\n",
       "  'classification__subsample': 0.8,\n",
       "  'sampling__random_state': 7,\n",
       "  'sampling__sampling_strategy': 'not majority'},\n",
       " 0.5159756097560976)"
      ]
     },
     "execution_count": 27,
     "metadata": {},
     "output_type": "execute_result"
    }
   ],
   "source": [
    "model = Pipeline([\n",
    "        ('sampling', SMOTE()),\n",
    "        ('classification', xgb.XGBClassifier())\n",
    "    ])\n",
    "\n",
    "\n",
    "param_dist = {'classification__learning_rate' : [0.1],\n",
    "              'classification__n_estimators' : [100],\n",
    "              'classification__subsample': [0.6, 0.7, 0.8],\n",
    "              'classification__max_depth': [5],\n",
    "              'classification__colsample_bytree': [0.6, 0.7, 0.8],\n",
    "              'classification__min_child_weight': [3],\n",
    "              'classification__n_jobs' : [4],\n",
    "              'classification__objective' : ['multi:softmax'],\n",
    "              'classification__num_classes' : [4],\n",
    "              'classification__seed' : [27],\n",
    "              'sampling__sampling_strategy': ['not majority', 'minority'],\n",
    "              'sampling__random_state' : [7]\n",
    "             }\n",
    "\n",
    "best_param_dist = {'classification__learning_rate' : [0.1],\n",
    "              'classification__n_estimators' : [100],\n",
    "              'classification__subsample': [0.8],\n",
    "              'classification__max_depth': [5],\n",
    "              'classification__colsample_bytree': [0.6],\n",
    "              'classification__min_child_weight': [3],\n",
    "              'classification__n_jobs' : [4],\n",
    "              'classification__objective' : ['multi:softmax'],\n",
    "              'classification__num_classes' : [4],\n",
    "              'classification__seed' : [27],\n",
    "              'sampling__sampling_strategy': ['not majority'],\n",
    "              'sampling__random_state' : [7]\n",
    "             }\n",
    "\n",
    "smote_search = GridSearchCV(model, best_param_dist, cv=10, n_jobs=4, scoring='f1_micro')\n",
    "starttime = time()\n",
    "smote_search.fit(X_train, y_train)\n",
    "endtime = time()\n",
    "print('Runtime:',(endtime-starttime)/60, 'minutes')\n",
    "smote_search.scorer_, smote_search.best_params_, smote_search.best_score_"
   ]
  },
  {
   "cell_type": "code",
   "execution_count": 31,
   "metadata": {},
   "outputs": [
    {
     "name": "stderr",
     "output_type": "stream",
     "text": [
      "[Parallel(n_jobs=4)]: Using backend LokyBackend with 4 concurrent workers.\n",
      "[Parallel(n_jobs=4)]: Done   5 out of  10 | elapsed:  2.8min remaining:  2.8min\n",
      "[Parallel(n_jobs=4)]: Done   7 out of  10 | elapsed:  2.9min remaining:  1.2min\n",
      "[Parallel(n_jobs=4)]: Done  10 out of  10 | elapsed:  3.6min finished\n"
     ]
    }
   ],
   "source": [
    "smotemodel = Pipeline([\n",
    "        ('sampling', SMOTE(sampling_strategy='not majority')),\n",
    "        ('classification', xgb.XGBClassifier(learning_rate=0.1, n_estimators=100, max_depth=5, min_child_weight=3, gamma=0,\n",
    "                          subsample=0.8, colsample_bytree=0.6, objective='multi:softmax', n_jobs=4, seed=27,\n",
    "                          num_classes=4, verbose=3))\n",
    "])\n",
    "smote_y_pred = cross_val_predict(smotemodel, X_train, y_train, cv=StratifiedKFold(n_splits=10), verbose=10, n_jobs=4)"
   ]
  },
  {
   "cell_type": "code",
   "execution_count": 32,
   "metadata": {},
   "outputs": [
    {
     "data": {
      "text/plain": [
       "<matplotlib.axes._subplots.AxesSubplot at 0x15422daccc8>"
      ]
     },
     "execution_count": 32,
     "metadata": {},
     "output_type": "execute_result"
    },
    {
     "data": {
      "image/png": "[encoded data removed]",
      "text/plain": [
       "<Figure size 720x504 with 2 Axes>"
      ]
     },
     "metadata": {
      "needs_background": "light"
     },
     "output_type": "display_data"
    }
   ],
   "source": [
    "# confusion matrix\n",
    "matrix = confusion_matrix(y_train, smote_y_pred)\n",
    "df_cm = pd.DataFrame(matrix, index = [i for i in \"1234\"],\n",
    "                  columns = [i for i in \"1234\"])\n",
    "plt.figure(figsize = (10, 7))\n",
    "sns.heatmap(df_cm, annot=True)"
   ]
  },
  {
   "cell_type": "code",
   "execution_count": 162,
   "metadata": {},
   "outputs": [
    {
     "data": {
      "text/plain": [
       "0.659599773478492"
      ]
     },
     "execution_count": 162,
     "metadata": {},
     "output_type": "execute_result"
    }
   ],
   "source": [
    "binary = xgb.XGBClassifier(learning_rate=0.1, n_estimators=100, max_depth=5, min_child_weight=3, gamma=0, subsample=0.7,\n",
    "                          colsample_bytree=0.8, objective='binary:logistic', scale_pos_weight=1, seed=27,\n",
    "                          num_classes=4, verbose=3)\n",
    "binsearch = GridSearchCV(binary, param_grid={'learning_rate' : [0.1]}, cv=StratifiedKFold(n_splits=10), n_jobs=4, scoring='f1')\n",
    "starttime = time()\n",
    "binsearch.fit(X_train13, y_train13)\n",
    "endtime = time()\n",
    "print('Runtime:',(endtime-starttime)/60, 'minutes')\n",
    "binsearch.best_score_"
   ]
  },
  {
   "cell_type": "code",
   "execution_count": null,
   "metadata": {},
   "outputs": [],
   "source": [
    "binsearch2 = GridSearchCV(binary, param_grid={'learning_rate' : [0.1]}, cv=StratifiedKFold(n_splits=10), n_jobs=4, scoring='f1')\n",
    "starttime = time()\n",
    "binsearch2.fit(X_train14, y_train14)\n",
    "endtime = time()\n",
    "print('Runtime:',(endtime-starttime)/60, 'minutes')\n",
    "binsearch2.best_score_"
   ]
  },
  {
   "cell_type": "markdown",
   "metadata": {},
   "source": [
    "# 3 XGB parameters and gene ranking"
   ]
  },
  {
   "cell_type": "code",
   "execution_count": 33,
   "metadata": {},
   "outputs": [
    {
     "data": {
      "text/plain": [
       "<function matplotlib.pyplot.show(*args, **kw)>"
      ]
     },
     "execution_count": 33,
     "metadata": {},
     "output_type": "execute_result"
    },
    {
     "data": {
      "image/png": "[encoded data removed]",
      "text/plain": [
       "<Figure size 432x288 with 1 Axes>"
      ]
     },
     "metadata": {
      "needs_background": "light"
     },
     "output_type": "display_data"
    }
   ],
   "source": [
    "from matplotlib import pyplot\n",
    "f = smote_search.best_estimator_['classification'].feature_importances_\n",
    "pyplot.bar(range(len(f)), f)\n",
    "pyplot.title('')\n",
    "pyplot.show"
   ]
  },
  {
   "cell_type": "code",
   "execution_count": 34,
   "metadata": {},
   "outputs": [
    {
     "data": {
      "text/plain": [
       "array([0.00902909, 0.00511358, 0.00468258, ..., 0.        , 0.        ,\n",
       "       0.        ], dtype=float32)"
      ]
     },
     "execution_count": 34,
     "metadata": {},
     "output_type": "execute_result"
    }
   ],
   "source": [
    "# rank features by importance\n",
    "rankings = np.flip(np.argsort(f))\n",
    "f[rankings]"
   ]
  },
  {
   "cell_type": "code",
   "execution_count": 35,
   "metadata": {},
   "outputs": [
    {
     "data": {
      "image/png": "[encoded data removed]",
      "text/plain": [
       "<Figure size 432x288 with 1 Axes>"
      ]
     },
     "metadata": {
      "needs_background": "light"
     },
     "output_type": "display_data"
    }
   ],
   "source": [
    "# feature importance histogram\n",
    "hist = {'< 0.0001' : 0,\n",
    "        '0.0001 - 0.0005' : 0,\n",
    "        '0.0005 - 0.001' : 0,\n",
    "        '> 0.001' : 0\n",
    "       }\n",
    "for rank in rankings:\n",
    "    if f[rank] < 0.0001:\n",
    "        hist['< 0.0001'] += 1\n",
    "    elif f[rank] < 0.0005:\n",
    "        hist['0.0001 - 0.0005'] += 1\n",
    "    elif f[rank] < 0.001:\n",
    "        hist['0.0005 - 0.001'] += 1\n",
    "    else:\n",
    "        hist['> 0.001'] += 1\n",
    "\n",
    "pyplot.bar(hist.keys(), hist.values(), width=0.8)\n",
    "pyplot.title('feature importance ranges')\n",
    "pyplot.ylabel('num genes')\n",
    "pyplot.show()"
   ]
  },
  {
   "cell_type": "code",
   "execution_count": 36,
   "metadata": {},
   "outputs": [
    {
     "data": {
      "text/plain": [
       "Index(['CCER1', 'NGB', 'AL356806.3', 'PAPLN', 'DPCR1', 'GPR32P1', 'AC016700.2',\n",
       "       'CFB', 'C1S', 'RAPSN',\n",
       "       ...\n",
       "       'BCRP1', 'RP11-390P2.4', 'BUB3', 'CCSAP', 'ENAH', 'DUXAP9', 'HSPA7',\n",
       "       'ZNRF2P2', 'TOMM70', 'ZNF641'],\n",
       "      dtype='object', name='external_gene_name', length=4438)"
      ]
     },
     "execution_count": 36,
     "metadata": {},
     "output_type": "execute_result"
    }
   ],
   "source": [
    "train.columns[rankings]"
   ]
  },
  {
   "cell_type": "code",
   "execution_count": 37,
   "metadata": {},
   "outputs": [
    {
     "data": {
      "text/plain": [
       "Index(['CCER1', 'NGB', 'AL356806.3', 'PAPLN', 'DPCR1', 'GPR32P1', 'AC016700.2',\n",
       "       'CFB', 'C1S', 'RAPSN',\n",
       "       ...\n",
       "       'SEPHS1P4', 'MBOAT1', 'RP3-355L5.4', 'RP11-832A4.7', 'CYP4V2', 'C1QB',\n",
       "       'RP11-165M1.1', 'COL4A6', 'SKIDA1', 'HSPB1P2'],\n",
       "      dtype='object', name='external_gene_name', length=302)"
      ]
     },
     "execution_count": 37,
     "metadata": {},
     "output_type": "execute_result"
    }
   ],
   "source": [
    "bestgenes = [x for x in rankings if f[x] > 0.001]\n",
    "train.columns[bestgenes]"
   ]
  },
  {
   "cell_type": "code",
   "execution_count": 38,
   "metadata": {},
   "outputs": [
    {
     "data": {
      "image/png": "[encoded data removed]",
      "text/plain": [
       "<Figure size 432x288 with 1 Axes>"
      ]
     },
     "metadata": {
      "needs_background": "light"
     },
     "output_type": "display_data"
    }
   ],
   "source": [
    "pyplot.bar(train.columns[bestgenes][:40], f[bestgenes][:40], orientation='vertical')\n",
    "pyplot.xticks(train.columns[bestgenes][:40], rotation=90)\n",
    "pyplot.title('Feature Importances')\n",
    "pyplot.show()"
   ]
  },
  {
   "cell_type": "code",
   "execution_count": 41,
   "metadata": {},
   "outputs": [],
   "source": [
    "best2.fit(X_train, y_train)\n",
    "f2 = best2.feature_importances_"
   ]
  },
  {
   "cell_type": "code",
   "execution_count": 45,
   "metadata": {},
   "outputs": [],
   "source": [
    "rankings = np.flip(np.argsort(f2))\n",
    "bestgenes2 = [x for x in rankings if f2[x] > 0.001]"
   ]
  },
  {
   "cell_type": "code",
   "execution_count": 46,
   "metadata": {},
   "outputs": [
    {
     "data": {
      "text/plain": [
       "Index(['OSTC', 'COX4I1', 'BLOC1S5', 'TRIM6', 'FMO4', 'OR14I1', 'CD69', 'APOOL',\n",
       "       'KAT2B', 'JAML',\n",
       "       ...\n",
       "       'CAPNS2', 'RP4-663N10.1', 'LDHAL6A', 'RP11-863K10.7', 'B3GALT5',\n",
       "       'RP11-313P18.2', 'P2RX5', 'RP11-242D8.3', 'TRAF3IP3', 'RP11-323F24.4'],\n",
       "      dtype='object', name='external_gene_name', length=313)"
      ]
     },
     "execution_count": 46,
     "metadata": {},
     "output_type": "execute_result"
    }
   ],
   "source": [
    "train.columns[bestgenes2]"
   ]
  },
  {
   "cell_type": "code",
   "execution_count": 47,
   "metadata": {},
   "outputs": [],
   "source": [
    "# create the feature list for each model\n",
    "def genes_to_csv(feature_list, model_name):\n",
    "    ranking = np.flip(np.argsort(feature_list))\n",
    "    gene_dict = {'score' : feature_list[ranking], \n",
    "                 'gene_name' : train.columns[ranking]}\n",
    "    genedf = pd.DataFrame(data=gene_dict)\n",
    "    genedf.to_csv(model_name + '_genelist.csv', index=False)"
   ]
  },
  {
   "cell_type": "code",
   "execution_count": 48,
   "metadata": {},
   "outputs": [],
   "source": [
    "genes_to_csv(f, 'xgbsmote')"
   ]
  },
  {
   "cell_type": "code",
   "execution_count": 49,
   "metadata": {},
   "outputs": [],
   "source": [
    "genes_to_csv(f2, 'xgb')"
   ]
  },
  {
   "cell_type": "code",
   "execution_count": null,
   "metadata": {},
   "outputs": [],
   "source": []
  }
 ],
 "metadata": {
  "kernelspec": {
   "display_name": "Python 3",
   "language": "python",
   "name": "python3"
  },
  "language_info": {
   "codemirror_mode": {
    "name": "ipython",
    "version": 3
   },
   "file_extension": ".py",
   "mimetype": "text/x-python",
   "name": "python",
   "nbconvert_exporter": "python",
   "pygments_lexer": "ipython3",
   "version": "3.7.6"
  }
 },
 "nbformat": 4,
 "nbformat_minor": 4
}
