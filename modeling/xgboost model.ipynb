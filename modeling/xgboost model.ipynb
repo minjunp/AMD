{
 "cells": [
  {
   "cell_type": "code",
   "execution_count": 1,
   "metadata": {},
   "outputs": [],
   "source": [
    "import pandas as pd\n",
    "import numpy as np\n",
    "import seaborn as sns\n",
    "import matplotlib.pyplot as plt\n",
    "\n",
    "from time import time\n",
    "from sklearn.model_selection import cross_validate\n",
    "from sklearn.model_selection import GridSearchCV\n",
    "from sklearn.model_selection import StratifiedKFold\n",
    "from sklearn.metrics import confusion_matrix\n",
    "from sklearn.model_selection import cross_val_predict\n",
    "\n",
    "import xgboost as xgb\n",
    "from imblearn.pipeline import Pipeline\n",
    "from sklearn.utils import class_weight\n",
    "from imblearn.over_sampling import SMOTE"
   ]
  },
  {
   "cell_type": "markdown",
   "metadata": {},
   "source": [
    "## 1 Read in Train/Test Sets"
   ]
  },
  {
   "cell_type": "code",
   "execution_count": 2,
   "metadata": {},
   "outputs": [
    {
     "data": {
      "text/html": [
       "<div>\n",
       "<style scoped>\n",
       "    .dataframe tbody tr th:only-of-type {\n",
       "        vertical-align: middle;\n",
       "    }\n",
       "\n",
       "    .dataframe tbody tr th {\n",
       "        vertical-align: top;\n",
       "    }\n",
       "\n",
       "    .dataframe thead th {\n",
       "        text-align: right;\n",
       "    }\n",
       "</style>\n",
       "<table border=\"1\" class=\"dataframe\">\n",
       "  <thead>\n",
       "    <tr style=\"text-align: right;\">\n",
       "      <th></th>\n",
       "      <th>ENSG00000000003</th>\n",
       "      <th>ENSG00000001036</th>\n",
       "      <th>ENSG00000001084</th>\n",
       "      <th>ENSG00000001629</th>\n",
       "      <th>ENSG00000001631</th>\n",
       "      <th>ENSG00000002586</th>\n",
       "      <th>ENSG00000002933</th>\n",
       "      <th>ENSG00000003400</th>\n",
       "      <th>ENSG00000003509</th>\n",
       "      <th>ENSG00000004468</th>\n",
       "      <th>...</th>\n",
       "      <th>ENSG00000283473</th>\n",
       "      <th>ENSG00000283486</th>\n",
       "      <th>ENSG00000283578</th>\n",
       "      <th>ENSG00000283611</th>\n",
       "      <th>ENSG00000283631</th>\n",
       "      <th>ENSG00000283635</th>\n",
       "      <th>ENSG00000283654</th>\n",
       "      <th>ENSG00000283674</th>\n",
       "      <th>ENSG00000283684</th>\n",
       "      <th>ENSG00000283692</th>\n",
       "    </tr>\n",
       "  </thead>\n",
       "  <tbody>\n",
       "    <tr>\n",
       "      <th>205_2</th>\n",
       "      <td>9.698730</td>\n",
       "      <td>9.007920</td>\n",
       "      <td>11.074547</td>\n",
       "      <td>11.255878</td>\n",
       "      <td>10.578447</td>\n",
       "      <td>9.698730</td>\n",
       "      <td>9.853723</td>\n",
       "      <td>5.876924</td>\n",
       "      <td>9.770795</td>\n",
       "      <td>3.718240</td>\n",
       "      <td>...</td>\n",
       "      <td>0.0</td>\n",
       "      <td>9.213259</td>\n",
       "      <td>0.0</td>\n",
       "      <td>0.000000</td>\n",
       "      <td>0.0</td>\n",
       "      <td>2.014479</td>\n",
       "      <td>0.0</td>\n",
       "      <td>6.376592</td>\n",
       "      <td>0.0</td>\n",
       "      <td>3.339286</td>\n",
       "    </tr>\n",
       "    <tr>\n",
       "      <th>251_1</th>\n",
       "      <td>9.181011</td>\n",
       "      <td>8.480250</td>\n",
       "      <td>10.224124</td>\n",
       "      <td>10.854084</td>\n",
       "      <td>10.851306</td>\n",
       "      <td>9.135288</td>\n",
       "      <td>9.296297</td>\n",
       "      <td>5.330312</td>\n",
       "      <td>9.875868</td>\n",
       "      <td>3.708379</td>\n",
       "      <td>...</td>\n",
       "      <td>0.0</td>\n",
       "      <td>8.289156</td>\n",
       "      <td>0.0</td>\n",
       "      <td>2.814728</td>\n",
       "      <td>0.0</td>\n",
       "      <td>2.006454</td>\n",
       "      <td>0.0</td>\n",
       "      <td>6.358106</td>\n",
       "      <td>0.0</td>\n",
       "      <td>2.814728</td>\n",
       "    </tr>\n",
       "    <tr>\n",
       "      <th>474_3</th>\n",
       "      <td>8.998180</td>\n",
       "      <td>8.114741</td>\n",
       "      <td>10.315019</td>\n",
       "      <td>10.832309</td>\n",
       "      <td>10.474078</td>\n",
       "      <td>8.410391</td>\n",
       "      <td>9.031668</td>\n",
       "      <td>6.190813</td>\n",
       "      <td>9.971107</td>\n",
       "      <td>3.322830</td>\n",
       "      <td>...</td>\n",
       "      <td>0.0</td>\n",
       "      <td>9.550266</td>\n",
       "      <td>0.0</td>\n",
       "      <td>2.808214</td>\n",
       "      <td>0.0</td>\n",
       "      <td>0.000000</td>\n",
       "      <td>0.0</td>\n",
       "      <td>6.285467</td>\n",
       "      <td>0.0</td>\n",
       "      <td>3.322830</td>\n",
       "    </tr>\n",
       "    <tr>\n",
       "      <th>178_4</th>\n",
       "      <td>8.623853</td>\n",
       "      <td>7.775116</td>\n",
       "      <td>10.114775</td>\n",
       "      <td>10.970147</td>\n",
       "      <td>10.669332</td>\n",
       "      <td>8.469199</td>\n",
       "      <td>8.489462</td>\n",
       "      <td>6.511398</td>\n",
       "      <td>10.078450</td>\n",
       "      <td>3.090678</td>\n",
       "      <td>...</td>\n",
       "      <td>0.0</td>\n",
       "      <td>9.065750</td>\n",
       "      <td>0.0</td>\n",
       "      <td>0.000000</td>\n",
       "      <td>0.0</td>\n",
       "      <td>2.587999</td>\n",
       "      <td>0.0</td>\n",
       "      <td>7.421474</td>\n",
       "      <td>0.0</td>\n",
       "      <td>3.090678</td>\n",
       "    </tr>\n",
       "    <tr>\n",
       "      <th>313_1</th>\n",
       "      <td>9.265740</td>\n",
       "      <td>8.237808</td>\n",
       "      <td>10.334186</td>\n",
       "      <td>11.156822</td>\n",
       "      <td>10.967349</td>\n",
       "      <td>8.282984</td>\n",
       "      <td>9.324540</td>\n",
       "      <td>5.706331</td>\n",
       "      <td>10.097601</td>\n",
       "      <td>2.887836</td>\n",
       "      <td>...</td>\n",
       "      <td>0.0</td>\n",
       "      <td>9.771254</td>\n",
       "      <td>0.0</td>\n",
       "      <td>0.000000</td>\n",
       "      <td>0.0</td>\n",
       "      <td>2.887836</td>\n",
       "      <td>0.0</td>\n",
       "      <td>6.282053</td>\n",
       "      <td>0.0</td>\n",
       "      <td>4.087801</td>\n",
       "    </tr>\n",
       "  </tbody>\n",
       "</table>\n",
       "<p>5 rows × 4438 columns</p>\n",
       "</div>"
      ],
      "text/plain": [
       "       ENSG00000000003  ENSG00000001036  ENSG00000001084  ENSG00000001629  \\\n",
       "205_2         9.698730         9.007920        11.074547        11.255878   \n",
       "251_1         9.181011         8.480250        10.224124        10.854084   \n",
       "474_3         8.998180         8.114741        10.315019        10.832309   \n",
       "178_4         8.623853         7.775116        10.114775        10.970147   \n",
       "313_1         9.265740         8.237808        10.334186        11.156822   \n",
       "\n",
       "       ENSG00000001631  ENSG00000002586  ENSG00000002933  ENSG00000003400  \\\n",
       "205_2        10.578447         9.698730         9.853723         5.876924   \n",
       "251_1        10.851306         9.135288         9.296297         5.330312   \n",
       "474_3        10.474078         8.410391         9.031668         6.190813   \n",
       "178_4        10.669332         8.469199         8.489462         6.511398   \n",
       "313_1        10.967349         8.282984         9.324540         5.706331   \n",
       "\n",
       "       ENSG00000003509  ENSG00000004468  ...  ENSG00000283473  \\\n",
       "205_2         9.770795         3.718240  ...              0.0   \n",
       "251_1         9.875868         3.708379  ...              0.0   \n",
       "474_3         9.971107         3.322830  ...              0.0   \n",
       "178_4        10.078450         3.090678  ...              0.0   \n",
       "313_1        10.097601         2.887836  ...              0.0   \n",
       "\n",
       "       ENSG00000283486  ENSG00000283578  ENSG00000283611  ENSG00000283631  \\\n",
       "205_2         9.213259              0.0         0.000000              0.0   \n",
       "251_1         8.289156              0.0         2.814728              0.0   \n",
       "474_3         9.550266              0.0         2.808214              0.0   \n",
       "178_4         9.065750              0.0         0.000000              0.0   \n",
       "313_1         9.771254              0.0         0.000000              0.0   \n",
       "\n",
       "       ENSG00000283635  ENSG00000283654  ENSG00000283674  ENSG00000283684  \\\n",
       "205_2         2.014479              0.0         6.376592              0.0   \n",
       "251_1         2.006454              0.0         6.358106              0.0   \n",
       "474_3         0.000000              0.0         6.285467              0.0   \n",
       "178_4         2.587999              0.0         7.421474              0.0   \n",
       "313_1         2.887836              0.0         6.282053              0.0   \n",
       "\n",
       "       ENSG00000283692  \n",
       "205_2         3.339286  \n",
       "251_1         2.814728  \n",
       "474_3         3.322830  \n",
       "178_4         3.090678  \n",
       "313_1         4.087801  \n",
       "\n",
       "[5 rows x 4438 columns]"
      ]
     },
     "execution_count": 2,
     "metadata": {},
     "output_type": "execute_result"
    }
   ],
   "source": [
    "train = pd.read_csv('~/D2K_BCM_DATASET/4kEnsembleId.tsv', sep='\\t',index_col=[0]).transpose()\n",
    "train.head()"
   ]
  },
  {
   "cell_type": "markdown",
   "metadata": {},
   "source": [
    "# 2 Training XGBoost with Grid Search"
   ]
  },
  {
   "cell_type": "code",
   "execution_count": 35,
   "metadata": {},
   "outputs": [],
   "source": [
    "# create the training matrix and label vector\n",
    "X_train = train.values\n",
    "y_train = np.array([int(x[-1]) for x in train.index])"
   ]
  },
  {
   "cell_type": "code",
   "execution_count": 4,
   "metadata": {},
   "outputs": [],
   "source": [
    "# ## new dataframes for binary classification\n",
    "train.index = np.array([int(x[-1]) for x in train.index])\n",
    "idxs13 = (train.index == 1) + (train.index == 3)\n",
    "train13 = train[idxs13]\n",
    "idxs14 = (train.index == 1) + (train.index == 4)\n",
    "train14 = train[idxs14]"
   ]
  },
  {
   "cell_type": "code",
   "execution_count": 5,
   "metadata": {},
   "outputs": [],
   "source": [
    "# Binary classification groups\n",
    "X_train13 = train13.values\n",
    "y_train13 = train13.index\n",
    "X_train14 = train14.values\n",
    "y_train14 = train14.index"
   ]
  },
  {
   "cell_type": "code",
   "execution_count": 6,
   "metadata": {},
   "outputs": [
    {
     "name": "stdout",
     "output_type": "stream",
     "text": [
      "Before oversampling, counts of label '1': 97\n",
      "Before oversampling, counts of label '2': 160\n",
      "Before oversampling, counts of label '3': 98\n",
      "Before oversampling, counts of label '4': 52\n"
     ]
    }
   ],
   "source": [
    "print(\"Before oversampling, counts of label '1': {}\".format(sum(y_train==1)))\n",
    "print(\"Before oversampling, counts of label '2': {}\".format(sum(y_train==2)))\n",
    "print(\"Before oversampling, counts of label '3': {}\".format(sum(y_train==3)))\n",
    "print(\"Before oversampling, counts of label '4': {}\".format(sum(y_train==4)))"
   ]
  },
  {
   "cell_type": "code",
   "execution_count": 7,
   "metadata": {},
   "outputs": [],
   "source": [
    "# define initial grid search space\n",
    "grid1 = {\n",
    "    'max_depth' : range(1,6,2),\n",
    "    'min_child_weight' : range(1,6,2),\n",
    "    'reg_alpha' : [1e-5, 0.1, 1],\n",
    "    'learning_rate' : [0.01, 0.1]\n",
    "}\n",
    "\n",
    "search1 = GridSearchCV(estimator=xgb.XGBClassifier(learning_rate=0.1, n_estimators=100, max_depth=5, min_child_weight=1,\n",
    "                                                  gamma=0, subsample=0.8,colsample_bytree=0.8, objective='multi:softmax',\n",
    "                                                  n_jobs=4, scale_pos_weight=1, seed=27, num_classes=4, verbose=3),\n",
    "                      param_grid = grid1, scoring='f1_micro', n_jobs=4, cv=10)"
   ]
  },
  {
   "cell_type": "code",
   "execution_count": 8,
   "metadata": {},
   "outputs": [],
   "source": [
    "# # uncomment this section if you want to train intermediate models\n",
    "\n",
    "#starttime = time()\n",
    "# search1.fit(X_train, y_train)\n",
    "# endtime = time()\n",
    "# print('Runtime:',(endtime-starttime)/60, 'minutes')\n",
    "# search1.scorer_, search1.best_params_, search1.best_score_"
   ]
  },
  {
   "cell_type": "code",
   "execution_count": 9,
   "metadata": {},
   "outputs": [],
   "source": [
    "best1 = xgb.XGBClassifier(learning_rate=0.1, n_estimators=100, max_depth=5, min_child_weight=3, gamma=0, subsample=0.8,\n",
    "                          colsample_bytree=0.8, objective='multi:softmax', n_jobs=4, scale_pos_weight=1, seed=27,\n",
    "                          num_classes=4, verbose=3)\n",
    "\n",
    "grid2 = {\n",
    "    'subsample' : [0.6, 0.7, 0.8],\n",
    "    'colsample_bytree' : [0.6, 0.7, 0.8]\n",
    "}\n",
    "\n",
    "search2 = GridSearchCV(estimator=best1, param_grid=grid2, scoring='f1_micro', n_jobs=4, cv=10)"
   ]
  },
  {
   "cell_type": "code",
   "execution_count": 10,
   "metadata": {},
   "outputs": [],
   "source": [
    "# # uncomment this section if you want to train intermediate models\n",
    "\n",
    "# starttime = time()\n",
    "# search2.fit(X_train, y_train)\n",
    "# endtime = time()\n",
    "# print('Runtime:',(endtime-starttime)/60, 'minutes')\n",
    "# search2.scorer_, search2.best_params_, search2.best_score_"
   ]
  },
  {
   "cell_type": "code",
   "execution_count": 11,
   "metadata": {},
   "outputs": [
    {
     "data": {
      "text/plain": [
       "XGBClassifier(base_score=0.5, booster='gbtree', colsample_bylevel=1,\n",
       "              colsample_bynode=1, colsample_bytree=0.8, gamma=0,\n",
       "              learning_rate=0.1, max_delta_step=0, max_depth=5,\n",
       "              min_child_weight=3, missing=None, n_estimators=100, n_jobs=4,\n",
       "              nthread=None, num_classes=4, objective='multi:softprob',\n",
       "              random_state=0, reg_alpha=0, reg_lambda=1, scale_pos_weight=1,\n",
       "              seed=27, silent=None, subsample=0.7, verbose=3, verbosity=1)"
      ]
     },
     "execution_count": 11,
     "metadata": {},
     "output_type": "execute_result"
    }
   ],
   "source": [
    "best2 = xgb.XGBClassifier(learning_rate=0.1, n_estimators=100, max_depth=5, min_child_weight=3, gamma=0, subsample=0.7,\n",
    "                          colsample_bytree=0.8, objective='multi:softmax', n_jobs=4, scale_pos_weight=1, seed=27,\n",
    "                          num_classes=4, verbose=3)\n",
    "best2.fit(X_train, y_train)"
   ]
  },
  {
   "cell_type": "code",
   "execution_count": 12,
   "metadata": {},
   "outputs": [
    {
     "name": "stderr",
     "output_type": "stream",
     "text": [
      "[Parallel(n_jobs=1)]: Using backend SequentialBackend with 1 concurrent workers.\n",
      "[Parallel(n_jobs=1)]: Done   1 out of   1 | elapsed:    7.4s remaining:    0.0s\n",
      "[Parallel(n_jobs=1)]: Done   2 out of   2 | elapsed:   14.6s remaining:    0.0s\n",
      "[Parallel(n_jobs=1)]: Done   3 out of   3 | elapsed:   22.0s remaining:    0.0s\n",
      "[Parallel(n_jobs=1)]: Done   4 out of   4 | elapsed:   29.3s remaining:    0.0s\n",
      "[Parallel(n_jobs=1)]: Done   5 out of   5 | elapsed:   37.5s remaining:    0.0s\n",
      "[Parallel(n_jobs=1)]: Done   6 out of   6 | elapsed:   47.2s remaining:    0.0s\n",
      "[Parallel(n_jobs=1)]: Done   7 out of   7 | elapsed:  1.0min remaining:    0.0s\n",
      "[Parallel(n_jobs=1)]: Done   8 out of   8 | elapsed:  1.3min remaining:    0.0s\n",
      "[Parallel(n_jobs=1)]: Done   9 out of   9 | elapsed:  1.5min remaining:    0.0s\n",
      "[Parallel(n_jobs=1)]: Done  10 out of  10 | elapsed:  1.8min finished\n"
     ]
    },
    {
     "data": {
      "text/plain": [
       "<matplotlib.axes._subplots.AxesSubplot at 0x29327b53508>"
      ]
     },
     "execution_count": 12,
     "metadata": {},
     "output_type": "execute_result"
    },
    {
     "data": {
      "image/png": "[encoded data removed]",
      "text/plain": [
       "<Figure size 720x504 with 2 Axes>"
      ]
     },
     "metadata": {
      "needs_background": "light"
     },
     "output_type": "display_data"
    }
   ],
   "source": [
    "# confusion matrix\n",
    "y_pred = cross_val_predict(best2, X_train, y_train, cv=StratifiedKFold(n_splits=10), verbose=10)\n",
    "matrix = confusion_matrix(y_train, y_pred)\n",
    "df_cm = pd.DataFrame(matrix, index = [i for i in \"1234\"],\n",
    "                  columns = [i for i in \"1234\"])\n",
    "plt.figure(figsize = (10, 7))\n",
    "sns.heatmap(df_cm, annot=True)"
   ]
  },
  {
   "cell_type": "code",
   "execution_count": 13,
   "metadata": {},
   "outputs": [
    {
     "name": "stdout",
     "output_type": "stream",
     "text": [
      "Runtime: 2.9294827898343403 minutes\n"
     ]
    },
    {
     "data": {
      "text/plain": [
       "(make_scorer(f1_score, pos_label=None, average=micro),\n",
       " {'classification__colsample_bytree': 0.6,\n",
       "  'classification__learning_rate': 0.1,\n",
       "  'classification__max_depth': 5,\n",
       "  'classification__min_child_weight': 3,\n",
       "  'classification__n_estimators': 100,\n",
       "  'classification__n_jobs': 4,\n",
       "  'classification__num_classes': 4,\n",
       "  'classification__objective': 'multi:softmax',\n",
       "  'classification__seed': 27,\n",
       "  'classification__subsample': 0.8,\n",
       "  'sampling__random_state': 7,\n",
       "  'sampling__sampling_strategy': 'not majority'},\n",
       " 0.5159756097560976)"
      ]
     },
     "execution_count": 13,
     "metadata": {},
     "output_type": "execute_result"
    }
   ],
   "source": [
    "model = Pipeline([\n",
    "        ('sampling', SMOTE()),\n",
    "        ('classification', xgb.XGBClassifier())\n",
    "    ])\n",
    "\n",
    "\n",
    "param_dist = {'classification__learning_rate' : [0.1],\n",
    "              'classification__n_estimators' : [100],\n",
    "              'classification__subsample': [0.6, 0.7, 0.8],\n",
    "              'classification__max_depth': [5],\n",
    "              'classification__colsample_bytree': [0.6, 0.7, 0.8],\n",
    "              'classification__min_child_weight': [3],\n",
    "              'classification__n_jobs' : [4],\n",
    "              'classification__objective' : ['multi:softmax'],\n",
    "              'classification__num_classes' : [4],\n",
    "              'classification__seed' : [27],\n",
    "              'sampling__sampling_strategy': ['not majority', 'minority'],\n",
    "              'sampling__random_state' : [7]\n",
    "             }\n",
    "\n",
    "best_param_dist = {'classification__learning_rate' : [0.1],\n",
    "              'classification__n_estimators' : [100],\n",
    "              'classification__subsample': [0.8],\n",
    "              'classification__max_depth': [5],\n",
    "              'classification__colsample_bytree': [0.6],\n",
    "              'classification__min_child_weight': [3],\n",
    "              'classification__n_jobs' : [4],\n",
    "              'classification__objective' : ['multi:softmax'],\n",
    "              'classification__num_classes' : [4],\n",
    "              'classification__seed' : [27],\n",
    "              'sampling__sampling_strategy': ['not majority'],\n",
    "              'sampling__random_state' : [7]\n",
    "             }\n",
    "\n",
    "# uncomment this section if you want to train intermediate models\n",
    "\n",
    "smote_search = GridSearchCV(model, best_param_dist, cv=10, n_jobs=4, scoring='f1_micro')\n",
    "starttime = time()\n",
    "smote_search.fit(X_train, y_train)\n",
    "endtime = time()\n",
    "print('Runtime:',(endtime-starttime)/60, 'minutes')\n",
    "smote_search.scorer_, smote_search.best_params_, smote_search.best_score_"
   ]
  },
  {
   "cell_type": "code",
   "execution_count": 14,
   "metadata": {},
   "outputs": [
    {
     "name": "stderr",
     "output_type": "stream",
     "text": [
      "[Parallel(n_jobs=4)]: Using backend LokyBackend with 4 concurrent workers.\n",
      "[Parallel(n_jobs=4)]: Done   5 out of  10 | elapsed:  2.1min remaining:  2.1min\n",
      "[Parallel(n_jobs=4)]: Done   7 out of  10 | elapsed:  2.2min remaining:   55.6s\n",
      "[Parallel(n_jobs=4)]: Done  10 out of  10 | elapsed:  2.7min finished\n"
     ]
    },
    {
     "data": {
      "text/plain": [
       "<matplotlib.axes._subplots.AxesSubplot at 0x29327c1c2c8>"
      ]
     },
     "execution_count": 14,
     "metadata": {},
     "output_type": "execute_result"
    },
    {
     "data": {
      "image/png": "[encoded data removed]",
      "text/plain": [
       "<Figure size 720x504 with 2 Axes>"
      ]
     },
     "metadata": {
      "needs_background": "light"
     },
     "output_type": "display_data"
    }
   ],
   "source": [
    "# confusion matrix on SMOTE oversampled model\n",
    "smotemodel = Pipeline([\n",
    "        ('sampling', SMOTE(sampling_strategy='not majority')),\n",
    "        ('classification', xgb.XGBClassifier(learning_rate=0.1, n_estimators=100, max_depth=5, min_child_weight=3, gamma=0,\n",
    "                          subsample=0.8, colsample_bytree=0.6, objective='multi:softmax', n_jobs=4, seed=27,\n",
    "                          num_classes=4, verbose=3))\n",
    "])\n",
    "smote_y_pred = cross_val_predict(smotemodel, X_train, y_train, cv=StratifiedKFold(n_splits=10), verbose=10, n_jobs=4)\n",
    "\n",
    "matrix = confusion_matrix(y_train, smote_y_pred)\n",
    "df_cm = pd.DataFrame(matrix, index = [i for i in \"1234\"],\n",
    "                  columns = [i for i in \"1234\"])\n",
    "plt.figure(figsize = (10, 7))\n",
    "sns.heatmap(df_cm, annot=True)"
   ]
  },
  {
   "cell_type": "code",
   "execution_count": 15,
   "metadata": {},
   "outputs": [
    {
     "name": "stdout",
     "output_type": "stream",
     "text": [
      "Runtime: 0.3763748049736023 minutes\n"
     ]
    },
    {
     "data": {
      "text/plain": [
       "0.659599773478492"
      ]
     },
     "execution_count": 15,
     "metadata": {},
     "output_type": "execute_result"
    }
   ],
   "source": [
    "# binary classifier on just groups 1 and 3\n",
    "binary = xgb.XGBClassifier(learning_rate=0.1, n_estimators=100, max_depth=5, min_child_weight=3, gamma=0, subsample=0.7,\n",
    "                          colsample_bytree=0.8, objective='binary:logistic', scale_pos_weight=1, seed=27,\n",
    "                          num_classes=4, verbose=3)\n",
    "binsearch = GridSearchCV(binary, param_grid={'learning_rate' : [0.1]}, cv=StratifiedKFold(n_splits=10), n_jobs=4, scoring='f1')\n",
    "starttime = time()\n",
    "binsearch.fit(X_train13, y_train13)\n",
    "endtime = time()\n",
    "print('Runtime:',(endtime-starttime)/60, 'minutes')\n",
    "\n",
    "# binary classifier accuracy\n",
    "binsearch.best_score_"
   ]
  },
  {
   "cell_type": "code",
   "execution_count": 16,
   "metadata": {},
   "outputs": [
    {
     "name": "stdout",
     "output_type": "stream",
     "text": [
      "Runtime: 0.19061556657155354 minutes\n"
     ]
    },
    {
     "data": {
      "text/plain": [
       "0.8181593311341595"
      ]
     },
     "execution_count": 16,
     "metadata": {},
     "output_type": "execute_result"
    }
   ],
   "source": [
    "# binary classifier on just groups 1 and 4\n",
    "binsearch2 = GridSearchCV(binary, param_grid={'learning_rate' : [0.1]}, cv=StratifiedKFold(n_splits=10), n_jobs=4, scoring='f1')\n",
    "starttime = time()\n",
    "binsearch2.fit(X_train14, y_train14)\n",
    "endtime = time()\n",
    "print('Runtime:',(endtime-starttime)/60, 'minutes')\n",
    "\n",
    "# binary classifier accuracy\n",
    "binsearch2.best_score_"
   ]
  },
  {
   "cell_type": "code",
   "execution_count": 17,
   "metadata": {},
   "outputs": [
    {
     "name": "stderr",
     "output_type": "stream",
     "text": [
      "[Parallel(n_jobs=4)]: Using backend LokyBackend with 4 concurrent workers.\n",
      "[Parallel(n_jobs=4)]: Done   5 out of  10 | elapsed:    7.2s remaining:    7.2s\n",
      "[Parallel(n_jobs=4)]: Done   7 out of  10 | elapsed:    7.6s remaining:    3.2s\n",
      "[Parallel(n_jobs=4)]: Done  10 out of  10 | elapsed:   11.1s finished\n"
     ]
    },
    {
     "data": {
      "text/plain": [
       "<matplotlib.axes._subplots.AxesSubplot at 0x29328e02a48>"
      ]
     },
     "execution_count": 17,
     "metadata": {},
     "output_type": "execute_result"
    },
    {
     "data": {
      "image/png": "[encoded data removed]",
      "text/plain": [
       "<Figure size 720x504 with 2 Axes>"
      ]
     },
     "metadata": {
      "needs_background": "light"
     },
     "output_type": "display_data"
    }
   ],
   "source": [
    "# binary classification confusion matrix\n",
    "binary_pred = cross_val_predict(binary, X_train14, y_train14, cv=StratifiedKFold(n_splits=10), verbose=10, n_jobs=4)\n",
    "matrix = confusion_matrix(y_train14, binary_pred)\n",
    "df_cm = pd.DataFrame(matrix, index = [i for i in \"14\"],\n",
    "                  columns = [i for i in \"14\"])\n",
    "plt.figure(figsize = (10, 7))\n",
    "sns.heatmap(df_cm, annot=True)"
   ]
  },
  {
   "cell_type": "code",
   "execution_count": 18,
   "metadata": {},
   "outputs": [
    {
     "name": "stdout",
     "output_type": "stream",
     "text": [
      "Runtime: 0.2819911042849223 minutes\n"
     ]
    },
    {
     "data": {
      "text/plain": [
       "0.8142565900918305"
      ]
     },
     "execution_count": 18,
     "metadata": {},
     "output_type": "execute_result"
    }
   ],
   "source": [
    "# binary classifier with SMOTE oversampling\n",
    "smotebin = Pipeline([\n",
    "        ('sampling', SMOTE(sampling_strategy='minority')),\n",
    "        ('classification', xgb.XGBClassifier(learning_rate=0.1, n_estimators=100, max_depth=5, min_child_weight=3, gamma=0, subsample=0.7,\n",
    "                          colsample_bytree=0.8, objective='binary:logistic', scale_pos_weight=1, seed=27,\n",
    "                          num_classes=4, verbose=3))\n",
    "])\n",
    "binsmote = GridSearchCV(smotebin, param_grid={'sampling__sampling_strategy' : ['minorty', 'not majority']}, cv=StratifiedKFold(n_splits=10), n_jobs=4, scoring='f1')\n",
    "starttime = time()\n",
    "binsmote.fit(X_train14, y_train14)\n",
    "endtime = time()\n",
    "print('Runtime:',(endtime-starttime)/60, 'minutes')\n",
    "\n",
    "# binary classifier accuracy with SMOTE oversampling\n",
    "binsmote.best_score_"
   ]
  },
  {
   "cell_type": "code",
   "execution_count": 19,
   "metadata": {},
   "outputs": [
    {
     "name": "stderr",
     "output_type": "stream",
     "text": [
      "[Parallel(n_jobs=4)]: Using backend LokyBackend with 4 concurrent workers.\n",
      "[Parallel(n_jobs=4)]: Done   5 out of  10 | elapsed:    9.1s remaining:    9.1s\n",
      "[Parallel(n_jobs=4)]: Done   7 out of  10 | elapsed:    9.3s remaining:    3.9s\n",
      "[Parallel(n_jobs=4)]: Done  10 out of  10 | elapsed:   12.5s finished\n"
     ]
    },
    {
     "data": {
      "text/plain": [
       "<matplotlib.axes._subplots.AxesSubplot at 0x29328e0b8c8>"
      ]
     },
     "execution_count": 19,
     "metadata": {},
     "output_type": "execute_result"
    },
    {
     "data": {
      "image/png": "[encoded data removed]",
      "text/plain": [
       "<Figure size 720x504 with 2 Axes>"
      ]
     },
     "metadata": {
      "needs_background": "light"
     },
     "output_type": "display_data"
    }
   ],
   "source": [
    "# confusion matrix for SMOTE oversampling\n",
    "binary_pred2 = cross_val_predict(smotebin, X_train14, y_train14, cv=StratifiedKFold(n_splits=10), verbose=10, n_jobs=4)\n",
    "matrix = confusion_matrix(y_train14, binary_pred2)\n",
    "df_cm = pd.DataFrame(matrix, index = [i for i in \"14\"],\n",
    "                  columns = [i for i in \"14\"])\n",
    "plt.figure(figsize = (10, 7))\n",
    "sns.heatmap(df_cm, annot=True)"
   ]
  },
  {
   "cell_type": "code",
   "execution_count": 20,
   "metadata": {},
   "outputs": [
    {
     "data": {
      "text/plain": [
       "array([], dtype=object)"
      ]
     },
     "execution_count": 20,
     "metadata": {},
     "output_type": "execute_result"
    }
   ],
   "source": [
    "b = binsmote.best_estimator_['classification'].feature_importances_\n",
    "rankings = np.flip(np.argsort(b))\n",
    "genes = [x for x in rankings if b[x] > 0]\n",
    "np.intersect1d(np.array(['POU2AF1', 'MOXD1', 'PMAIP1', 'SLCO3A1', 'C2', 'CFB', 'TIMP3']),train14.columns[genes])"
   ]
  },
  {
   "cell_type": "markdown",
   "metadata": {},
   "source": [
    "# 3 XGB parameters and gene ranking"
   ]
  },
  {
   "cell_type": "code",
   "execution_count": 21,
   "metadata": {},
   "outputs": [
    {
     "data": {
      "text/plain": [
       "<function matplotlib.pyplot.show(*args, **kw)>"
      ]
     },
     "execution_count": 21,
     "metadata": {},
     "output_type": "execute_result"
    },
    {
     "data": {
      "image/png": "[encoded data removed]",
      "text/plain": [
       "<Figure size 432x288 with 1 Axes>"
      ]
     },
     "metadata": {
      "needs_background": "light"
     },
     "output_type": "display_data"
    }
   ],
   "source": [
    "# plot the genes by feature strength in SMOTE model\n",
    "s = smote_search.best_estimator_['classification'].feature_importances_\n",
    "plt.bar(range(len(s)), s)\n",
    "plt.title('SMOTE feature importances')\n",
    "plt.show"
   ]
  },
  {
   "cell_type": "code",
   "execution_count": 22,
   "metadata": {},
   "outputs": [
    {
     "data": {
      "text/plain": [
       "<function matplotlib.pyplot.show(*args, **kw)>"
      ]
     },
     "execution_count": 22,
     "metadata": {},
     "output_type": "execute_result"
    },
    {
     "data": {
      "image/png": "[encoded data removed]",
      "text/plain": [
       "<Figure size 432x288 with 1 Axes>"
      ]
     },
     "metadata": {
      "needs_background": "light"
     },
     "output_type": "display_data"
    }
   ],
   "source": [
    "# plot the genes by feature strength in non-SMOTE model\n",
    "f = best2.feature_importances_\n",
    "plt.bar(range(len(f)), f)\n",
    "plt.title('feature importances')\n",
    "plt.show"
   ]
  },
  {
   "cell_type": "code",
   "execution_count": 23,
   "metadata": {},
   "outputs": [],
   "source": [
    "# rank features by importance\n",
    "rankings = np.flip(np.argsort(f))\n",
    "bestgenes = [x for x in rankings if f[x] > 0.001]"
   ]
  },
  {
   "cell_type": "code",
   "execution_count": 25,
   "metadata": {},
   "outputs": [
    {
     "data": {
      "image/png": "[encoded data removed]",
      "text/plain": [
       "<Figure size 432x288 with 1 Axes>"
      ]
     },
     "metadata": {
      "needs_background": "light"
     },
     "output_type": "display_data"
    }
   ],
   "source": [
    "# feature importance histogram\n",
    "hist = {'< 0.0001' : 0,\n",
    "        '0.0001 - 0.0005' : 0,\n",
    "        '0.0005 - 0.001' : 0,\n",
    "        '> 0.001' : 0\n",
    "       }\n",
    "for rank in rankings:\n",
    "    if f[rank] < 0.0001:\n",
    "        hist['< 0.0001'] += 1\n",
    "    elif f[rank] < 0.0005:\n",
    "        hist['0.0001 - 0.0005'] += 1\n",
    "    elif f[rank] < 0.001:\n",
    "        hist['0.0005 - 0.001'] += 1\n",
    "    else:\n",
    "        hist['> 0.001'] += 1\n",
    "\n",
    "plt.bar(hist.keys(), hist.values(), width=0.8)\n",
    "plt.title('feature importance ranges')\n",
    "plt.ylabel('num genes')\n",
    "plt.show()"
   ]
  },
  {
   "cell_type": "code",
   "execution_count": 26,
   "metadata": {},
   "outputs": [
    {
     "data": {
      "text/plain": [
       "Index(['ENSG00000198856', 'ENSG00000131143', 'ENSG00000188428',\n",
       "       'ENSG00000121236', 'ENSG00000076258', 'ENSG00000189181',\n",
       "       'ENSG00000110848', 'ENSG00000155008', 'ENSG00000114166',\n",
       "       'ENSG00000160593',\n",
       "       ...\n",
       "       'ENSG00000171729', 'ENSG00000171522', 'ENSG00000171476',\n",
       "       'ENSG00000171469', 'ENSG00000171467', 'ENSG00000171448',\n",
       "       'ENSG00000171408', 'ENSG00000171262', 'ENSG00000171150',\n",
       "       'ENSG00000167528'],\n",
       "      dtype='object', length=4438)"
      ]
     },
     "execution_count": 26,
     "metadata": {},
     "output_type": "execute_result"
    }
   ],
   "source": [
    "train.columns[rankings]"
   ]
  },
  {
   "cell_type": "code",
   "execution_count": 28,
   "metadata": {},
   "outputs": [
    {
     "data": {
      "image/png": "[encoded data removed]",
      "text/plain": [
       "<Figure size 432x288 with 1 Axes>"
      ]
     },
     "metadata": {
      "needs_background": "light"
     },
     "output_type": "display_data"
    }
   ],
   "source": [
    "bestgenes = [x for x in rankings if f[x] > 0.001]\n",
    "plt.bar(train.columns[bestgenes][:40], f[bestgenes][:40], orientation='vertical')\n",
    "plt.xticks(train.columns[bestgenes][:40], rotation=90)\n",
    "plt.title('Feature Importances')\n",
    "plt.show()"
   ]
  },
  {
   "cell_type": "code",
   "execution_count": 29,
   "metadata": {},
   "outputs": [],
   "source": [
    "# create the feature list for each model\n",
    "def genes_to_csv(feature_list, model_name):\n",
    "    ranking = np.flip(np.argsort(feature_list))\n",
    "    gene_dict = {'score' : feature_list[ranking], \n",
    "                 'gene_name' : train.columns[ranking]}\n",
    "    genedf = pd.DataFrame(data=gene_dict)\n",
    "    genedf.to_csv(model_name + '_genelist.csv', index=False)"
   ]
  },
  {
   "cell_type": "code",
   "execution_count": 30,
   "metadata": {},
   "outputs": [],
   "source": [
    "# # This creates the csv files to get genes for pathway analysis.\n",
    "# # Uncomment this section if you need the csv files\n",
    "\n",
    "# genes_to_csv(s, 'xgbsmote')\n",
    "# genes_to_csv(f, 'xgb')"
   ]
  },
  {
   "cell_type": "code",
   "execution_count": null,
   "metadata": {},
   "outputs": [],
   "source": []
  }
 ],
 "metadata": {
  "kernelspec": {
   "display_name": "Python 3",
   "language": "python",
   "name": "python3"
  },
  "language_info": {
   "codemirror_mode": {
    "name": "ipython",
    "version": 3
   },
   "file_extension": ".py",
   "mimetype": "text/x-python",
   "name": "python",
   "nbconvert_exporter": "python",
   "pygments_lexer": "ipython3",
   "version": "3.7.6"
  }
 },
 "nbformat": 4,
 "nbformat_minor": 4
}
