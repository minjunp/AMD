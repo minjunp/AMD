{
 "cells": [
  {
   "cell_type": "code",
   "execution_count": 1,
   "metadata": {},
   "outputs": [],
   "source": [
    "import pandas as pd\n",
    "import numpy as np\n",
    "import matplotlib.pyplot as plt\n",
    "import seaborn as sns\n",
    "from sklearn import manifold\n",
    "from sklearn.manifold import TSNE\n",
    "from mpl_toolkits.mplot3d import Axes3D\n",
    "from matplotlib.ticker import NullFormatter\n",
    "from sklearn.decomposition import PCA\n",
    "import seaborn as sns\n",
    "import matplotlib.pyplot as plt\n",
    "\n",
    "from time import time"
   ]
  },
  {
   "cell_type": "code",
   "execution_count": 2,
   "metadata": {},
   "outputs": [
    {
     "data": {
      "text/plain": [
       "(55169, 407)"
      ]
     },
     "execution_count": 2,
     "metadata": {},
     "output_type": "execute_result"
    }
   ],
   "source": [
    "df_train = pd.read_csv('train_genelevel_90%.tsv', sep='\\t',index_col=0)\n",
    "#df.set_index(df[\"Unnamed: 0\"], inplace=True)\n",
    "df_train.shape"
   ]
  },
  {
   "cell_type": "code",
   "execution_count": 3,
   "metadata": {},
   "outputs": [
    {
     "data": {
      "text/plain": [
       "(55169, 46)"
      ]
     },
     "execution_count": 3,
     "metadata": {},
     "output_type": "execute_result"
    }
   ],
   "source": [
    "df_test = pd.read_csv('test_genelevel_10%.tsv', sep='\\t',index_col=0)\n",
    "#df.set_index(df[\"Unnamed: 0\"], inplace=True)\n",
    "df_test.shape"
   ]
  },
  {
   "cell_type": "markdown",
   "metadata": {},
   "source": [
    "# Lasso Regularizer"
   ]
  },
  {
   "cell_type": "code",
   "execution_count": 4,
   "metadata": {},
   "outputs": [
    {
     "data": {
      "text/html": [
       "<div>\n",
       "<style scoped>\n",
       "    .dataframe tbody tr th:only-of-type {\n",
       "        vertical-align: middle;\n",
       "    }\n",
       "\n",
       "    .dataframe tbody tr th {\n",
       "        vertical-align: top;\n",
       "    }\n",
       "\n",
       "    .dataframe thead th {\n",
       "        text-align: right;\n",
       "    }\n",
       "</style>\n",
       "<table border=\"1\" class=\"dataframe\">\n",
       "  <thead>\n",
       "    <tr style=\"text-align: right;\">\n",
       "      <th></th>\n",
       "      <th>index</th>\n",
       "      <th>mgs_level</th>\n",
       "      <th>ENSG00000000419</th>\n",
       "      <th>ENSG00000000457</th>\n",
       "      <th>ENSG00000000460</th>\n",
       "      <th>ENSG00000000938</th>\n",
       "      <th>ENSG00000000971</th>\n",
       "      <th>ENSG00000001036</th>\n",
       "      <th>ENSG00000001084</th>\n",
       "      <th>ENSG00000001167</th>\n",
       "      <th>...</th>\n",
       "      <th>ENSG00000283686</th>\n",
       "      <th>ENSG00000283688</th>\n",
       "      <th>ENSG00000283689</th>\n",
       "      <th>ENSG00000283690</th>\n",
       "      <th>ENSG00000283691</th>\n",
       "      <th>ENSG00000283693</th>\n",
       "      <th>ENSG00000283695</th>\n",
       "      <th>ENSG00000283696</th>\n",
       "      <th>ENSG00000283698</th>\n",
       "      <th>ENSG00000283699</th>\n",
       "    </tr>\n",
       "  </thead>\n",
       "  <tbody>\n",
       "    <tr>\n",
       "      <td>0</td>\n",
       "      <td>205_2</td>\n",
       "      <td>2</td>\n",
       "      <td>202.0</td>\n",
       "      <td>261.0</td>\n",
       "      <td>194.0</td>\n",
       "      <td>25.0</td>\n",
       "      <td>428.00</td>\n",
       "      <td>169.0</td>\n",
       "      <td>709.0</td>\n",
       "      <td>557.0</td>\n",
       "      <td>...</td>\n",
       "      <td>0.0</td>\n",
       "      <td>0.0</td>\n",
       "      <td>0.0</td>\n",
       "      <td>0.0</td>\n",
       "      <td>0.0</td>\n",
       "      <td>0.0</td>\n",
       "      <td>0.0</td>\n",
       "      <td>5.0</td>\n",
       "      <td>1.0</td>\n",
       "      <td>0.0</td>\n",
       "    </tr>\n",
       "    <tr>\n",
       "      <td>1</td>\n",
       "      <td>251_1</td>\n",
       "      <td>1</td>\n",
       "      <td>243.0</td>\n",
       "      <td>369.0</td>\n",
       "      <td>188.0</td>\n",
       "      <td>15.0</td>\n",
       "      <td>91.06</td>\n",
       "      <td>118.0</td>\n",
       "      <td>396.0</td>\n",
       "      <td>484.0</td>\n",
       "      <td>...</td>\n",
       "      <td>0.0</td>\n",
       "      <td>0.0</td>\n",
       "      <td>0.0</td>\n",
       "      <td>0.0</td>\n",
       "      <td>0.0</td>\n",
       "      <td>0.0</td>\n",
       "      <td>0.0</td>\n",
       "      <td>1.0</td>\n",
       "      <td>1.0</td>\n",
       "      <td>0.0</td>\n",
       "    </tr>\n",
       "    <tr>\n",
       "      <td>2</td>\n",
       "      <td>474_3</td>\n",
       "      <td>3</td>\n",
       "      <td>230.0</td>\n",
       "      <td>355.0</td>\n",
       "      <td>234.0</td>\n",
       "      <td>14.0</td>\n",
       "      <td>83.00</td>\n",
       "      <td>92.0</td>\n",
       "      <td>424.0</td>\n",
       "      <td>502.0</td>\n",
       "      <td>...</td>\n",
       "      <td>0.0</td>\n",
       "      <td>0.0</td>\n",
       "      <td>1.0</td>\n",
       "      <td>0.0</td>\n",
       "      <td>0.0</td>\n",
       "      <td>0.0</td>\n",
       "      <td>0.0</td>\n",
       "      <td>1.0</td>\n",
       "      <td>0.0</td>\n",
       "      <td>0.0</td>\n",
       "    </tr>\n",
       "    <tr>\n",
       "      <td>3</td>\n",
       "      <td>178_4</td>\n",
       "      <td>4</td>\n",
       "      <td>270.0</td>\n",
       "      <td>375.0</td>\n",
       "      <td>236.0</td>\n",
       "      <td>14.0</td>\n",
       "      <td>184.00</td>\n",
       "      <td>87.0</td>\n",
       "      <td>442.0</td>\n",
       "      <td>1020.0</td>\n",
       "      <td>...</td>\n",
       "      <td>0.0</td>\n",
       "      <td>0.0</td>\n",
       "      <td>0.0</td>\n",
       "      <td>0.0</td>\n",
       "      <td>0.0</td>\n",
       "      <td>0.0</td>\n",
       "      <td>0.0</td>\n",
       "      <td>5.0</td>\n",
       "      <td>0.0</td>\n",
       "      <td>0.0</td>\n",
       "    </tr>\n",
       "    <tr>\n",
       "      <td>4</td>\n",
       "      <td>313_1</td>\n",
       "      <td>1</td>\n",
       "      <td>232.0</td>\n",
       "      <td>317.0</td>\n",
       "      <td>385.0</td>\n",
       "      <td>14.0</td>\n",
       "      <td>167.78</td>\n",
       "      <td>94.0</td>\n",
       "      <td>403.0</td>\n",
       "      <td>747.0</td>\n",
       "      <td>...</td>\n",
       "      <td>0.0</td>\n",
       "      <td>0.0</td>\n",
       "      <td>1.0</td>\n",
       "      <td>0.0</td>\n",
       "      <td>0.0</td>\n",
       "      <td>0.0</td>\n",
       "      <td>0.0</td>\n",
       "      <td>1.0</td>\n",
       "      <td>0.0</td>\n",
       "      <td>0.0</td>\n",
       "    </tr>\n",
       "  </tbody>\n",
       "</table>\n",
       "<p>5 rows × 55171 columns</p>\n",
       "</div>"
      ],
      "text/plain": [
       "   index mgs_level  ENSG00000000419  ENSG00000000457  ENSG00000000460  \\\n",
       "0  205_2         2            202.0            261.0            194.0   \n",
       "1  251_1         1            243.0            369.0            188.0   \n",
       "2  474_3         3            230.0            355.0            234.0   \n",
       "3  178_4         4            270.0            375.0            236.0   \n",
       "4  313_1         1            232.0            317.0            385.0   \n",
       "\n",
       "   ENSG00000000938  ENSG00000000971  ENSG00000001036  ENSG00000001084  \\\n",
       "0             25.0           428.00            169.0            709.0   \n",
       "1             15.0            91.06            118.0            396.0   \n",
       "2             14.0            83.00             92.0            424.0   \n",
       "3             14.0           184.00             87.0            442.0   \n",
       "4             14.0           167.78             94.0            403.0   \n",
       "\n",
       "   ENSG00000001167  ...  ENSG00000283686  ENSG00000283688  ENSG00000283689  \\\n",
       "0            557.0  ...              0.0              0.0              0.0   \n",
       "1            484.0  ...              0.0              0.0              0.0   \n",
       "2            502.0  ...              0.0              0.0              1.0   \n",
       "3           1020.0  ...              0.0              0.0              0.0   \n",
       "4            747.0  ...              0.0              0.0              1.0   \n",
       "\n",
       "   ENSG00000283690  ENSG00000283691  ENSG00000283693  ENSG00000283695  \\\n",
       "0              0.0              0.0              0.0              0.0   \n",
       "1              0.0              0.0              0.0              0.0   \n",
       "2              0.0              0.0              0.0              0.0   \n",
       "3              0.0              0.0              0.0              0.0   \n",
       "4              0.0              0.0              0.0              0.0   \n",
       "\n",
       "   ENSG00000283696  ENSG00000283698  ENSG00000283699  \n",
       "0              5.0              1.0              0.0  \n",
       "1              1.0              1.0              0.0  \n",
       "2              1.0              0.0              0.0  \n",
       "3              5.0              0.0              0.0  \n",
       "4              1.0              0.0              0.0  \n",
       "\n",
       "[5 rows x 55171 columns]"
      ]
     },
     "execution_count": 4,
     "metadata": {},
     "output_type": "execute_result"
    }
   ],
   "source": [
    "#transpose the dataframe --> make genes as dementions \n",
    "dfn = df_train.T\n",
    "dfn['mgs_level'] = 0\n",
    "dfn.reset_index(inplace = True)\n",
    "list = dfn['index'].apply(lambda x:x[-1]).tolist()\n",
    "#list \n",
    "dfn['mgs_level'] = list\n",
    "level = dfn.pop('mgs_level')\n",
    "dfn.insert(1,'mgs_level',level)\n",
    "dfn.head()"
   ]
  },
  {
   "cell_type": "code",
   "execution_count": 5,
   "metadata": {},
   "outputs": [],
   "source": [
    "## separate control vs patient\n",
    "control = dfn[dfn.mgs_level == '1']\n",
    "patient = dfn[dfn.mgs_level != '1']"
   ]
  },
  {
   "cell_type": "code",
   "execution_count": 6,
   "metadata": {},
   "outputs": [
    {
     "name": "stderr",
     "output_type": "stream",
     "text": [
      "/Users/minjunp/anaconda3/lib/python3.7/site-packages/ipykernel_launcher.py:2: SettingWithCopyWarning: \n",
      "A value is trying to be set on a copy of a slice from a DataFrame.\n",
      "Try using .loc[row_indexer,col_indexer] = value instead\n",
      "\n",
      "See the caveats in the documentation: http://pandas.pydata.org/pandas-docs/stable/user_guide/indexing.html#returning-a-view-versus-a-copy\n",
      "  \n",
      "/Users/minjunp/anaconda3/lib/python3.7/site-packages/ipykernel_launcher.py:3: SettingWithCopyWarning: \n",
      "A value is trying to be set on a copy of a slice from a DataFrame.\n",
      "Try using .loc[row_indexer,col_indexer] = value instead\n",
      "\n",
      "See the caveats in the documentation: http://pandas.pydata.org/pandas-docs/stable/user_guide/indexing.html#returning-a-view-versus-a-copy\n",
      "  This is separate from the ipykernel package so we can avoid doing imports until\n"
     ]
    }
   ],
   "source": [
    "## 0 if stage is 1, 1 if stage is 1,2,3\n",
    "control[\"binary\"] = 0\n",
    "patient[\"binary\"] = 1"
   ]
  },
  {
   "cell_type": "code",
   "execution_count": 7,
   "metadata": {},
   "outputs": [
    {
     "data": {
      "text/html": [
       "<div>\n",
       "<style scoped>\n",
       "    .dataframe tbody tr th:only-of-type {\n",
       "        vertical-align: middle;\n",
       "    }\n",
       "\n",
       "    .dataframe tbody tr th {\n",
       "        vertical-align: top;\n",
       "    }\n",
       "\n",
       "    .dataframe thead th {\n",
       "        text-align: right;\n",
       "    }\n",
       "</style>\n",
       "<table border=\"1\" class=\"dataframe\">\n",
       "  <thead>\n",
       "    <tr style=\"text-align: right;\">\n",
       "      <th></th>\n",
       "      <th>ENSG00000000419</th>\n",
       "      <th>ENSG00000000457</th>\n",
       "      <th>ENSG00000000460</th>\n",
       "      <th>ENSG00000000938</th>\n",
       "      <th>ENSG00000000971</th>\n",
       "      <th>ENSG00000001036</th>\n",
       "      <th>ENSG00000001084</th>\n",
       "      <th>ENSG00000001167</th>\n",
       "      <th>ENSG00000001460</th>\n",
       "      <th>ENSG00000001461</th>\n",
       "      <th>...</th>\n",
       "      <th>ENSG00000283688</th>\n",
       "      <th>ENSG00000283689</th>\n",
       "      <th>ENSG00000283690</th>\n",
       "      <th>ENSG00000283691</th>\n",
       "      <th>ENSG00000283693</th>\n",
       "      <th>ENSG00000283695</th>\n",
       "      <th>ENSG00000283696</th>\n",
       "      <th>ENSG00000283698</th>\n",
       "      <th>ENSG00000283699</th>\n",
       "      <th>binary</th>\n",
       "    </tr>\n",
       "  </thead>\n",
       "  <tbody>\n",
       "    <tr>\n",
       "      <td>0</td>\n",
       "      <td>243.0</td>\n",
       "      <td>369.0</td>\n",
       "      <td>188.0</td>\n",
       "      <td>15.0</td>\n",
       "      <td>91.06</td>\n",
       "      <td>118.0</td>\n",
       "      <td>396.0</td>\n",
       "      <td>484.0</td>\n",
       "      <td>533.0</td>\n",
       "      <td>1511.0</td>\n",
       "      <td>...</td>\n",
       "      <td>0.0</td>\n",
       "      <td>0.0</td>\n",
       "      <td>0.0</td>\n",
       "      <td>0.0</td>\n",
       "      <td>0.0</td>\n",
       "      <td>0.0</td>\n",
       "      <td>1.0</td>\n",
       "      <td>1.0</td>\n",
       "      <td>0.0</td>\n",
       "      <td>0</td>\n",
       "    </tr>\n",
       "    <tr>\n",
       "      <td>1</td>\n",
       "      <td>232.0</td>\n",
       "      <td>317.0</td>\n",
       "      <td>385.0</td>\n",
       "      <td>14.0</td>\n",
       "      <td>167.78</td>\n",
       "      <td>94.0</td>\n",
       "      <td>403.0</td>\n",
       "      <td>747.0</td>\n",
       "      <td>305.0</td>\n",
       "      <td>1352.0</td>\n",
       "      <td>...</td>\n",
       "      <td>0.0</td>\n",
       "      <td>1.0</td>\n",
       "      <td>0.0</td>\n",
       "      <td>0.0</td>\n",
       "      <td>0.0</td>\n",
       "      <td>0.0</td>\n",
       "      <td>1.0</td>\n",
       "      <td>0.0</td>\n",
       "      <td>0.0</td>\n",
       "      <td>0</td>\n",
       "    </tr>\n",
       "    <tr>\n",
       "      <td>2</td>\n",
       "      <td>174.0</td>\n",
       "      <td>254.0</td>\n",
       "      <td>144.0</td>\n",
       "      <td>10.0</td>\n",
       "      <td>105.76</td>\n",
       "      <td>103.0</td>\n",
       "      <td>352.0</td>\n",
       "      <td>391.0</td>\n",
       "      <td>304.0</td>\n",
       "      <td>912.0</td>\n",
       "      <td>...</td>\n",
       "      <td>0.0</td>\n",
       "      <td>0.0</td>\n",
       "      <td>0.0</td>\n",
       "      <td>0.0</td>\n",
       "      <td>0.0</td>\n",
       "      <td>0.0</td>\n",
       "      <td>0.0</td>\n",
       "      <td>0.0</td>\n",
       "      <td>0.0</td>\n",
       "      <td>0</td>\n",
       "    </tr>\n",
       "    <tr>\n",
       "      <td>3</td>\n",
       "      <td>381.0</td>\n",
       "      <td>484.0</td>\n",
       "      <td>270.0</td>\n",
       "      <td>14.0</td>\n",
       "      <td>112.16</td>\n",
       "      <td>142.0</td>\n",
       "      <td>538.0</td>\n",
       "      <td>995.0</td>\n",
       "      <td>609.0</td>\n",
       "      <td>2163.0</td>\n",
       "      <td>...</td>\n",
       "      <td>0.0</td>\n",
       "      <td>0.0</td>\n",
       "      <td>0.0</td>\n",
       "      <td>0.0</td>\n",
       "      <td>0.0</td>\n",
       "      <td>0.0</td>\n",
       "      <td>3.0</td>\n",
       "      <td>0.0</td>\n",
       "      <td>0.0</td>\n",
       "      <td>0</td>\n",
       "    </tr>\n",
       "    <tr>\n",
       "      <td>4</td>\n",
       "      <td>379.0</td>\n",
       "      <td>431.0</td>\n",
       "      <td>251.0</td>\n",
       "      <td>17.0</td>\n",
       "      <td>260.68</td>\n",
       "      <td>151.0</td>\n",
       "      <td>797.0</td>\n",
       "      <td>794.0</td>\n",
       "      <td>493.0</td>\n",
       "      <td>1814.0</td>\n",
       "      <td>...</td>\n",
       "      <td>0.0</td>\n",
       "      <td>0.0</td>\n",
       "      <td>0.0</td>\n",
       "      <td>0.0</td>\n",
       "      <td>0.0</td>\n",
       "      <td>0.0</td>\n",
       "      <td>5.0</td>\n",
       "      <td>0.0</td>\n",
       "      <td>0.0</td>\n",
       "      <td>0</td>\n",
       "    </tr>\n",
       "  </tbody>\n",
       "</table>\n",
       "<p>5 rows × 55170 columns</p>\n",
       "</div>"
      ],
      "text/plain": [
       "   ENSG00000000419  ENSG00000000457  ENSG00000000460  ENSG00000000938  \\\n",
       "0            243.0            369.0            188.0             15.0   \n",
       "1            232.0            317.0            385.0             14.0   \n",
       "2            174.0            254.0            144.0             10.0   \n",
       "3            381.0            484.0            270.0             14.0   \n",
       "4            379.0            431.0            251.0             17.0   \n",
       "\n",
       "   ENSG00000000971  ENSG00000001036  ENSG00000001084  ENSG00000001167  \\\n",
       "0            91.06            118.0            396.0            484.0   \n",
       "1           167.78             94.0            403.0            747.0   \n",
       "2           105.76            103.0            352.0            391.0   \n",
       "3           112.16            142.0            538.0            995.0   \n",
       "4           260.68            151.0            797.0            794.0   \n",
       "\n",
       "   ENSG00000001460  ENSG00000001461  ...  ENSG00000283688  ENSG00000283689  \\\n",
       "0            533.0           1511.0  ...              0.0              0.0   \n",
       "1            305.0           1352.0  ...              0.0              1.0   \n",
       "2            304.0            912.0  ...              0.0              0.0   \n",
       "3            609.0           2163.0  ...              0.0              0.0   \n",
       "4            493.0           1814.0  ...              0.0              0.0   \n",
       "\n",
       "   ENSG00000283690  ENSG00000283691  ENSG00000283693  ENSG00000283695  \\\n",
       "0              0.0              0.0              0.0              0.0   \n",
       "1              0.0              0.0              0.0              0.0   \n",
       "2              0.0              0.0              0.0              0.0   \n",
       "3              0.0              0.0              0.0              0.0   \n",
       "4              0.0              0.0              0.0              0.0   \n",
       "\n",
       "   ENSG00000283696  ENSG00000283698  ENSG00000283699  binary  \n",
       "0              1.0              1.0              0.0       0  \n",
       "1              1.0              0.0              0.0       0  \n",
       "2              0.0              0.0              0.0       0  \n",
       "3              3.0              0.0              0.0       0  \n",
       "4              5.0              0.0              0.0       0  \n",
       "\n",
       "[5 rows x 55170 columns]"
      ]
     },
     "execution_count": 7,
     "metadata": {},
     "output_type": "execute_result"
    }
   ],
   "source": [
    "## merge two datasets vertically and remove mgs level\n",
    "new_df = control.append(patient, ignore_index=True)\n",
    "new_df = new_df.iloc[:,2:]\n",
    "new_df.head()"
   ]
  },
  {
   "cell_type": "code",
   "execution_count": 8,
   "metadata": {},
   "outputs": [
    {
     "data": {
      "text/plain": [
       "(407, 55170)"
      ]
     },
     "execution_count": 8,
     "metadata": {},
     "output_type": "execute_result"
    }
   ],
   "source": [
    "## print shape\n",
    "new_df.shape"
   ]
  },
  {
   "cell_type": "code",
   "execution_count": 9,
   "metadata": {},
   "outputs": [
    {
     "data": {
      "text/plain": [
       "((407, 55169), (407,))"
      ]
     },
     "execution_count": 9,
     "metadata": {},
     "output_type": "execute_result"
    }
   ],
   "source": [
    "## split into X, Y variables\n",
    "X_train = new_df.iloc[:,:-1]\n",
    "y_train = new_df.iloc[:,-1]\n",
    "X_train.shape, y_train.shape"
   ]
  },
  {
   "cell_type": "code",
   "execution_count": 10,
   "metadata": {},
   "outputs": [
    {
     "data": {
      "text/plain": [
       "StandardScaler(copy=True, with_mean=True, with_std=True)"
      ]
     },
     "execution_count": 10,
     "metadata": {},
     "output_type": "execute_result"
    }
   ],
   "source": [
    "import seaborn as sns\n",
    "from sklearn.linear_model import Lasso, LogisticRegression\n",
    "from sklearn.feature_selection import SelectFromModel\n",
    "from sklearn.preprocessing import StandardScaler\n",
    "from sklearn.model_selection import cross_validate\n",
    "from sklearn import datasets, linear_model\n",
    "\n",
    "scaler = StandardScaler()\n",
    "scaler.fit(X_train)"
   ]
  },
  {
   "cell_type": "code",
   "execution_count": 11,
   "metadata": {},
   "outputs": [
    {
     "name": "stderr",
     "output_type": "stream",
     "text": [
      "/Users/minjunp/anaconda3/lib/python3.7/site-packages/sklearn/linear_model/logistic.py:432: FutureWarning: Default solver will be changed to 'lbfgs' in 0.22. Specify a solver to silence this warning.\n",
      "  FutureWarning)\n"
     ]
    },
    {
     "data": {
      "text/plain": [
       "SelectFromModel(estimator=LogisticRegression(C=1.0, class_weight=None,\n",
       "                                             dual=False, fit_intercept=True,\n",
       "                                             intercept_scaling=1, l1_ratio=None,\n",
       "                                             max_iter=100, multi_class='warn',\n",
       "                                             n_jobs=None, penalty='l1',\n",
       "                                             random_state=None, solver='warn',\n",
       "                                             tol=0.0001, verbose=0,\n",
       "                                             warm_start=False),\n",
       "                max_features=None, norm_order=1, prefit=False, threshold=None)"
      ]
     },
     "execution_count": 11,
     "metadata": {},
     "output_type": "execute_result"
    }
   ],
   "source": [
    "sel_ = SelectFromModel(LogisticRegression(penalty='l1')) ##penalty is lasso regression\n",
    "sel_.fit(scaler.transform(X_train), y_train)"
   ]
  },
  {
   "cell_type": "code",
   "execution_count": 12,
   "metadata": {},
   "outputs": [
    {
     "data": {
      "text/plain": [
       "array([False, False, False, ..., False, False, False])"
      ]
     },
     "execution_count": 12,
     "metadata": {},
     "output_type": "execute_result"
    }
   ],
   "source": [
    "sel_.get_support()"
   ]
  },
  {
   "cell_type": "code",
   "execution_count": 13,
   "metadata": {},
   "outputs": [
    {
     "name": "stdout",
     "output_type": "stream",
     "text": [
      "total features: 55169\n",
      "selected features: 266\n",
      "features with coefficients shrank to zero: 54903\n"
     ]
    }
   ],
   "source": [
    "## Make a list of with the selected features.\n",
    "selected_feat = X_train.columns[(sel_.get_support())]\n",
    "print('total features: {}'.format((X_train.shape[1])))\n",
    "print('selected features: {}'.format(len(selected_feat)))\n",
    "print('features with coefficients shrank to zero: {}'.format(\n",
    "      np.sum(sel_.estimator_.coef_ == 0)))"
   ]
  },
  {
   "cell_type": "code",
   "execution_count": 14,
   "metadata": {},
   "outputs": [
    {
     "data": {
      "text/plain": [
       "Index(['ENSG00000007908', 'ENSG00000078579', 'ENSG00000101251',\n",
       "       'ENSG00000110660', 'ENSG00000120075', 'ENSG00000125695',\n",
       "       'ENSG00000125975', 'ENSG00000134398', 'ENSG00000134817',\n",
       "       'ENSG00000136573',\n",
       "       ...\n",
       "       'ENSG00000278908', 'ENSG00000278992', 'ENSG00000279450',\n",
       "       'ENSG00000279698', 'ENSG00000279773', 'ENSG00000280070',\n",
       "       'ENSG00000280189', 'ENSG00000280850', 'ENSG00000283154',\n",
       "       'ENSG00000283578'],\n",
       "      dtype='object', length=266)"
      ]
     },
     "execution_count": 14,
     "metadata": {},
     "output_type": "execute_result"
    }
   ],
   "source": [
    "selected_feat"
   ]
  },
  {
   "cell_type": "code",
   "execution_count": 15,
   "metadata": {},
   "outputs": [
    {
     "data": {
      "text/plain": [
       "(266, 407)"
      ]
     },
     "execution_count": 15,
     "metadata": {},
     "output_type": "execute_result"
    }
   ],
   "source": [
    "## Removing the features from training\n",
    "## 55169 patients, 275 important features\n",
    "X_train_selected = sel_.transform(X_train)\n",
    "X_train_selected = np.transpose(X_train_selected)\n",
    "X_train_selected.shape\n",
    "#sample = X_train_selected[1:100]\n",
    "#ylabel = sig_feats[1:100]\n",
    "#type(ylabel)\n",
    "#ylabel = ylabel.values.tolist()"
   ]
  },
  {
   "cell_type": "code",
   "execution_count": 16,
   "metadata": {},
   "outputs": [
    {
     "data": {
      "text/plain": [
       "Index(['ENSG00000000419', 'ENSG00000000457', 'ENSG00000000460',\n",
       "       'ENSG00000000938', 'ENSG00000000971', 'ENSG00000001036',\n",
       "       'ENSG00000001084', 'ENSG00000001167', 'ENSG00000001460',\n",
       "       'ENSG00000001461',\n",
       "       ...\n",
       "       'ENSG00000283686', 'ENSG00000283688', 'ENSG00000283689',\n",
       "       'ENSG00000283690', 'ENSG00000283691', 'ENSG00000283693',\n",
       "       'ENSG00000283695', 'ENSG00000283696', 'ENSG00000283698',\n",
       "       'ENSG00000283699'],\n",
       "      dtype='object', length=54903)"
      ]
     },
     "execution_count": 16,
     "metadata": {},
     "output_type": "execute_result"
    }
   ],
   "source": [
    "## Identifying the removed features\n",
    "removed_feats = X_train.columns[(sel_.estimator_.coef_ == 0).ravel().tolist()]\n",
    "removed_feats"
   ]
  },
  {
   "cell_type": "code",
   "execution_count": 17,
   "metadata": {},
   "outputs": [
    {
     "data": {
      "text/html": [
       "<div>\n",
       "<style scoped>\n",
       "    .dataframe tbody tr th:only-of-type {\n",
       "        vertical-align: middle;\n",
       "    }\n",
       "\n",
       "    .dataframe tbody tr th {\n",
       "        vertical-align: top;\n",
       "    }\n",
       "\n",
       "    .dataframe thead th {\n",
       "        text-align: right;\n",
       "    }\n",
       "</style>\n",
       "<table border=\"1\" class=\"dataframe\">\n",
       "  <thead>\n",
       "    <tr style=\"text-align: right;\">\n",
       "      <th></th>\n",
       "      <th>ENSG00000007908</th>\n",
       "      <th>ENSG00000078579</th>\n",
       "      <th>ENSG00000101251</th>\n",
       "      <th>ENSG00000110660</th>\n",
       "      <th>ENSG00000120075</th>\n",
       "      <th>ENSG00000125695</th>\n",
       "      <th>ENSG00000125975</th>\n",
       "      <th>ENSG00000134398</th>\n",
       "      <th>ENSG00000134817</th>\n",
       "      <th>ENSG00000136573</th>\n",
       "      <th>...</th>\n",
       "      <th>ENSG00000278908</th>\n",
       "      <th>ENSG00000278992</th>\n",
       "      <th>ENSG00000279450</th>\n",
       "      <th>ENSG00000279698</th>\n",
       "      <th>ENSG00000279773</th>\n",
       "      <th>ENSG00000280070</th>\n",
       "      <th>ENSG00000280189</th>\n",
       "      <th>ENSG00000280850</th>\n",
       "      <th>ENSG00000283154</th>\n",
       "      <th>ENSG00000283578</th>\n",
       "    </tr>\n",
       "  </thead>\n",
       "  <tbody>\n",
       "    <tr>\n",
       "      <td>0</td>\n",
       "      <td>5.0</td>\n",
       "      <td>1.0</td>\n",
       "      <td>0.0</td>\n",
       "      <td>431.0</td>\n",
       "      <td>0.0</td>\n",
       "      <td>0.0</td>\n",
       "      <td>0.0</td>\n",
       "      <td>1.0</td>\n",
       "      <td>2.0</td>\n",
       "      <td>0.0</td>\n",
       "      <td>...</td>\n",
       "      <td>0.0</td>\n",
       "      <td>0.0</td>\n",
       "      <td>0.0</td>\n",
       "      <td>0.0</td>\n",
       "      <td>0.0</td>\n",
       "      <td>0.0</td>\n",
       "      <td>0.0</td>\n",
       "      <td>0.0</td>\n",
       "      <td>0.0</td>\n",
       "      <td>0.0</td>\n",
       "    </tr>\n",
       "    <tr>\n",
       "      <td>1</td>\n",
       "      <td>1.0</td>\n",
       "      <td>0.0</td>\n",
       "      <td>0.0</td>\n",
       "      <td>281.0</td>\n",
       "      <td>0.0</td>\n",
       "      <td>0.0</td>\n",
       "      <td>0.0</td>\n",
       "      <td>0.0</td>\n",
       "      <td>3.0</td>\n",
       "      <td>0.0</td>\n",
       "      <td>...</td>\n",
       "      <td>0.0</td>\n",
       "      <td>0.0</td>\n",
       "      <td>0.0</td>\n",
       "      <td>0.0</td>\n",
       "      <td>1.0</td>\n",
       "      <td>0.0</td>\n",
       "      <td>0.0</td>\n",
       "      <td>0.0</td>\n",
       "      <td>0.0</td>\n",
       "      <td>0.0</td>\n",
       "    </tr>\n",
       "    <tr>\n",
       "      <td>2</td>\n",
       "      <td>4.0</td>\n",
       "      <td>0.0</td>\n",
       "      <td>0.0</td>\n",
       "      <td>96.0</td>\n",
       "      <td>0.0</td>\n",
       "      <td>0.0</td>\n",
       "      <td>0.0</td>\n",
       "      <td>0.0</td>\n",
       "      <td>0.0</td>\n",
       "      <td>0.0</td>\n",
       "      <td>...</td>\n",
       "      <td>0.0</td>\n",
       "      <td>0.0</td>\n",
       "      <td>0.0</td>\n",
       "      <td>0.0</td>\n",
       "      <td>0.0</td>\n",
       "      <td>0.0</td>\n",
       "      <td>0.0</td>\n",
       "      <td>0.0</td>\n",
       "      <td>0.0</td>\n",
       "      <td>0.0</td>\n",
       "    </tr>\n",
       "    <tr>\n",
       "      <td>3</td>\n",
       "      <td>1.0</td>\n",
       "      <td>1.0</td>\n",
       "      <td>1.0</td>\n",
       "      <td>497.0</td>\n",
       "      <td>0.0</td>\n",
       "      <td>0.0</td>\n",
       "      <td>0.0</td>\n",
       "      <td>1.0</td>\n",
       "      <td>0.0</td>\n",
       "      <td>0.0</td>\n",
       "      <td>...</td>\n",
       "      <td>0.0</td>\n",
       "      <td>0.0</td>\n",
       "      <td>0.0</td>\n",
       "      <td>0.0</td>\n",
       "      <td>0.0</td>\n",
       "      <td>0.0</td>\n",
       "      <td>0.0</td>\n",
       "      <td>0.0</td>\n",
       "      <td>0.0</td>\n",
       "      <td>0.0</td>\n",
       "    </tr>\n",
       "    <tr>\n",
       "      <td>4</td>\n",
       "      <td>4.0</td>\n",
       "      <td>3.0</td>\n",
       "      <td>3.0</td>\n",
       "      <td>492.0</td>\n",
       "      <td>0.0</td>\n",
       "      <td>0.0</td>\n",
       "      <td>0.0</td>\n",
       "      <td>0.0</td>\n",
       "      <td>2.0</td>\n",
       "      <td>0.0</td>\n",
       "      <td>...</td>\n",
       "      <td>0.0</td>\n",
       "      <td>0.0</td>\n",
       "      <td>0.0</td>\n",
       "      <td>0.0</td>\n",
       "      <td>0.0</td>\n",
       "      <td>0.0</td>\n",
       "      <td>0.0</td>\n",
       "      <td>0.0</td>\n",
       "      <td>0.0</td>\n",
       "      <td>0.0</td>\n",
       "    </tr>\n",
       "    <tr>\n",
       "      <td>...</td>\n",
       "      <td>...</td>\n",
       "      <td>...</td>\n",
       "      <td>...</td>\n",
       "      <td>...</td>\n",
       "      <td>...</td>\n",
       "      <td>...</td>\n",
       "      <td>...</td>\n",
       "      <td>...</td>\n",
       "      <td>...</td>\n",
       "      <td>...</td>\n",
       "      <td>...</td>\n",
       "      <td>...</td>\n",
       "      <td>...</td>\n",
       "      <td>...</td>\n",
       "      <td>...</td>\n",
       "      <td>...</td>\n",
       "      <td>...</td>\n",
       "      <td>...</td>\n",
       "      <td>...</td>\n",
       "      <td>...</td>\n",
       "      <td>...</td>\n",
       "    </tr>\n",
       "    <tr>\n",
       "      <td>402</td>\n",
       "      <td>0.0</td>\n",
       "      <td>2.0</td>\n",
       "      <td>1.0</td>\n",
       "      <td>285.0</td>\n",
       "      <td>0.0</td>\n",
       "      <td>0.0</td>\n",
       "      <td>0.0</td>\n",
       "      <td>0.0</td>\n",
       "      <td>4.0</td>\n",
       "      <td>0.0</td>\n",
       "      <td>...</td>\n",
       "      <td>0.0</td>\n",
       "      <td>0.0</td>\n",
       "      <td>0.0</td>\n",
       "      <td>0.0</td>\n",
       "      <td>0.0</td>\n",
       "      <td>0.0</td>\n",
       "      <td>0.0</td>\n",
       "      <td>0.0</td>\n",
       "      <td>0.0</td>\n",
       "      <td>0.0</td>\n",
       "    </tr>\n",
       "    <tr>\n",
       "      <td>403</td>\n",
       "      <td>2.0</td>\n",
       "      <td>0.0</td>\n",
       "      <td>3.0</td>\n",
       "      <td>234.0</td>\n",
       "      <td>0.0</td>\n",
       "      <td>0.0</td>\n",
       "      <td>0.0</td>\n",
       "      <td>0.0</td>\n",
       "      <td>2.0</td>\n",
       "      <td>0.0</td>\n",
       "      <td>...</td>\n",
       "      <td>0.0</td>\n",
       "      <td>0.0</td>\n",
       "      <td>0.0</td>\n",
       "      <td>1.0</td>\n",
       "      <td>0.0</td>\n",
       "      <td>0.0</td>\n",
       "      <td>0.0</td>\n",
       "      <td>0.0</td>\n",
       "      <td>0.0</td>\n",
       "      <td>0.0</td>\n",
       "    </tr>\n",
       "    <tr>\n",
       "      <td>404</td>\n",
       "      <td>1.0</td>\n",
       "      <td>2.0</td>\n",
       "      <td>0.0</td>\n",
       "      <td>369.0</td>\n",
       "      <td>0.0</td>\n",
       "      <td>0.0</td>\n",
       "      <td>0.0</td>\n",
       "      <td>1.0</td>\n",
       "      <td>4.0</td>\n",
       "      <td>0.0</td>\n",
       "      <td>...</td>\n",
       "      <td>0.0</td>\n",
       "      <td>0.0</td>\n",
       "      <td>0.0</td>\n",
       "      <td>0.0</td>\n",
       "      <td>1.0</td>\n",
       "      <td>1.0</td>\n",
       "      <td>0.0</td>\n",
       "      <td>0.0</td>\n",
       "      <td>0.0</td>\n",
       "      <td>0.0</td>\n",
       "    </tr>\n",
       "    <tr>\n",
       "      <td>405</td>\n",
       "      <td>0.0</td>\n",
       "      <td>4.0</td>\n",
       "      <td>0.0</td>\n",
       "      <td>130.0</td>\n",
       "      <td>0.0</td>\n",
       "      <td>0.0</td>\n",
       "      <td>0.0</td>\n",
       "      <td>0.0</td>\n",
       "      <td>26.0</td>\n",
       "      <td>0.0</td>\n",
       "      <td>...</td>\n",
       "      <td>0.0</td>\n",
       "      <td>0.0</td>\n",
       "      <td>0.0</td>\n",
       "      <td>0.0</td>\n",
       "      <td>0.0</td>\n",
       "      <td>0.0</td>\n",
       "      <td>0.0</td>\n",
       "      <td>0.0</td>\n",
       "      <td>0.0</td>\n",
       "      <td>0.0</td>\n",
       "    </tr>\n",
       "    <tr>\n",
       "      <td>406</td>\n",
       "      <td>0.0</td>\n",
       "      <td>1.0</td>\n",
       "      <td>1.0</td>\n",
       "      <td>214.0</td>\n",
       "      <td>0.0</td>\n",
       "      <td>0.0</td>\n",
       "      <td>0.0</td>\n",
       "      <td>0.0</td>\n",
       "      <td>0.0</td>\n",
       "      <td>0.0</td>\n",
       "      <td>...</td>\n",
       "      <td>0.0</td>\n",
       "      <td>0.0</td>\n",
       "      <td>0.0</td>\n",
       "      <td>0.0</td>\n",
       "      <td>0.0</td>\n",
       "      <td>0.0</td>\n",
       "      <td>0.0</td>\n",
       "      <td>0.0</td>\n",
       "      <td>0.0</td>\n",
       "      <td>0.0</td>\n",
       "    </tr>\n",
       "  </tbody>\n",
       "</table>\n",
       "<p>407 rows × 266 columns</p>\n",
       "</div>"
      ],
      "text/plain": [
       "     ENSG00000007908  ENSG00000078579  ENSG00000101251  ENSG00000110660  \\\n",
       "0                5.0              1.0              0.0            431.0   \n",
       "1                1.0              0.0              0.0            281.0   \n",
       "2                4.0              0.0              0.0             96.0   \n",
       "3                1.0              1.0              1.0            497.0   \n",
       "4                4.0              3.0              3.0            492.0   \n",
       "..               ...              ...              ...              ...   \n",
       "402              0.0              2.0              1.0            285.0   \n",
       "403              2.0              0.0              3.0            234.0   \n",
       "404              1.0              2.0              0.0            369.0   \n",
       "405              0.0              4.0              0.0            130.0   \n",
       "406              0.0              1.0              1.0            214.0   \n",
       "\n",
       "     ENSG00000120075  ENSG00000125695  ENSG00000125975  ENSG00000134398  \\\n",
       "0                0.0              0.0              0.0              1.0   \n",
       "1                0.0              0.0              0.0              0.0   \n",
       "2                0.0              0.0              0.0              0.0   \n",
       "3                0.0              0.0              0.0              1.0   \n",
       "4                0.0              0.0              0.0              0.0   \n",
       "..               ...              ...              ...              ...   \n",
       "402              0.0              0.0              0.0              0.0   \n",
       "403              0.0              0.0              0.0              0.0   \n",
       "404              0.0              0.0              0.0              1.0   \n",
       "405              0.0              0.0              0.0              0.0   \n",
       "406              0.0              0.0              0.0              0.0   \n",
       "\n",
       "     ENSG00000134817  ENSG00000136573  ...  ENSG00000278908  ENSG00000278992  \\\n",
       "0                2.0              0.0  ...              0.0              0.0   \n",
       "1                3.0              0.0  ...              0.0              0.0   \n",
       "2                0.0              0.0  ...              0.0              0.0   \n",
       "3                0.0              0.0  ...              0.0              0.0   \n",
       "4                2.0              0.0  ...              0.0              0.0   \n",
       "..               ...              ...  ...              ...              ...   \n",
       "402              4.0              0.0  ...              0.0              0.0   \n",
       "403              2.0              0.0  ...              0.0              0.0   \n",
       "404              4.0              0.0  ...              0.0              0.0   \n",
       "405             26.0              0.0  ...              0.0              0.0   \n",
       "406              0.0              0.0  ...              0.0              0.0   \n",
       "\n",
       "     ENSG00000279450  ENSG00000279698  ENSG00000279773  ENSG00000280070  \\\n",
       "0                0.0              0.0              0.0              0.0   \n",
       "1                0.0              0.0              1.0              0.0   \n",
       "2                0.0              0.0              0.0              0.0   \n",
       "3                0.0              0.0              0.0              0.0   \n",
       "4                0.0              0.0              0.0              0.0   \n",
       "..               ...              ...              ...              ...   \n",
       "402              0.0              0.0              0.0              0.0   \n",
       "403              0.0              1.0              0.0              0.0   \n",
       "404              0.0              0.0              1.0              1.0   \n",
       "405              0.0              0.0              0.0              0.0   \n",
       "406              0.0              0.0              0.0              0.0   \n",
       "\n",
       "     ENSG00000280189  ENSG00000280850  ENSG00000283154  ENSG00000283578  \n",
       "0                0.0              0.0              0.0              0.0  \n",
       "1                0.0              0.0              0.0              0.0  \n",
       "2                0.0              0.0              0.0              0.0  \n",
       "3                0.0              0.0              0.0              0.0  \n",
       "4                0.0              0.0              0.0              0.0  \n",
       "..               ...              ...              ...              ...  \n",
       "402              0.0              0.0              0.0              0.0  \n",
       "403              0.0              0.0              0.0              0.0  \n",
       "404              0.0              0.0              0.0              0.0  \n",
       "405              0.0              0.0              0.0              0.0  \n",
       "406              0.0              0.0              0.0              0.0  \n",
       "\n",
       "[407 rows x 266 columns]"
      ]
     },
     "execution_count": 17,
     "metadata": {},
     "output_type": "execute_result"
    }
   ],
   "source": [
    "X_train_selected\n",
    "df = pd.DataFrame(data=X_train_selected, index=selected_feat)\n",
    "df.T"
   ]
  },
  {
   "cell_type": "code",
   "execution_count": 18,
   "metadata": {},
   "outputs": [],
   "source": [
    "lasso_selected_feature = selected_feat"
   ]
  },
  {
   "cell_type": "code",
   "execution_count": null,
   "metadata": {},
   "outputs": [],
   "source": []
  },
  {
   "cell_type": "markdown",
   "metadata": {},
   "source": [
    "# Ridge Regularizer"
   ]
  },
  {
   "cell_type": "code",
   "execution_count": 19,
   "metadata": {},
   "outputs": [
    {
     "name": "stderr",
     "output_type": "stream",
     "text": [
      "/Users/minjunp/anaconda3/lib/python3.7/site-packages/sklearn/linear_model/logistic.py:432: FutureWarning: Default solver will be changed to 'lbfgs' in 0.22. Specify a solver to silence this warning.\n",
      "  FutureWarning)\n"
     ]
    },
    {
     "data": {
      "text/plain": [
       "SelectFromModel(estimator=LogisticRegression(C=1.0, class_weight=None,\n",
       "                                             dual=False, fit_intercept=True,\n",
       "                                             intercept_scaling=1, l1_ratio=None,\n",
       "                                             max_iter=100, multi_class='warn',\n",
       "                                             n_jobs=None, penalty='l2',\n",
       "                                             random_state=None, solver='warn',\n",
       "                                             tol=0.0001, verbose=0,\n",
       "                                             warm_start=False),\n",
       "                max_features=None, norm_order=1, prefit=False, threshold=None)"
      ]
     },
     "execution_count": 19,
     "metadata": {},
     "output_type": "execute_result"
    }
   ],
   "source": [
    "sel_ = SelectFromModel(LogisticRegression(penalty='l2')) ##penalty is ridge regression\n",
    "sel_.fit(scaler.transform(X_train), y_train)"
   ]
  },
  {
   "cell_type": "code",
   "execution_count": 20,
   "metadata": {},
   "outputs": [
    {
     "data": {
      "text/plain": [
       "array([False, False, False, ...,  True, False, False])"
      ]
     },
     "execution_count": 20,
     "metadata": {},
     "output_type": "execute_result"
    }
   ],
   "source": [
    "sel_.get_support()"
   ]
  },
  {
   "cell_type": "code",
   "execution_count": 21,
   "metadata": {},
   "outputs": [
    {
     "name": "stdout",
     "output_type": "stream",
     "text": [
      "total features: 55169\n",
      "selected features: 20765\n",
      "features with coefficients shrank to zero: 12063\n"
     ]
    }
   ],
   "source": [
    "## Make a list of with the selected features.\n",
    "selected_feat = X_train.columns[(sel_.get_support())]\n",
    "print('total features: {}'.format((X_train.shape[1])))\n",
    "print('selected features: {}'.format(len(selected_feat)))\n",
    "print('features with coefficients shrank to zero: {}'.format(\n",
    "      np.sum(sel_.estimator_.coef_ == 0)))"
   ]
  },
  {
   "cell_type": "code",
   "execution_count": 22,
   "metadata": {},
   "outputs": [],
   "source": [
    "ridge_selected_feature = selected_feat"
   ]
  },
  {
   "cell_type": "markdown",
   "metadata": {},
   "source": [
    "# Elastic Net regularizer"
   ]
  },
  {
   "cell_type": "code",
   "execution_count": 23,
   "metadata": {},
   "outputs": [],
   "source": [
    "#sel_ = SelectFromModel(LogisticRegression(penalty='elasticnet')) ##penalty is ridge regression\n",
    "#sel_.fit(scaler.transform(X_train), y_train)"
   ]
  },
  {
   "cell_type": "code",
   "execution_count": 24,
   "metadata": {},
   "outputs": [],
   "source": [
    "#sel_.get_support()"
   ]
  },
  {
   "cell_type": "markdown",
   "metadata": {},
   "source": [
    "# Low variance filtering"
   ]
  },
  {
   "cell_type": "code",
   "execution_count": 25,
   "metadata": {},
   "outputs": [],
   "source": [
    "from sklearn.feature_selection import VarianceThreshold"
   ]
  },
  {
   "cell_type": "code",
   "execution_count": 26,
   "metadata": {},
   "outputs": [
    {
     "name": "stdout",
     "output_type": "stream",
     "text": [
      "(407, 55169)\n",
      "(407, 23945)\n"
     ]
    }
   ],
   "source": [
    "sel = VarianceThreshold(threshold=1)\n",
    "res = sel.fit_transform(X_train)\n",
    "print(X_train.shape)\n",
    "print(res.shape)"
   ]
  },
  {
   "cell_type": "code",
   "execution_count": 27,
   "metadata": {},
   "outputs": [],
   "source": [
    "def variance_threshold_selector(data, threshold=0.5):\n",
    "    selector = VarianceThreshold(threshold)\n",
    "    selector.fit(data)\n",
    "    return data[data.columns[selector.get_support(indices=True)]]"
   ]
  },
  {
   "cell_type": "code",
   "execution_count": 28,
   "metadata": {},
   "outputs": [],
   "source": [
    "df_variance = variance_threshold_selector(X_train, threshold=1)"
   ]
  },
  {
   "cell_type": "code",
   "execution_count": 29,
   "metadata": {},
   "outputs": [],
   "source": [
    "variance_selected_feature = df_variance.columns ## Feature selector that removes all low-variance features."
   ]
  },
  {
   "cell_type": "markdown",
   "metadata": {},
   "source": [
    "# Compare Lasso, Rigid, Low variance filtering"
   ]
  },
  {
   "cell_type": "code",
   "execution_count": 30,
   "metadata": {},
   "outputs": [
    {
     "data": {
      "text/plain": [
       "Index(['ENSG00000000938', 'ENSG00000000971', 'ENSG00000001084',\n",
       "       'ENSG00000002587', 'ENSG00000002745', 'ENSG00000002834',\n",
       "       'ENSG00000002933', 'ENSG00000003989', 'ENSG00000004468',\n",
       "       'ENSG00000004809',\n",
       "       ...\n",
       "       'ENSG00000283654', 'ENSG00000283657', 'ENSG00000283663',\n",
       "       'ENSG00000283674', 'ENSG00000283676', 'ENSG00000283683',\n",
       "       'ENSG00000283684', 'ENSG00000283689', 'ENSG00000283693',\n",
       "       'ENSG00000283696'],\n",
       "      dtype='object', length=20765)"
      ]
     },
     "execution_count": 30,
     "metadata": {},
     "output_type": "execute_result"
    }
   ],
   "source": [
    "variance_selected_feature ## 23945 features\n",
    "lasso_selected_feature ## 266 features \n",
    "ridge_selected_feature ## 20765 features"
   ]
  },
  {
   "cell_type": "code",
   "execution_count": 31,
   "metadata": {},
   "outputs": [
    {
     "data": {
      "text/plain": [
       "Index(['ENSG00000000419', 'ENSG00000000457', 'ENSG00000000460',\n",
       "       'ENSG00000000938', 'ENSG00000000971', 'ENSG00000001036',\n",
       "       'ENSG00000001084', 'ENSG00000001167', 'ENSG00000001460',\n",
       "       'ENSG00000001461',\n",
       "       ...\n",
       "       'ENSG00000283632', 'ENSG00000283633', 'ENSG00000283635',\n",
       "       'ENSG00000283646', 'ENSG00000283652', 'ENSG00000283654',\n",
       "       'ENSG00000283662', 'ENSG00000283667', 'ENSG00000283674',\n",
       "       'ENSG00000283696'],\n",
       "      dtype='object', length=23945)"
      ]
     },
     "execution_count": 31,
     "metadata": {},
     "output_type": "execute_result"
    }
   ],
   "source": [
    "variance_threshold_selector(X_train, threshold=1)"
   ]
  },
  {
   "cell_type": "code",
   "execution_count": 35,
   "metadata": {},
   "outputs": [
    {
     "data": {
      "text/plain": [
       "43"
      ]
     },
     "execution_count": 35,
     "metadata": {},
     "output_type": "execute_result"
    }
   ],
   "source": [
    "count = 0\n",
    "for i in range(len(lasso_selected_feature)):\n",
    "    if lasso_selected_feature[i] in variance_selected_feature:\n",
    "        count += 1\n",
    "count"
   ]
  },
  {
   "cell_type": "code",
   "execution_count": 36,
   "metadata": {},
   "outputs": [
    {
     "data": {
      "text/plain": [
       "266"
      ]
     },
     "execution_count": 36,
     "metadata": {},
     "output_type": "execute_result"
    }
   ],
   "source": [
    "count = 0\n",
    "for i in range(len(lasso_selected_feature)):\n",
    "    if lasso_selected_feature[i] in ridge_selected_feature:\n",
    "        count += 1\n",
    "count"
   ]
  },
  {
   "cell_type": "code",
   "execution_count": 38,
   "metadata": {},
   "outputs": [
    {
     "data": {
      "text/plain": [
       "7817"
      ]
     },
     "execution_count": 38,
     "metadata": {},
     "output_type": "execute_result"
    }
   ],
   "source": [
    "count = 0\n",
    "for i in range(len(ridge_selected_feature)):\n",
    "    if ridge_selected_feature[i] in variance_selected_feature:\n",
    "        count += 1\n",
    "count"
   ]
  },
  {
   "cell_type": "code",
   "execution_count": null,
   "metadata": {},
   "outputs": [],
   "source": []
  },
  {
   "cell_type": "markdown",
   "metadata": {},
   "source": [
    "## Points to discuss\n",
    "### 1) majority do not overlap in variance threshold selector\n",
    "### 2) remove low-variance features, then apply different regularizers\n",
    "### 3) heatmap to visualize selected genes\n",
    "### 4) cross validation, I can use various performance metric to see if the method is rigorous. Would this be better than looking at whether same gene appears in 10 folds?"
   ]
  },
  {
   "cell_type": "code",
   "execution_count": 39,
   "metadata": {},
   "outputs": [],
   "source": [
    "#https://scikit-learn.org/stable/modules/generated/sklearn.linear_model.LogisticRegressionCV.html"
   ]
  },
  {
   "cell_type": "code",
   "execution_count": null,
   "metadata": {},
   "outputs": [],
   "source": []
  },
  {
   "cell_type": "code",
   "execution_count": null,
   "metadata": {},
   "outputs": [],
   "source": []
  },
  {
   "cell_type": "code",
   "execution_count": null,
   "metadata": {},
   "outputs": [],
   "source": []
  },
  {
   "cell_type": "code",
   "execution_count": null,
   "metadata": {},
   "outputs": [],
   "source": []
  },
  {
   "cell_type": "code",
   "execution_count": null,
   "metadata": {},
   "outputs": [],
   "source": []
  },
  {
   "cell_type": "code",
   "execution_count": null,
   "metadata": {},
   "outputs": [],
   "source": []
  },
  {
   "cell_type": "code",
   "execution_count": null,
   "metadata": {},
   "outputs": [],
   "source": []
  }
 ],
 "metadata": {
  "kernelspec": {
   "display_name": "Python 3",
   "language": "python",
   "name": "python3"
  },
  "language_info": {
   "codemirror_mode": {
    "name": "ipython",
    "version": 3
   },
   "file_extension": ".py",
   "mimetype": "text/x-python",
   "name": "python",
   "nbconvert_exporter": "python",
   "pygments_lexer": "ipython3",
   "version": "3.7.4"
  }
 },
 "nbformat": 4,
 "nbformat_minor": 2
}
