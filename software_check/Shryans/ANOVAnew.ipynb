{
 "cells": [
  {
   "cell_type": "markdown",
   "metadata": {},
   "source": [
    "# Anova Analysis of ~55k genes dataset\n"
   ]
  },
  {
   "cell_type": "markdown",
   "metadata": {},
   "source": [
    "Import all requisite libraries. "
   ]
  },
  {
   "cell_type": "code",
   "execution_count": 15,
   "metadata": {},
   "outputs": [],
   "source": [
    "import pandas as pd\n",
    "import seaborn as sns\n",
    "import matplotlib.pyplot as plt\n",
    "import numpy as np\n",
    "from scipy import stats\n",
    "import patsy\n",
    "\n",
    "from sklearn import manifold\n",
    "from sklearn.manifold import TSNE\n",
    "from mpl_toolkits.mplot3d import Axes3D\n",
    "from matplotlib.ticker import NullFormatter\n",
    "from sklearn.decomposition import PCA\n",
    "\n",
    "from time import time"
   ]
  },
  {
   "cell_type": "markdown",
   "metadata": {},
   "source": [
    "Load the data"
   ]
  },
  {
   "cell_type": "code",
   "execution_count": 17,
   "metadata": {
    "scrolled": true
   },
   "outputs": [
    {
     "data": {
      "text/html": [
       "<div>\n",
       "<style scoped>\n",
       "    .dataframe tbody tr th:only-of-type {\n",
       "        vertical-align: middle;\n",
       "    }\n",
       "\n",
       "    .dataframe tbody tr th {\n",
       "        vertical-align: top;\n",
       "    }\n",
       "\n",
       "    .dataframe thead th {\n",
       "        text-align: right;\n",
       "    }\n",
       "</style>\n",
       "<table border=\"1\" class=\"dataframe\">\n",
       "  <thead>\n",
       "    <tr style=\"text-align: right;\">\n",
       "      <th></th>\n",
       "      <th>100_2</th>\n",
       "      <th>101_3</th>\n",
       "      <th>102_2</th>\n",
       "      <th>103_3</th>\n",
       "      <th>104_2</th>\n",
       "      <th>105_2</th>\n",
       "      <th>106_4</th>\n",
       "      <th>107_4</th>\n",
       "      <th>109_1</th>\n",
       "      <th>11_4</th>\n",
       "      <th>...</th>\n",
       "      <th>90_2</th>\n",
       "      <th>91_2</th>\n",
       "      <th>92_3</th>\n",
       "      <th>93_2</th>\n",
       "      <th>94_4</th>\n",
       "      <th>95_4</th>\n",
       "      <th>96_3</th>\n",
       "      <th>97_2</th>\n",
       "      <th>98_3</th>\n",
       "      <th>99_1</th>\n",
       "    </tr>\n",
       "    <tr>\n",
       "      <th>gene</th>\n",
       "      <th></th>\n",
       "      <th></th>\n",
       "      <th></th>\n",
       "      <th></th>\n",
       "      <th></th>\n",
       "      <th></th>\n",
       "      <th></th>\n",
       "      <th></th>\n",
       "      <th></th>\n",
       "      <th></th>\n",
       "      <th></th>\n",
       "      <th></th>\n",
       "      <th></th>\n",
       "      <th></th>\n",
       "      <th></th>\n",
       "      <th></th>\n",
       "      <th></th>\n",
       "      <th></th>\n",
       "      <th></th>\n",
       "      <th></th>\n",
       "      <th></th>\n",
       "    </tr>\n",
       "  </thead>\n",
       "  <tbody>\n",
       "    <tr>\n",
       "      <th>TSPAN6</th>\n",
       "      <td>14.004157</td>\n",
       "      <td>15.591177</td>\n",
       "      <td>14.495233</td>\n",
       "      <td>14.146105</td>\n",
       "      <td>14.906343</td>\n",
       "      <td>10.979150</td>\n",
       "      <td>14.834945</td>\n",
       "      <td>27.516201</td>\n",
       "      <td>20.823631</td>\n",
       "      <td>22.148596</td>\n",
       "      <td>...</td>\n",
       "      <td>10.937974</td>\n",
       "      <td>17.380791</td>\n",
       "      <td>18.089617</td>\n",
       "      <td>14.911962</td>\n",
       "      <td>24.344427</td>\n",
       "      <td>14.048984</td>\n",
       "      <td>29.635023</td>\n",
       "      <td>12.572984</td>\n",
       "      <td>14.349935</td>\n",
       "      <td>16.764118</td>\n",
       "    </tr>\n",
       "    <tr>\n",
       "      <th>DPM1</th>\n",
       "      <td>15.809138</td>\n",
       "      <td>18.622794</td>\n",
       "      <td>18.438789</td>\n",
       "      <td>22.497419</td>\n",
       "      <td>22.107475</td>\n",
       "      <td>12.703149</td>\n",
       "      <td>19.156937</td>\n",
       "      <td>25.253356</td>\n",
       "      <td>19.814557</td>\n",
       "      <td>27.092479</td>\n",
       "      <td>...</td>\n",
       "      <td>30.576609</td>\n",
       "      <td>17.264141</td>\n",
       "      <td>25.772841</td>\n",
       "      <td>18.062377</td>\n",
       "      <td>29.177512</td>\n",
       "      <td>29.234282</td>\n",
       "      <td>27.439837</td>\n",
       "      <td>19.257355</td>\n",
       "      <td>24.429057</td>\n",
       "      <td>20.779476</td>\n",
       "    </tr>\n",
       "    <tr>\n",
       "      <th>SCYL3</th>\n",
       "      <td>26.327193</td>\n",
       "      <td>31.553572</td>\n",
       "      <td>28.990467</td>\n",
       "      <td>25.650467</td>\n",
       "      <td>30.028720</td>\n",
       "      <td>10.525466</td>\n",
       "      <td>23.128497</td>\n",
       "      <td>25.162842</td>\n",
       "      <td>22.291376</td>\n",
       "      <td>29.366665</td>\n",
       "      <td>...</td>\n",
       "      <td>22.704582</td>\n",
       "      <td>19.013885</td>\n",
       "      <td>22.077113</td>\n",
       "      <td>20.162653</td>\n",
       "      <td>37.411656</td>\n",
       "      <td>34.915857</td>\n",
       "      <td>25.336116</td>\n",
       "      <td>27.214939</td>\n",
       "      <td>29.297785</td>\n",
       "      <td>14.053752</td>\n",
       "    </tr>\n",
       "    <tr>\n",
       "      <th>C1orf112</th>\n",
       "      <td>16.929470</td>\n",
       "      <td>19.179622</td>\n",
       "      <td>21.742850</td>\n",
       "      <td>19.088719</td>\n",
       "      <td>16.346569</td>\n",
       "      <td>13.519780</td>\n",
       "      <td>29.553079</td>\n",
       "      <td>15.477863</td>\n",
       "      <td>25.135132</td>\n",
       "      <td>19.577777</td>\n",
       "      <td>...</td>\n",
       "      <td>23.201763</td>\n",
       "      <td>19.597133</td>\n",
       "      <td>29.954850</td>\n",
       "      <td>18.062377</td>\n",
       "      <td>25.418446</td>\n",
       "      <td>26.858351</td>\n",
       "      <td>16.372436</td>\n",
       "      <td>16.710928</td>\n",
       "      <td>19.218664</td>\n",
       "      <td>12.447609</td>\n",
       "    </tr>\n",
       "    <tr>\n",
       "      <th>FGR</th>\n",
       "      <td>1.307055</td>\n",
       "      <td>0.742437</td>\n",
       "      <td>2.238235</td>\n",
       "      <td>0.937392</td>\n",
       "      <td>1.152181</td>\n",
       "      <td>3.085050</td>\n",
       "      <td>1.752159</td>\n",
       "      <td>1.719763</td>\n",
       "      <td>1.559479</td>\n",
       "      <td>1.779798</td>\n",
       "      <td>...</td>\n",
       "      <td>1.740132</td>\n",
       "      <td>1.633094</td>\n",
       "      <td>0.875304</td>\n",
       "      <td>4.410580</td>\n",
       "      <td>1.521527</td>\n",
       "      <td>1.136315</td>\n",
       "      <td>1.554924</td>\n",
       "      <td>2.307700</td>\n",
       "      <td>0.854163</td>\n",
       "      <td>1.204607</td>\n",
       "    </tr>\n",
       "  </tbody>\n",
       "</table>\n",
       "<p>5 rows × 453 columns</p>\n",
       "</div>"
      ],
      "text/plain": [
       "              100_2      101_3      102_2      103_3      104_2      105_2  \\\n",
       "gene                                                                         \n",
       "TSPAN6    14.004157  15.591177  14.495233  14.146105  14.906343  10.979150   \n",
       "DPM1      15.809138  18.622794  18.438789  22.497419  22.107475  12.703149   \n",
       "SCYL3     26.327193  31.553572  28.990467  25.650467  30.028720  10.525466   \n",
       "C1orf112  16.929470  19.179622  21.742850  19.088719  16.346569  13.519780   \n",
       "FGR        1.307055   0.742437   2.238235   0.937392   1.152181   3.085050   \n",
       "\n",
       "              106_4      107_4      109_1       11_4  ...       90_2  \\\n",
       "gene                                                  ...              \n",
       "TSPAN6    14.834945  27.516201  20.823631  22.148596  ...  10.937974   \n",
       "DPM1      19.156937  25.253356  19.814557  27.092479  ...  30.576609   \n",
       "SCYL3     23.128497  25.162842  22.291376  29.366665  ...  22.704582   \n",
       "C1orf112  29.553079  15.477863  25.135132  19.577777  ...  23.201763   \n",
       "FGR        1.752159   1.719763   1.559479   1.779798  ...   1.740132   \n",
       "\n",
       "               91_2       92_3       93_2       94_4       95_4       96_3  \\\n",
       "gene                                                                         \n",
       "TSPAN6    17.380791  18.089617  14.911962  24.344427  14.048984  29.635023   \n",
       "DPM1      17.264141  25.772841  18.062377  29.177512  29.234282  27.439837   \n",
       "SCYL3     19.013885  22.077113  20.162653  37.411656  34.915857  25.336116   \n",
       "C1orf112  19.597133  29.954850  18.062377  25.418446  26.858351  16.372436   \n",
       "FGR        1.633094   0.875304   4.410580   1.521527   1.136315   1.554924   \n",
       "\n",
       "               97_2       98_3       99_1  \n",
       "gene                                       \n",
       "TSPAN6    12.572984  14.349935  16.764118  \n",
       "DPM1      19.257355  24.429057  20.779476  \n",
       "SCYL3     27.214939  29.297785  14.053752  \n",
       "C1orf112  16.710928  19.218664  12.447609  \n",
       "FGR        2.307700   0.854163   1.204607  \n",
       "\n",
       "[5 rows x 453 columns]"
      ]
     },
     "execution_count": 17,
     "metadata": {},
     "output_type": "execute_result"
    }
   ],
   "source": [
    "#load the data \n",
    "df = pd.read_csv('genename_norm.tsv', sep='\\t')\n",
    "dfn = pd.DataFrame()\n",
    "##dfn['age'] = df['age']\n",
    "##dfn['mgs_level'] = df['mgs_level']\n",
    "df.rename(columns={df.columns[0]: \"gene\" }, inplace = True)\n",
    "df = df.set_index('gene')\n",
    "\n",
    "## See whether we have the table in the right format\n",
    "df.head()"
   ]
  },
  {
   "cell_type": "code",
   "execution_count": 18,
   "metadata": {
    "scrolled": true
   },
   "outputs": [
    {
     "data": {
      "text/html": [
       "<div>\n",
       "<style scoped>\n",
       "    .dataframe tbody tr th:only-of-type {\n",
       "        vertical-align: middle;\n",
       "    }\n",
       "\n",
       "    .dataframe tbody tr th {\n",
       "        vertical-align: top;\n",
       "    }\n",
       "\n",
       "    .dataframe thead th {\n",
       "        text-align: right;\n",
       "    }\n",
       "</style>\n",
       "<table border=\"1\" class=\"dataframe\">\n",
       "  <thead>\n",
       "    <tr style=\"text-align: right;\">\n",
       "      <th></th>\n",
       "      <th>100_2</th>\n",
       "      <th>101_3</th>\n",
       "      <th>102_2</th>\n",
       "      <th>103_3</th>\n",
       "      <th>104_2</th>\n",
       "      <th>105_2</th>\n",
       "      <th>106_4</th>\n",
       "      <th>107_4</th>\n",
       "      <th>109_1</th>\n",
       "      <th>11_4</th>\n",
       "      <th>...</th>\n",
       "      <th>90_2</th>\n",
       "      <th>91_2</th>\n",
       "      <th>92_3</th>\n",
       "      <th>93_2</th>\n",
       "      <th>94_4</th>\n",
       "      <th>95_4</th>\n",
       "      <th>96_3</th>\n",
       "      <th>97_2</th>\n",
       "      <th>98_3</th>\n",
       "      <th>99_1</th>\n",
       "    </tr>\n",
       "    <tr>\n",
       "      <th>gene</th>\n",
       "      <th></th>\n",
       "      <th></th>\n",
       "      <th></th>\n",
       "      <th></th>\n",
       "      <th></th>\n",
       "      <th></th>\n",
       "      <th></th>\n",
       "      <th></th>\n",
       "      <th></th>\n",
       "      <th></th>\n",
       "      <th></th>\n",
       "      <th></th>\n",
       "      <th></th>\n",
       "      <th></th>\n",
       "      <th></th>\n",
       "      <th></th>\n",
       "      <th></th>\n",
       "      <th></th>\n",
       "      <th></th>\n",
       "      <th></th>\n",
       "      <th></th>\n",
       "    </tr>\n",
       "  </thead>\n",
       "  <tbody>\n",
       "    <tr>\n",
       "      <th>TSPAN6</th>\n",
       "      <td>16.110884</td>\n",
       "      <td>18.884343</td>\n",
       "      <td>16.823609</td>\n",
       "      <td>15.921594</td>\n",
       "      <td>16.823812</td>\n",
       "      <td>12.225675</td>\n",
       "      <td>15.985625</td>\n",
       "      <td>31.457432</td>\n",
       "      <td>24.027682</td>\n",
       "      <td>26.116206</td>\n",
       "      <td>...</td>\n",
       "      <td>13.129123</td>\n",
       "      <td>20.631651</td>\n",
       "      <td>20.263823</td>\n",
       "      <td>17.059386</td>\n",
       "      <td>26.464210</td>\n",
       "      <td>16.071976</td>\n",
       "      <td>35.970599</td>\n",
       "      <td>14.357550</td>\n",
       "      <td>16.191769</td>\n",
       "      <td>18.940736</td>\n",
       "    </tr>\n",
       "    <tr>\n",
       "      <th>DPM1</th>\n",
       "      <td>18.187398</td>\n",
       "      <td>22.556299</td>\n",
       "      <td>21.400620</td>\n",
       "      <td>25.321090</td>\n",
       "      <td>24.951257</td>\n",
       "      <td>14.145409</td>\n",
       "      <td>20.642854</td>\n",
       "      <td>28.870472</td>\n",
       "      <td>22.863345</td>\n",
       "      <td>31.945716</td>\n",
       "      <td>...</td>\n",
       "      <td>36.701867</td>\n",
       "      <td>20.493184</td>\n",
       "      <td>28.870500</td>\n",
       "      <td>20.663482</td>\n",
       "      <td>31.718134</td>\n",
       "      <td>33.443891</td>\n",
       "      <td>33.306110</td>\n",
       "      <td>21.990679</td>\n",
       "      <td>27.564560</td>\n",
       "      <td>23.477439</td>\n",
       "    </tr>\n",
       "    <tr>\n",
       "      <th>SCYL3</th>\n",
       "      <td>30.287746</td>\n",
       "      <td>38.218314</td>\n",
       "      <td>33.647218</td>\n",
       "      <td>28.869879</td>\n",
       "      <td>33.891447</td>\n",
       "      <td>11.720482</td>\n",
       "      <td>24.922470</td>\n",
       "      <td>28.766994</td>\n",
       "      <td>25.721263</td>\n",
       "      <td>34.627291</td>\n",
       "      <td>...</td>\n",
       "      <td>27.252877</td>\n",
       "      <td>22.570196</td>\n",
       "      <td>24.730579</td>\n",
       "      <td>23.066212</td>\n",
       "      <td>40.669264</td>\n",
       "      <td>39.943587</td>\n",
       "      <td>30.752642</td>\n",
       "      <td>31.077736</td>\n",
       "      <td>33.058196</td>\n",
       "      <td>15.878461</td>\n",
       "    </tr>\n",
       "    <tr>\n",
       "      <th>C1orf112</th>\n",
       "      <td>19.476269</td>\n",
       "      <td>23.230740</td>\n",
       "      <td>25.235414</td>\n",
       "      <td>21.484561</td>\n",
       "      <td>18.449301</td>\n",
       "      <td>15.054757</td>\n",
       "      <td>31.845379</td>\n",
       "      <td>17.694806</td>\n",
       "      <td>29.002576</td>\n",
       "      <td>23.084861</td>\n",
       "      <td>...</td>\n",
       "      <td>27.849655</td>\n",
       "      <td>23.262533</td>\n",
       "      <td>33.555147</td>\n",
       "      <td>20.663482</td>\n",
       "      <td>27.631748</td>\n",
       "      <td>30.725836</td>\n",
       "      <td>19.872646</td>\n",
       "      <td>19.082820</td>\n",
       "      <td>21.685406</td>\n",
       "      <td>14.063780</td>\n",
       "    </tr>\n",
       "    <tr>\n",
       "      <th>FGR</th>\n",
       "      <td>1.503683</td>\n",
       "      <td>0.899254</td>\n",
       "      <td>2.597763</td>\n",
       "      <td>1.055045</td>\n",
       "      <td>1.300391</td>\n",
       "      <td>3.435314</td>\n",
       "      <td>1.888066</td>\n",
       "      <td>1.966090</td>\n",
       "      <td>1.799430</td>\n",
       "      <td>2.098624</td>\n",
       "      <td>...</td>\n",
       "      <td>2.088724</td>\n",
       "      <td>1.938544</td>\n",
       "      <td>0.980508</td>\n",
       "      <td>5.045734</td>\n",
       "      <td>1.654013</td>\n",
       "      <td>1.299939</td>\n",
       "      <td>1.887346</td>\n",
       "      <td>2.635247</td>\n",
       "      <td>0.963796</td>\n",
       "      <td>1.361011</td>\n",
       "    </tr>\n",
       "  </tbody>\n",
       "</table>\n",
       "<p>5 rows × 453 columns</p>\n",
       "</div>"
      ],
      "text/plain": [
       "              100_2      101_3      102_2      103_3      104_2      105_2  \\\n",
       "gene                                                                         \n",
       "TSPAN6    16.110884  18.884343  16.823609  15.921594  16.823812  12.225675   \n",
       "DPM1      18.187398  22.556299  21.400620  25.321090  24.951257  14.145409   \n",
       "SCYL3     30.287746  38.218314  33.647218  28.869879  33.891447  11.720482   \n",
       "C1orf112  19.476269  23.230740  25.235414  21.484561  18.449301  15.054757   \n",
       "FGR        1.503683   0.899254   2.597763   1.055045   1.300391   3.435314   \n",
       "\n",
       "              106_4      107_4      109_1       11_4  ...       90_2  \\\n",
       "gene                                                  ...              \n",
       "TSPAN6    15.985625  31.457432  24.027682  26.116206  ...  13.129123   \n",
       "DPM1      20.642854  28.870472  22.863345  31.945716  ...  36.701867   \n",
       "SCYL3     24.922470  28.766994  25.721263  34.627291  ...  27.252877   \n",
       "C1orf112  31.845379  17.694806  29.002576  23.084861  ...  27.849655   \n",
       "FGR        1.888066   1.966090   1.799430   2.098624  ...   2.088724   \n",
       "\n",
       "               91_2       92_3       93_2       94_4       95_4       96_3  \\\n",
       "gene                                                                         \n",
       "TSPAN6    20.631651  20.263823  17.059386  26.464210  16.071976  35.970599   \n",
       "DPM1      20.493184  28.870500  20.663482  31.718134  33.443891  33.306110   \n",
       "SCYL3     22.570196  24.730579  23.066212  40.669264  39.943587  30.752642   \n",
       "C1orf112  23.262533  33.555147  20.663482  27.631748  30.725836  19.872646   \n",
       "FGR        1.938544   0.980508   5.045734   1.654013   1.299939   1.887346   \n",
       "\n",
       "               97_2       98_3       99_1  \n",
       "gene                                       \n",
       "TSPAN6    14.357550  16.191769  18.940736  \n",
       "DPM1      21.990679  27.564560  23.477439  \n",
       "SCYL3     31.077736  33.058196  15.878461  \n",
       "C1orf112  19.082820  21.685406  14.063780  \n",
       "FGR        2.635247   0.963796   1.361011  \n",
       "\n",
       "[5 rows x 453 columns]"
      ]
     },
     "execution_count": 18,
     "metadata": {},
     "output_type": "execute_result"
    }
   ],
   "source": [
    "# Make sure to drop NA\n",
    "dfn = df.dropna()\n",
    "\n",
    "## Get the max library depth\n",
    "max_ld = dfn.sum(axis=0).max()\n",
    "\n",
    "## Multiply by max depth\n",
    "new_df = dfn.multiply(max_ld)\n",
    "\n",
    "## sum across the column, then divide by each library depth\n",
    "dfn = new_df.div(dfn.sum(axis=0), axis=1)\n",
    "\n",
    "dfn.head()\n",
    "    "
   ]
  },
  {
   "cell_type": "markdown",
   "metadata": {},
   "source": [
    "### When row is standardized using mean and sigma, we get all NaN for p values. It could be that that messes up the variance, but I'm not exactly sure why."
   ]
  },
  {
   "cell_type": "code",
   "execution_count": 19,
   "metadata": {},
   "outputs": [],
   "source": [
    "## This gave me NaN's for all p-values\n",
    "# ## Mean across row\n",
    "# ave = dfn.mean(axis=1)\n",
    "\n",
    "# ## Sigma across row\n",
    "# sig = dfn.std(axis=1)\n",
    "\n",
    "# ## Subtract the mean from the row\n",
    "# df_sub = dfn.sub(dfn.mean(axis=1), axis=0)\n",
    "\n",
    "# ## Divide by sigma\n",
    "# dfn = df_sub.div(df_sub.std(axis=1), axis=0)"
   ]
  },
  {
   "cell_type": "code",
   "execution_count": 30,
   "metadata": {},
   "outputs": [
    {
     "data": {
      "text/html": [
       "<div>\n",
       "<style scoped>\n",
       "    .dataframe tbody tr th:only-of-type {\n",
       "        vertical-align: middle;\n",
       "    }\n",
       "\n",
       "    .dataframe tbody tr th {\n",
       "        vertical-align: top;\n",
       "    }\n",
       "\n",
       "    .dataframe thead th {\n",
       "        text-align: right;\n",
       "    }\n",
       "</style>\n",
       "<table border=\"1\" class=\"dataframe\">\n",
       "  <thead>\n",
       "    <tr style=\"text-align: right;\">\n",
       "      <th></th>\n",
       "      <th>0</th>\n",
       "      <th>1</th>\n",
       "      <th>2</th>\n",
       "      <th>3</th>\n",
       "      <th>4</th>\n",
       "      <th>5</th>\n",
       "      <th>6</th>\n",
       "      <th>7</th>\n",
       "      <th>8</th>\n",
       "      <th>9</th>\n",
       "      <th>...</th>\n",
       "      <th>18610</th>\n",
       "      <th>18611</th>\n",
       "      <th>18612</th>\n",
       "      <th>18613</th>\n",
       "      <th>18614</th>\n",
       "      <th>18615</th>\n",
       "      <th>18616</th>\n",
       "      <th>18617</th>\n",
       "      <th>18618</th>\n",
       "      <th>18619</th>\n",
       "    </tr>\n",
       "  </thead>\n",
       "  <tbody>\n",
       "    <tr>\n",
       "      <th>109_1</th>\n",
       "      <td>24.027682</td>\n",
       "      <td>22.863345</td>\n",
       "      <td>25.721263</td>\n",
       "      <td>29.002576</td>\n",
       "      <td>1.799430</td>\n",
       "      <td>19.023149</td>\n",
       "      <td>12.807707</td>\n",
       "      <td>36.517842</td>\n",
       "      <td>74.305870</td>\n",
       "      <td>36.306144</td>\n",
       "      <td>...</td>\n",
       "      <td>0.000000</td>\n",
       "      <td>2.141322</td>\n",
       "      <td>3.161704</td>\n",
       "      <td>0.287909</td>\n",
       "      <td>0.0</td>\n",
       "      <td>0.446682</td>\n",
       "      <td>0.693310</td>\n",
       "      <td>0.423395</td>\n",
       "      <td>1.693581</td>\n",
       "      <td>3.069616</td>\n",
       "    </tr>\n",
       "    <tr>\n",
       "      <th>115_1</th>\n",
       "      <td>18.243837</td>\n",
       "      <td>26.837459</td>\n",
       "      <td>34.092730</td>\n",
       "      <td>19.018672</td>\n",
       "      <td>0.986153</td>\n",
       "      <td>7.900497</td>\n",
       "      <td>10.002413</td>\n",
       "      <td>37.896465</td>\n",
       "      <td>70.087328</td>\n",
       "      <td>42.897671</td>\n",
       "      <td>...</td>\n",
       "      <td>0.155671</td>\n",
       "      <td>1.303131</td>\n",
       "      <td>3.921368</td>\n",
       "      <td>1.892006</td>\n",
       "      <td>0.0</td>\n",
       "      <td>0.717779</td>\n",
       "      <td>0.726232</td>\n",
       "      <td>0.352198</td>\n",
       "      <td>2.254065</td>\n",
       "      <td>1.549670</td>\n",
       "    </tr>\n",
       "    <tr>\n",
       "      <th>117_1</th>\n",
       "      <td>17.914393</td>\n",
       "      <td>29.186370</td>\n",
       "      <td>34.319145</td>\n",
       "      <td>31.199223</td>\n",
       "      <td>2.214138</td>\n",
       "      <td>31.572607</td>\n",
       "      <td>11.171335</td>\n",
       "      <td>42.169273</td>\n",
       "      <td>69.443432</td>\n",
       "      <td>36.130713</td>\n",
       "      <td>...</td>\n",
       "      <td>0.438802</td>\n",
       "      <td>1.759234</td>\n",
       "      <td>2.010840</td>\n",
       "      <td>0.580708</td>\n",
       "      <td>0.0</td>\n",
       "      <td>1.047690</td>\n",
       "      <td>0.979253</td>\n",
       "      <td>0.301928</td>\n",
       "      <td>2.214138</td>\n",
       "      <td>2.717352</td>\n",
       "    </tr>\n",
       "    <tr>\n",
       "      <th>119_1</th>\n",
       "      <td>21.142220</td>\n",
       "      <td>27.565173</td>\n",
       "      <td>21.142220</td>\n",
       "      <td>42.150628</td>\n",
       "      <td>2.140984</td>\n",
       "      <td>25.156566</td>\n",
       "      <td>13.782586</td>\n",
       "      <td>45.629728</td>\n",
       "      <td>102.633435</td>\n",
       "      <td>35.460052</td>\n",
       "      <td>...</td>\n",
       "      <td>0.527217</td>\n",
       "      <td>1.591019</td>\n",
       "      <td>6.604937</td>\n",
       "      <td>2.284163</td>\n",
       "      <td>0.0</td>\n",
       "      <td>0.000000</td>\n",
       "      <td>0.535246</td>\n",
       "      <td>0.267623</td>\n",
       "      <td>0.936681</td>\n",
       "      <td>2.408607</td>\n",
       "    </tr>\n",
       "    <tr>\n",
       "      <th>120_1</th>\n",
       "      <td>18.306136</td>\n",
       "      <td>28.505269</td>\n",
       "      <td>20.529024</td>\n",
       "      <td>20.529024</td>\n",
       "      <td>1.999292</td>\n",
       "      <td>21.444331</td>\n",
       "      <td>9.414584</td>\n",
       "      <td>42.496388</td>\n",
       "      <td>59.102669</td>\n",
       "      <td>35.696966</td>\n",
       "      <td>...</td>\n",
       "      <td>0.910076</td>\n",
       "      <td>2.701463</td>\n",
       "      <td>3.199651</td>\n",
       "      <td>0.623716</td>\n",
       "      <td>0.0</td>\n",
       "      <td>1.957449</td>\n",
       "      <td>0.523032</td>\n",
       "      <td>0.261516</td>\n",
       "      <td>0.392274</td>\n",
       "      <td>1.176823</td>\n",
       "    </tr>\n",
       "  </tbody>\n",
       "</table>\n",
       "<p>5 rows × 18620 columns</p>\n",
       "</div>"
      ],
      "text/plain": [
       "           0          1          2          3         4          5      \\\n",
       "109_1  24.027682  22.863345  25.721263  29.002576  1.799430  19.023149   \n",
       "115_1  18.243837  26.837459  34.092730  19.018672  0.986153   7.900497   \n",
       "117_1  17.914393  29.186370  34.319145  31.199223  2.214138  31.572607   \n",
       "119_1  21.142220  27.565173  21.142220  42.150628  2.140984  25.156566   \n",
       "120_1  18.306136  28.505269  20.529024  20.529024  1.999292  21.444331   \n",
       "\n",
       "           6          7           8          9      ...     18610     18611  \\\n",
       "109_1  12.807707  36.517842   74.305870  36.306144  ...  0.000000  2.141322   \n",
       "115_1  10.002413  37.896465   70.087328  42.897671  ...  0.155671  1.303131   \n",
       "117_1  11.171335  42.169273   69.443432  36.130713  ...  0.438802  1.759234   \n",
       "119_1  13.782586  45.629728  102.633435  35.460052  ...  0.527217  1.591019   \n",
       "120_1   9.414584  42.496388   59.102669  35.696966  ...  0.910076  2.701463   \n",
       "\n",
       "          18612     18613  18614     18615     18616     18617     18618  \\\n",
       "109_1  3.161704  0.287909    0.0  0.446682  0.693310  0.423395  1.693581   \n",
       "115_1  3.921368  1.892006    0.0  0.717779  0.726232  0.352198  2.254065   \n",
       "117_1  2.010840  0.580708    0.0  1.047690  0.979253  0.301928  2.214138   \n",
       "119_1  6.604937  2.284163    0.0  0.000000  0.535246  0.267623  0.936681   \n",
       "120_1  3.199651  0.623716    0.0  1.957449  0.523032  0.261516  0.392274   \n",
       "\n",
       "          18619  \n",
       "109_1  3.069616  \n",
       "115_1  1.549670  \n",
       "117_1  2.717352  \n",
       "119_1  2.408607  \n",
       "120_1  1.176823  \n",
       "\n",
       "[5 rows x 18620 columns]"
      ]
     },
     "execution_count": 30,
     "metadata": {},
     "output_type": "execute_result"
    }
   ],
   "source": [
    "## Split the data into different groups for ANOVA testing\n",
    "train_stage1 = {}\n",
    "train_stage2 = {}\n",
    "train_stage3 = {}\n",
    "train_stage4 = {}\n",
    "\n",
    "for col in dfn.columns:\n",
    "    if '_1' in col:\n",
    "        train_stage1[col] = dfn[col]\n",
    "    elif '_2' in col:\n",
    "        train_stage2[col] = dfn[col]\n",
    "    elif '_3' in col:\n",
    "        train_stage3[col] = dfn[col]\n",
    "    elif '_4' in col:\n",
    "        train_stage4[col] = dfn[col]\n",
    "\n",
    "\n",
    "# train_stage1['gene'] = dfn['gene']\n",
    "# train_stage2['gene'] = dfn['gene']\n",
    "# train_stage3['gene'] = dfn['gene']\n",
    "# train_stage4['gene'] = dfn['gene']\n",
    "\n",
    "train_stage1 = pd.DataFrame(train_stage1).transpose()\n",
    "train_stage2 = pd.DataFrame(train_stage2).transpose()\n",
    "train_stage3 = pd.DataFrame(train_stage3).transpose()\n",
    "train_stage4 = pd.DataFrame(train_stage4).transpose()\n",
    "\n",
    "train_stage1.head()"
   ]
  },
  {
   "cell_type": "markdown",
   "metadata": {},
   "source": [
    "# ANOVA Analysis"
   ]
  },
  {
   "cell_type": "code",
   "execution_count": 21,
   "metadata": {
    "scrolled": true
   },
   "outputs": [
    {
     "data": {
      "text/plain": [
       "F_onewayResult(statistic=array([7.48924519, 1.36014452, 1.87313499, ..., 3.44893161, 1.40222579,\n",
       "       4.16205923]), pvalue=array([6.68776542e-05, 2.54370205e-01, 1.33311103e-01, ...,\n",
       "       1.66268102e-02, 2.41489349e-01, 6.33592230e-03]))"
      ]
     },
     "execution_count": 21,
     "metadata": {},
     "output_type": "execute_result"
    }
   ],
   "source": [
    "## Perform Anova analysis\n",
    "stats.f_oneway(train_stage1, train_stage2, train_stage3, train_stage4)"
   ]
  },
  {
   "cell_type": "code",
   "execution_count": 22,
   "metadata": {},
   "outputs": [
    {
     "name": "stdout",
     "output_type": "stream",
     "text": [
      "4678\n",
      "6858\n"
     ]
    }
   ],
   "source": [
    "## Get the list of p values out of the dataframe\n",
    "p_vals = stats.f_oneway(train_stage1, train_stage2, train_stage3, train_stage4).pvalue\n",
    "\n",
    "dfn = dfn.reset_index()\n",
    "\n",
    "## Get the list of genes that these values correspond to\n",
    "gene_list = dfn['gene']\n",
    "\n",
    "## Create list of (gene, p value) pairs\n",
    "pairs = list(zip(gene_list, p_vals))\n",
    "\n",
    "## Use liberal p value threshold\n",
    "threshold_standard_all = list(filter(lambda x: x[1] <= 0.05, pairs))\n",
    "\n",
    "## Use standard p-value threshold\n",
    "threshold_liberal_all = list(filter(lambda x: x[1] <= 0.1, pairs))\n",
    "\n",
    "print(len(threshold_standard_all))\n",
    "print(len(list(threshold_liberal_all)))"
   ]
  },
  {
   "cell_type": "code",
   "execution_count": 8,
   "metadata": {},
   "outputs": [
    {
     "data": {
      "text/plain": [
       "<matplotlib.axes._subplots.AxesSubplot at 0x11fa8d080>"
      ]
     },
     "execution_count": 8,
     "metadata": {},
     "output_type": "execute_result"
    },
    {
     "data": {
      "image/png": "[encoded data removed]",
      "text/plain": [
       "<Figure size 432x288 with 1 Axes>"
      ]
     },
     "metadata": {
      "needs_background": "light"
     },
     "output_type": "display_data"
    }
   ],
   "source": [
    "## Plot the genes that are available\n",
    "y = [i[0] for i in threshold_standard_all]\n",
    "x = [i[1] for i in threshold_standard_all]\n",
    "\n",
    "# sns.set(rc={'figure.figsize':(11.7,8.27)})\n",
    "\n",
    "sns.barplot(x, y)"
   ]
  },
  {
   "cell_type": "code",
   "execution_count": 23,
   "metadata": {},
   "outputs": [
    {
     "name": "stdout",
     "output_type": "stream",
     "text": [
      "3344\n",
      "5345\n"
     ]
    }
   ],
   "source": [
    "## Get the list of p values out of the dataframe\n",
    "p_vals = stats.f_oneway(train_stage1, train_stage2).pvalue\n",
    "\n",
    "## Get the list of genes that these values correspond to\n",
    "gene_list = dfn['gene']\n",
    "\n",
    "## Create list of (gene, p value) pairs\n",
    "pairs = list(zip(gene_list, p_vals))\n",
    "\n",
    "## Use liberal p value threshold\n",
    "threshold_standard12 = list(filter(lambda x: x[1] <= 0.05, pairs))\n",
    "\n",
    "## Use standard p-value threshold\n",
    "threshold_liberal12 = list(filter(lambda x: x[1] <= 0.1, pairs))\n",
    "\n",
    "print(len(threshold_standard12))\n",
    "print(len(list(threshold_liberal12)))"
   ]
  },
  {
   "cell_type": "code",
   "execution_count": 11,
   "metadata": {},
   "outputs": [
    {
     "data": {
      "text/plain": [
       "<matplotlib.axes._subplots.AxesSubplot at 0x16df32a20>"
      ]
     },
     "execution_count": 11,
     "metadata": {},
     "output_type": "execute_result"
    },
    {
     "data": {
      "image/png": "[encoded data removed]",
      "text/plain": [
       "<Figure size 432x288 with 1 Axes>"
      ]
     },
     "metadata": {
      "needs_background": "light"
     },
     "output_type": "display_data"
    }
   ],
   "source": [
    "## Plot the genes that are available\n",
    "y = [i[0] for i in threshold_standard12]\n",
    "x = [i[1] for i in threshold_standard12]\n",
    "\n",
    "# sns.set(rc={'figure.figsize':(11.7,8.27)})\n",
    "\n",
    "sns.barplot(x, y)"
   ]
  },
  {
   "cell_type": "code",
   "execution_count": 24,
   "metadata": {},
   "outputs": [
    {
     "name": "stdout",
     "output_type": "stream",
     "text": [
      "746\n",
      "1400\n"
     ]
    }
   ],
   "source": [
    "## Get the list of p values out of the dataframe\n",
    "p_vals = stats.f_oneway(train_stage1, train_stage3).pvalue\n",
    "\n",
    "## Get the list of genes that these values correspond to\n",
    "gene_list = dfn['gene']\n",
    "\n",
    "## Create list of (gene, p value) pairs\n",
    "pairs = list(zip(gene_list, p_vals))\n",
    "\n",
    "## Use liberal p value threshold\n",
    "threshold_standard13 = list(filter(lambda x: x[1] <= 0.05, pairs))\n",
    "\n",
    "## Use standard p-value threshold\n",
    "threshold_liberal13 = list(filter(lambda x: x[1] <= 0.1, pairs))\n",
    "\n",
    "print(len(threshold_standard13))\n",
    "print(len(list(threshold_liberal13)))"
   ]
  },
  {
   "cell_type": "code",
   "execution_count": 13,
   "metadata": {},
   "outputs": [
    {
     "data": {
      "text/plain": [
       "<matplotlib.axes._subplots.AxesSubplot at 0x182e06438>"
      ]
     },
     "execution_count": 13,
     "metadata": {},
     "output_type": "execute_result"
    },
    {
     "data": {
      "image/png": "[encoded data removed]",
      "text/plain": [
       "<Figure size 432x288 with 1 Axes>"
      ]
     },
     "metadata": {
      "needs_background": "light"
     },
     "output_type": "display_data"
    }
   ],
   "source": [
    "## Plot the genes that are available\n",
    "y = [i[0] for i in threshold_standard13]\n",
    "x = [i[1] for i in threshold_standard13]\n",
    "\n",
    "# sns.set(rc={'figure.figsize':(11.7,8.27)})\n",
    "\n",
    "sns.barplot(x, y)"
   ]
  },
  {
   "cell_type": "code",
   "execution_count": 25,
   "metadata": {},
   "outputs": [
    {
     "name": "stdout",
     "output_type": "stream",
     "text": [
      "2735\n",
      "3933\n"
     ]
    }
   ],
   "source": [
    "## Get the list of p values out of the dataframe\n",
    "p_vals = stats.f_oneway(train_stage1, train_stage4).pvalue\n",
    "\n",
    "## Get the list of genes that these values correspond to\n",
    "gene_list = dfn['gene']\n",
    "\n",
    "## Create list of (gene, p value) pairs\n",
    "pairs = list(zip(gene_list, p_vals))\n",
    "\n",
    "## Use liberal p value threshold\n",
    "threshold_standard14 = list(filter(lambda x: x[1] <= 0.05, pairs))\n",
    "\n",
    "## Use standard p-value threshold\n",
    "threshold_liberal14 = list(filter(lambda x: x[1] <= 0.1, pairs))\n",
    "\n",
    "print(len(threshold_standard14))\n",
    "print(len(list(threshold_liberal14)))"
   ]
  },
  {
   "cell_type": "code",
   "execution_count": 15,
   "metadata": {},
   "outputs": [
    {
     "data": {
      "text/plain": [
       "<matplotlib.axes._subplots.AxesSubplot at 0x1798905c0>"
      ]
     },
     "execution_count": 15,
     "metadata": {},
     "output_type": "execute_result"
    },
    {
     "data": {
      "image/png": "[encoded data removed]",
      "text/plain": [
       "<Figure size 432x288 with 1 Axes>"
      ]
     },
     "metadata": {
      "needs_background": "light"
     },
     "output_type": "display_data"
    }
   ],
   "source": [
    "## Plot the genes that are available\n",
    "y = [i[0] for i in threshold_standard14]\n",
    "x = [i[1] for i in threshold_standard14]\n",
    "\n",
    "# sns.set(rc={'figure.figsize':(11.7,8.27)})\n",
    "\n",
    "sns.barplot(x, y)"
   ]
  },
  {
   "cell_type": "code",
   "execution_count": 26,
   "metadata": {},
   "outputs": [
    {
     "name": "stdout",
     "output_type": "stream",
     "text": [
      "5312\n",
      "7496\n"
     ]
    }
   ],
   "source": [
    "## Get the list of p values out of the dataframe\n",
    "p_vals = stats.f_oneway(train_stage2, train_stage3).pvalue\n",
    "\n",
    "## Get the list of genes that these values correspond to\n",
    "gene_list = dfn['gene']\n",
    "\n",
    "## Create list of (gene, p value) pairs\n",
    "pairs = list(zip(gene_list, p_vals))\n",
    "\n",
    "## Use liberal p value threshold\n",
    "threshold_standard23 = list(filter(lambda x: x[1] <= 0.05, pairs))\n",
    "\n",
    "## Use standard p-value threshold\n",
    "threshold_liberal23 = list(filter(lambda x: x[1] <= 0.1, pairs))\n",
    "\n",
    "print(len(threshold_standard23))\n",
    "print(len(list(threshold_liberal23)))"
   ]
  },
  {
   "cell_type": "code",
   "execution_count": 17,
   "metadata": {},
   "outputs": [
    {
     "data": {
      "text/plain": [
       "<matplotlib.axes._subplots.AxesSubplot at 0x1a2130c18>"
      ]
     },
     "execution_count": 17,
     "metadata": {},
     "output_type": "execute_result"
    },
    {
     "data": {
      "image/png": "[encoded data removed]",
      "text/plain": [
       "<Figure size 432x288 with 1 Axes>"
      ]
     },
     "metadata": {
      "needs_background": "light"
     },
     "output_type": "display_data"
    }
   ],
   "source": [
    "## Plot the genes that are available\n",
    "y = [i[0] for i in threshold_standard23]\n",
    "x = [i[1] for i in threshold_standard23]\n",
    "\n",
    "# sns.set(rc={'figure.figsize':(11.7,8.27)})\n",
    "\n",
    "sns.barplot(x, y)"
   ]
  },
  {
   "cell_type": "code",
   "execution_count": 27,
   "metadata": {},
   "outputs": [
    {
     "name": "stdout",
     "output_type": "stream",
     "text": [
      "3160\n",
      "4968\n"
     ]
    }
   ],
   "source": [
    "## Get the list of p values out of the dataframe\n",
    "p_vals = stats.f_oneway(train_stage2, train_stage4).pvalue\n",
    "\n",
    "## Get the list of genes that these values correspond to\n",
    "gene_list = dfn['gene']\n",
    "\n",
    "## Create list of (gene, p value) pairs\n",
    "pairs = list(zip(gene_list, p_vals))\n",
    "\n",
    "## Use liberal p value threshold\n",
    "threshold_standard24 = list(filter(lambda x: x[1] <= 0.05, pairs))\n",
    "\n",
    "## Use standard p-value threshold\n",
    "threshold_liberal24 = list(filter(lambda x: x[1] <= 0.1, pairs))\n",
    "\n",
    "print(len(threshold_standard24))\n",
    "print(len(list(threshold_liberal24)))"
   ]
  },
  {
   "cell_type": "code",
   "execution_count": 19,
   "metadata": {},
   "outputs": [
    {
     "data": {
      "text/plain": [
       "<matplotlib.axes._subplots.AxesSubplot at 0x1ae4e9198>"
      ]
     },
     "execution_count": 19,
     "metadata": {},
     "output_type": "execute_result"
    },
    {
     "data": {
      "image/png": "[encoded data removed]",
      "text/plain": [
       "<Figure size 432x288 with 1 Axes>"
      ]
     },
     "metadata": {
      "needs_background": "light"
     },
     "output_type": "display_data"
    }
   ],
   "source": [
    "## Plot the genes that are available\n",
    "y = [i[0] for i in threshold_standard24]\n",
    "x = [i[1] for i in threshold_standard24]\n",
    "\n",
    "# sns.set(rc={'figure.figsize':(11.7,8.27)})\n",
    "\n",
    "sns.barplot(x, y)"
   ]
  },
  {
   "cell_type": "code",
   "execution_count": 28,
   "metadata": {},
   "outputs": [
    {
     "name": "stdout",
     "output_type": "stream",
     "text": [
      "2735\n",
      "3933\n"
     ]
    }
   ],
   "source": [
    "## Get the list of p values out of the dataframe\n",
    "p_vals = stats.f_oneway(train_stage3, train_stage4).pvalue\n",
    "\n",
    "## Get the list of genes that these values correspond to\n",
    "gene_list = dfn['gene']\n",
    "\n",
    "## Create list of (gene, p value) pairs\n",
    "pairs = list(zip(gene_list, p_vals))\n",
    "\n",
    "## Use liberal p value threshold\n",
    "threshold_standard34 = list(filter(lambda x: x[1] <= 0.05, pairs))\n",
    "\n",
    "## Use standard p-value threshold\n",
    "threshold_liberal34 = list(filter(lambda x: x[1] <= 0.1, pairs))\n",
    "\n",
    "print(len(threshold_standard14))\n",
    "print(len(list(threshold_liberal14)))"
   ]
  },
  {
   "cell_type": "code",
   "execution_count": 21,
   "metadata": {},
   "outputs": [
    {
     "data": {
      "text/plain": [
       "<matplotlib.axes._subplots.AxesSubplot at 0x1b8bb27b8>"
      ]
     },
     "execution_count": 21,
     "metadata": {},
     "output_type": "execute_result"
    },
    {
     "data": {
      "image/png": "[encoded data removed]",
      "text/plain": [
       "<Figure size 432x288 with 1 Axes>"
      ]
     },
     "metadata": {
      "needs_background": "light"
     },
     "output_type": "display_data"
    }
   ],
   "source": [
    "## Plot the genes that are available\n",
    "y = [i[0] for i in threshold_standard34]\n",
    "x = [i[1] for i in threshold_standard34]\n",
    "\n",
    "# sns.set(rc={'figure.figsize':(11.7,8.27)})\n",
    "\n",
    "sns.barplot(x, y)"
   ]
  },
  {
   "cell_type": "code",
   "execution_count": 29,
   "metadata": {
    "scrolled": true
   },
   "outputs": [
    {
     "name": "stdout",
     "output_type": "stream",
     "text": [
      "3344  out of: 3344\n",
      "746  out of: 746\n",
      "2735  out of: 2735\n",
      "5312  out of: 5312\n",
      "3160  out of: 3160\n",
      "1321  out of: 1321\n"
     ]
    }
   ],
   "source": [
    "## Check how many genes are similar between 1/2 and all\n",
    "print(len(set(threshold_standard12).difference(set(threshold_standard_all))), \" out of:\", len(threshold_standard12))\n",
    "\n",
    "## Check how many genes are similar between 1/3 and all\n",
    "print(len(set(threshold_standard13).difference(set(threshold_standard_all))), \" out of:\", len(threshold_standard13))\n",
    "\n",
    "## Check how many genes are similar between 1/4 and all\n",
    "print(len(set(threshold_standard14).difference(set(threshold_standard_all))), \" out of:\", len(threshold_standard14))\n",
    "\n",
    "## Check how many genes are similar between 2/3 and all\n",
    "print(len(set(threshold_standard23).difference(set(threshold_standard_all))), \" out of:\", len(threshold_standard23))\n",
    "\n",
    "## Check how many genes are similar between 2/4 and all\n",
    "print(len(set(threshold_standard24).difference(set(threshold_standard_all))), \" out of:\", len(threshold_standard24))\n",
    "\n",
    "## Check how many genes are similar between 3/4 and all\n",
    "print(len(set(threshold_standard34).difference(set(threshold_standard_all))), \" out of:\", len(threshold_standard34))"
   ]
  },
  {
   "cell_type": "code",
   "execution_count": 31,
   "metadata": {},
   "outputs": [
    {
     "name": "stdout",
     "output_type": "stream",
     "text": [
      "16618\n"
     ]
    }
   ],
   "source": [
    "## Total number of genes that show significant variance\n",
    "print(len(set(threshold_standard12).union(set(threshold_standard13)).union(set(threshold_standard14)).union(set(threshold_standard23)).union(set(threshold_standard24)).union(set(threshold_standard34))))"
   ]
  },
  {
   "cell_type": "code",
   "execution_count": 23,
   "metadata": {},
   "outputs": [
    {
     "name": "stdout",
     "output_type": "stream",
     "text": [
      "gene              TSPAN6      TNMD      DPM1     SCYL3  C1orf112       FGR  \\\n",
      "gene                                                                         \n",
      "TSPAN6          1.000000  0.047169  0.518782  0.117246  0.209996 -0.036858   \n",
      "TNMD            0.047169  1.000000  0.039521  0.009718  0.087072 -0.094728   \n",
      "DPM1            0.518782  0.039521  1.000000  0.435903  0.255872 -0.127359   \n",
      "SCYL3           0.117246  0.009718  0.435903  1.000000  0.102972 -0.157759   \n",
      "C1orf112        0.209996  0.087072  0.255872  0.102972  1.000000 -0.127130   \n",
      "...                  ...       ...       ...       ...       ...       ...   \n",
      "CTD-2331H12.9        NaN       NaN       NaN       NaN       NaN       NaN   \n",
      "RP11-122G18.12 -0.198805  0.037113 -0.040566 -0.122227 -0.216350  0.197114   \n",
      "RP5-937E21.8   -0.087727  0.075245 -0.083679  0.037575 -0.043481 -0.022494   \n",
      "RP11-606M12.1  -0.075087  0.176283 -0.022183  0.031241  0.031029  0.021096   \n",
      "MIR4481              NaN       NaN       NaN       NaN       NaN       NaN   \n",
      "\n",
      "gene                 CFH     FUCA2      GCLC      NFYA  ...  MIR3116-2  Y_RNA  \\\n",
      "gene                                                    ...                     \n",
      "TSPAN6          0.558795  0.685378  0.546837  0.128360  ...        NaN    NaN   \n",
      "TNMD           -0.022361  0.120677  0.027031  0.016348  ...        NaN    NaN   \n",
      "DPM1            0.401584  0.613995  0.538786  0.206112  ...        NaN    NaN   \n",
      "SCYL3          -0.140566  0.251831  0.304744 -0.202080  ...        NaN    NaN   \n",
      "C1orf112        0.176539  0.074532  0.374668  0.470427  ...        NaN    NaN   \n",
      "...                  ...       ...       ...       ...  ...        ...    ...   \n",
      "CTD-2331H12.9        NaN       NaN       NaN       NaN  ...        NaN    NaN   \n",
      "RP11-122G18.12 -0.047422  0.012582 -0.052013 -0.170675  ...        NaN    NaN   \n",
      "RP5-937E21.8   -0.047826 -0.040832 -0.175446 -0.039886  ...        NaN    NaN   \n",
      "RP11-606M12.1  -0.097925 -0.002111 -0.069515  0.068413  ...        NaN    NaN   \n",
      "MIR4481              NaN       NaN       NaN       NaN  ...        NaN    NaN   \n",
      "\n",
      "gene            RP11-158M9.1  IGHVII-20-3  MIR3202-2  CTD-2331H12.9  \\\n",
      "gene                                                                  \n",
      "TSPAN6              0.246015    -0.075991        NaN            NaN   \n",
      "TNMD               -0.011485     0.189793        NaN            NaN   \n",
      "DPM1                0.058318    -0.057839        NaN            NaN   \n",
      "SCYL3               0.047331    -0.029518        NaN            NaN   \n",
      "C1orf112            0.210746    -0.002903        NaN            NaN   \n",
      "...                      ...          ...        ...            ...   \n",
      "CTD-2331H12.9            NaN          NaN        NaN            NaN   \n",
      "RP11-122G18.12     -0.017128     0.074969        NaN            NaN   \n",
      "RP5-937E21.8       -0.006356    -0.023119        NaN            NaN   \n",
      "RP11-606M12.1      -0.169094    -0.053898        NaN            NaN   \n",
      "MIR4481                  NaN          NaN        NaN            NaN   \n",
      "\n",
      "gene            RP11-122G18.12  RP5-937E21.8  RP11-606M12.1  MIR4481  \n",
      "gene                                                                  \n",
      "TSPAN6               -0.198805     -0.087727      -0.075087      NaN  \n",
      "TNMD                  0.037113      0.075245       0.176283      NaN  \n",
      "DPM1                 -0.040566     -0.083679      -0.022183      NaN  \n",
      "SCYL3                -0.122227      0.037575       0.031241      NaN  \n",
      "C1orf112             -0.216350     -0.043481       0.031029      NaN  \n",
      "...                        ...           ...            ...      ...  \n",
      "CTD-2331H12.9              NaN           NaN            NaN      NaN  \n",
      "RP11-122G18.12        1.000000     -0.002974      -0.099983      NaN  \n",
      "RP5-937E21.8         -0.002974      1.000000      -0.065084      NaN  \n",
      "RP11-606M12.1        -0.099983     -0.065084       1.000000      NaN  \n",
      "MIR4481                    NaN           NaN            NaN      NaN  \n",
      "\n",
      "[58051 rows x 58051 columns]\n"
     ]
    }
   ],
   "source": [
    "# Create and print correlation matrix:\n",
    "corr = train_stage1.corr()\n",
    "print(corr)"
   ]
  },
  {
   "cell_type": "code",
   "execution_count": null,
   "metadata": {},
   "outputs": [],
   "source": []
  }
 ],
 "metadata": {
  "kernelspec": {
   "display_name": "Python 3",
   "language": "python",
   "name": "python3"
  },
  "language_info": {
   "codemirror_mode": {
    "name": "ipython",
    "version": 3
   },
   "file_extension": ".py",
   "mimetype": "text/x-python",
   "name": "python",
   "nbconvert_exporter": "python",
   "pygments_lexer": "ipython3",
   "version": "3.7.3"
  }
 },
 "nbformat": 4,
 "nbformat_minor": 2
}
